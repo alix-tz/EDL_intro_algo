{
  "nbformat": 4,
  "nbformat_minor": 0,
  "metadata": {
    "colab": {
      "name": "DHN00_exercices_conditions",
      "provenance": [],
      "collapsed_sections": []
    },
    "kernelspec": {
      "name": "python3",
      "display_name": "Python 3"
    },
    "language_info": {
      "name": "python"
    }
  },
  "cells": [
    {
      "cell_type": "markdown",
      "metadata": {
        "id": "SfCKkaHuyHaq"
      },
      "source": [
        "# Exercices sur les structures conditionnelles\n",
        "\n",
        "[retour vers la leçon sur Colab](https://colab.research.google.com/drive/1rEQPmTL5d5PajxCurrmVrC8LqSaMlPS6?usp=sharing)"
      ]
    },
    {
      "cell_type": "markdown",
      "metadata": {
        "id": "jq5cZwuMyTEW"
      },
      "source": [
        "## Variables définies pour le reste de l'exercice :"
      ]
    },
    {
      "cell_type": "code",
      "metadata": {
        "id": "qm4tURvHyNlv"
      },
      "source": [
        "# Ouvrage A\n",
        "titre_A = 'A'\n",
        "tradition_A = 'Copie'\n",
        "temoin_A = 'Copie. Bibl. nat., Dupuy 350. fol. 57.'\n",
        "institution_A = 'Paris, Bibl. nat. Fr.'\n",
        "nb_pages_A = 234\n",
        "\n",
        "# Ouvrage B\n",
        "titre_B = 'B'\n",
        "tradition_B = 'Original'\n",
        "temoin_B = 'Aut. Bibl. nat., Fonds français, n° 3387, f° 5.'\n",
        "institution_B = 'Turin, Archivio di Stato'\n",
        "nb_pages_B = 100\n",
        "\n",
        "# Ouvrage C\n",
        "titre_C = 'C'\n",
        "tradition_C = 'Original'\n",
        "temoin_C = 'Aut. Bibl. nat., Fonds français, n° 3387, f° 5.'\n",
        "institution_C = 'Inconnue'\n",
        "nb_pages_C = 51"
      ],
      "execution_count": null,
      "outputs": []
    },
    {
      "cell_type": "markdown",
      "metadata": {
        "id": "NMYzZaoEyLYF"
      },
      "source": [
        "## Exercice 1\n",
        "\n",
        "Pour chaque ouvrage, afficher \"l'ouvrage {titre} est conservé à Turin\" si son institution est \"Turin\". Sinon, ne rien faire."
      ]
    },
    {
      "cell_type": "code",
      "metadata": {
        "id": "DqziaLClyfD9"
      },
      "source": [
        ""
      ],
      "execution_count": null,
      "outputs": []
    },
    {
      "cell_type": "markdown",
      "metadata": {
        "id": "TYhTWFUEyfQa"
      },
      "source": [
        "## Exercice 2\n",
        "\n",
        "Tester si la tradition de l'ouvrage A est différente de 'Copie'. Si oui, afficher son titre et son instution de conservation, sinon, afficher afficher le titre de l'ouvrage, son instution de conservation et sa tradition."
      ]
    },
    {
      "cell_type": "code",
      "metadata": {
        "id": "q30nYzJayoF_"
      },
      "source": [
        ""
      ],
      "execution_count": null,
      "outputs": []
    },
    {
      "cell_type": "markdown",
      "metadata": {
        "id": "fC5AconiyofL"
      },
      "source": [
        "### Exercice 3\n",
        "\n",
        "Tester si la somme des pages de tous les ouvrages est supérieure à 300. Si oui, afficher le nombre de pages excedentaires ; si elle est inférieure à 300 afficher le nombre de pages manquantes pour atteindre ce chiffre ; sinon, afficher \"Dans le mil!\"."
      ]
    },
    {
      "cell_type": "code",
      "metadata": {
        "id": "y7gvdJf3y8fw"
      },
      "source": [
        ""
      ],
      "execution_count": null,
      "outputs": []
    },
    {
      "cell_type": "markdown",
      "metadata": {
        "id": "1-agpSTny9CJ"
      },
      "source": [
        "## Exercice 4\n",
        "\n",
        "Tester si la tradition de l'ouvrage B est \"Original\".\n",
        "- Si tel est le cas, tester si le nombre de pages est supérieur ou égal à 100\n",
        "  - si tel est le cas, afficher la valeur de temoin\n",
        "  - sinon afficher le message \"l'ouvrage comporte moins de 100 pages\".\n",
        "- Si la tradition n'est pas \"Original\", afficher le message \"cet ouvrage n'est pas un original\"."
      ]
    },
    {
      "cell_type": "code",
      "metadata": {
        "id": "2iS-M9yBzjGZ"
      },
      "source": [
        ""
      ],
      "execution_count": null,
      "outputs": []
    },
    {
      "cell_type": "markdown",
      "metadata": {
        "id": "FRgPASDmz00Z"
      },
      "source": [
        "## Exercice 5\n",
        "\n",
        "Tester si l'ouvrage A possède plus de 10 pages et si son institution est 'Inconnue'.\n"
      ]
    },
    {
      "cell_type": "code",
      "metadata": {
        "id": "I9LWX9-kz0Jq"
      },
      "source": [
        ""
      ],
      "execution_count": null,
      "outputs": []
    },
    {
      "cell_type": "markdown",
      "metadata": {
        "id": "u1iq0947zjot"
      },
      "source": [
        "## Exercice 6\n",
        "\n",
        "Tester si la tradition de l'ouvrage C est 'Original' ET s'il possède plus de 100 pages. Afficher l'institution de conservation le cas échéant, afficher un message à caractère informatif pour l'utilisateur dans le cas contraire.\n"
      ]
    },
    {
      "cell_type": "code",
      "metadata": {
        "id": "OTWgvYILzsnz"
      },
      "source": [
        ""
      ],
      "execution_count": null,
      "outputs": []
    },
    {
      "cell_type": "markdown",
      "metadata": {
        "id": "v0dumMsQ0GfG"
      },
      "source": [
        "## Exercice 7\n",
        "\n",
        "Tester si le nombre de pages de l'ouvrage C est inférieur à 200 et si son institution de conservation n'est pas 'Inconnue'. Afficher un message permettant de savoir laquelle des deux conditions n'est pas remplie ou si aucune ne l'est."
      ]
    },
    {
      "cell_type": "code",
      "metadata": {
        "id": "M2TZOWj9x6F_"
      },
      "source": [
        ""
      ],
      "execution_count": null,
      "outputs": []
    },
    {
      "cell_type": "markdown",
      "metadata": {
        "id": "8hGmWOpr0U1Q"
      },
      "source": [
        "## Exercice 8\n",
        "\n",
        "Afficher le témoin des ouvrages respectant AU MOINS une des contraintes suivantes :\n",
        "- plus de 50 pages mais de moins de 100 pages\n",
        "- l'institution est 'Inconnue'"
      ]
    },
    {
      "cell_type": "code",
      "metadata": {
        "id": "uywX0ymw0US9"
      },
      "source": [
        ""
      ],
      "execution_count": null,
      "outputs": []
    }
  ]
}