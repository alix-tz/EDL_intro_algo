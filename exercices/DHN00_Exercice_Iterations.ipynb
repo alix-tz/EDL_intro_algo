{
  "nbformat": 4,
  "nbformat_minor": 0,
  "metadata": {
    "colab": {
      "name": "DHN00_Exercice_Iterations",
      "provenance": [],
      "collapsed_sections": []
    },
    "kernelspec": {
      "name": "python3",
      "display_name": "Python 3"
    },
    "language_info": {
      "name": "python"
    }
  },
  "cells": [
    {
      "cell_type": "markdown",
      "metadata": {
        "id": "gxDB_JZppmYf"
      },
      "source": [
        "## DHN00 - Exercices sur les Expressions\n",
        "\n",
        "[retour vers la leçon sur Colab](https://colab.research.google.com/drive/1rEQPmTL5d5PajxCurrmVrC8LqSaMlPS6?usp=sharing)"
      ]
    },
    {
      "cell_type": "markdown",
      "metadata": {
        "id": "7P7hj4S8prsg"
      },
      "source": [
        "## Exercice 1\n",
        "\n",
        "Rédiger une suite d'instructions permettant d'afficher le dessin suivant (avec une boucle `for` ou `while`)\n",
        "\n",
        "```\n",
        "*\n",
        "* *\n",
        "* * *\n",
        "* * * *\n",
        "* * * * *\n",
        "* * * *\n",
        "* * *\n",
        "* *\n",
        "*\n",
        "```\n",
        "\n"
      ]
    },
    {
      "cell_type": "code",
      "metadata": {
        "id": "auqeX14aqHzN"
      },
      "source": [
        ""
      ],
      "execution_count": null,
      "outputs": []
    },
    {
      "cell_type": "markdown",
      "metadata": {
        "id": "07BoYTJ1qIrE"
      },
      "source": [
        "## Exercice 2\n",
        "\n",
        "Soit la séquence `[1, \"10\", True, [\"h\",\"e\",\"l\",\"l\",\"o\"]]` ;\n",
        "\n",
        "Rédiger une suite d'instruction permettant d'afficher le résultat suivant : \n",
        "\n",
        "```\n",
        "1 - <class 'int'>\n",
        "10 - <class 'str'>\n",
        "True - <class 'bool'>\n",
        "['h', 'e', 'l', 'l', 'o'] - <class 'list'>\n",
        "```"
      ]
    },
    {
      "cell_type": "code",
      "metadata": {
        "id": "1r3LP9ELplYo"
      },
      "source": [
        "suite_ex2 = [1, \"10\", True, [\"h\",\"e\",\"l\",\"l\",\"o\"]]\n",
        "\n"
      ],
      "execution_count": 2,
      "outputs": []
    },
    {
      "cell_type": "markdown",
      "metadata": {
        "id": "J6l8FSV6sHWn"
      },
      "source": [
        "## Exercice 3 \n",
        "\n",
        "Soit les entiers  `n` et `m` ; \n",
        "\n",
        "Rédiger une suite d'instructions pour générer une liste de longueur n, contenant des listes de longueurs m. \n",
        "\n",
        "Chacune de ces listes est remplie d'une suite de nombres allant de 0 à m.\n",
        "\n",
        "Exemple :\n",
        "```\n",
        "n = 2\n",
        "m = 9\n",
        "\n",
        ">>>\n",
        "[ [0, 1, 2, 3, 4, 5, 6, 7, 8, 9],\n",
        "  [0, 1, 2, 3, 4, 5, 6, 7, 8, 9]\n",
        "]\n",
        "```\n"
      ]
    },
    {
      "cell_type": "code",
      "metadata": {
        "id": "NtX_R186sreb"
      },
      "source": [
        ""
      ],
      "execution_count": 5,
      "outputs": []
    },
    {
      "cell_type": "markdown",
      "metadata": {
        "id": "WpYrVNNetOeL"
      },
      "source": [
        "## Exercice 4\n",
        "\n",
        "Sachant que `random.randint(0,50)` permet de générer un nombre entier pris au hasard entre 0 et 50 ;\n",
        "\n",
        "Rédiger une suite d'instruction permettant de générer un nombre au hasard et de demander à l'utilisateur-rice de deviner ce nombre.\n",
        "\n",
        "L'utilisateur-rice a le droit à un nombre illimité de coups. Le jeu s'arrête lorsque l'utilisateur-rice abadonne ou lorsqu'iel a trouvé la réponse.\n",
        "\n",
        "Lorsque l'utilisateur-rice propose un nombre, le programme doit indiquer si le nombre à trouver est plus grand ou plus petit que le nombre donné."
      ]
    },
    {
      "cell_type": "code",
      "metadata": {
        "id": "84F0_K5btN_N"
      },
      "source": [
        "import random\n",
        "nombre_au_hasard = random.randint(0,50)\n"
      ],
      "execution_count": null,
      "outputs": []
    },
    {
      "cell_type": "markdown",
      "metadata": {
        "id": "XYmaV00JuMV9"
      },
      "source": [
        "## Exercice 5\n",
        "\n",
        "Soit la liste `[1, 2, \"B\", True, [3.14, \"pi\"], ['A', 'Z', 'R', ['T', 'Y']], 8]`\n",
        "\n",
        "- [ ] Comment afficher `\"B\"`?"
      ]
    },
    {
      "cell_type": "code",
      "metadata": {
        "id": "JohP3cDrFROO"
      },
      "source": [
        ""
      ],
      "execution_count": null,
      "outputs": []
    },
    {
      "cell_type": "markdown",
      "metadata": {
        "id": "meGwAlo4FRfH"
      },
      "source": [
        "- [ ] Comment afficher `\"T\"`?"
      ]
    },
    {
      "cell_type": "code",
      "metadata": {
        "id": "lM51zwvbFUao"
      },
      "source": [
        ""
      ],
      "execution_count": null,
      "outputs": []
    },
    {
      "cell_type": "markdown",
      "metadata": {
        "id": "X14QKuF_FWxz"
      },
      "source": [
        "- [ ] Comment afficher `[2, \"B\", True]` ?"
      ]
    },
    {
      "cell_type": "code",
      "metadata": {
        "id": "4Yoyue9uFWQG"
      },
      "source": [
        ""
      ],
      "execution_count": null,
      "outputs": []
    },
    {
      "cell_type": "markdown",
      "metadata": {
        "id": "GMnYvjBWFhSg"
      },
      "source": [
        "- [ ] Comment afficher `3.14`?"
      ]
    },
    {
      "cell_type": "code",
      "metadata": {
        "id": "fUwddSCPFg0v"
      },
      "source": [
        ""
      ],
      "execution_count": null,
      "outputs": []
    },
    {
      "cell_type": "markdown",
      "metadata": {
        "id": "p0FM2_1iFnpE"
      },
      "source": [
        "- [ ] Comment afficher `8` ?"
      ]
    },
    {
      "cell_type": "code",
      "metadata": {
        "id": "SUX8O6Q0Fq8h"
      },
      "source": [
        ""
      ],
      "execution_count": null,
      "outputs": []
    }
  ]
}