{
  "nbformat": 4,
  "nbformat_minor": 0,
  "metadata": {
    "colab": {
      "name": "DHN00_Exercices_Expressions",
      "provenance": [],
      "collapsed_sections": []
    },
    "kernelspec": {
      "name": "python3",
      "display_name": "Python 3"
    },
    "language_info": {
      "name": "python"
    }
  },
  "cells": [
    {
      "cell_type": "markdown",
      "metadata": {
        "id": "pQkcfvAPLh3-"
      },
      "source": [
        "## DHN00 - Exercices sur les Expressions\n",
        "\n",
        "[retour vers la leçon sur Colab](https://colab.research.google.com/drive/1rEQPmTL5d5PajxCurrmVrC8LqSaMlPS6?usp=sharing)"
      ]
    },
    {
      "cell_type": "markdown",
      "metadata": {
        "id": "R6Wh7GOhLlT-"
      },
      "source": [
        "## Exercice 1\n",
        "\n",
        "Tester l'égalité de 10 et \"10\" et afficher le résultat"
      ]
    },
    {
      "cell_type": "code",
      "metadata": {
        "id": "XLfH8JLiLuIu"
      },
      "source": [
        ""
      ],
      "execution_count": null,
      "outputs": []
    },
    {
      "cell_type": "markdown",
      "metadata": {
        "id": "y8IYdxOFLuP9"
      },
      "source": [
        "## Exercice 2\n",
        "\n",
        "Tester la non égalité de \"10.0\" et \"10\" et afficher le résultat"
      ]
    },
    {
      "cell_type": "code",
      "metadata": {
        "id": "zWo_xpJqLwn1"
      },
      "source": [
        ""
      ],
      "execution_count": null,
      "outputs": []
    },
    {
      "cell_type": "markdown",
      "metadata": {
        "id": "gq_RjtthLw3s"
      },
      "source": [
        "## Exercice 3\n",
        "\n",
        "Ecrire les expressions permettant de tester : \n",
        "\n",
        "- [ ] si $5\\times5>30$\n",
        "- [ ] si $\\frac{5}{3.1} < pi +3$\n",
        "- [ ] si $5\\times5 \\le 25.0$\n",
        "- [ ] si \"hello\" est rangé avant \"bonjour\" ?\n"
      ]
    },
    {
      "cell_type": "code",
      "metadata": {
        "id": "sd_ASwkCNkmF"
      },
      "source": [
        "pi = 3.14\n"
      ],
      "execution_count": null,
      "outputs": []
    },
    {
      "cell_type": "markdown",
      "metadata": {
        "id": "qE_NeV0ONqNy"
      },
      "source": [
        "## Exercice 4\n",
        "\n",
        "Ecrire les expressions permettant de tester : \n",
        "\n",
        "- [ ] si l'inverse de `\"vrai\"` est vrai ou faux\n",
        "- [ ] si \"y\" n'est pas dans \"python\"\n",
        "- [ ] si l'inverse de `True` est vrai ou faux"
      ]
    },
    {
      "cell_type": "code",
      "metadata": {
        "id": "-dviU1xaOXMY"
      },
      "source": [
        ""
      ],
      "execution_count": null,
      "outputs": []
    },
    {
      "cell_type": "markdown",
      "metadata": {
        "id": "K7D8qxg3OXU0"
      },
      "source": [
        "## Exercice 5\n",
        "\n",
        "Expliquer les résultats suivants :"
      ]
    },
    {
      "cell_type": "code",
      "metadata": {
        "colab": {
          "base_uri": "https://localhost:8080/",
          "height": 36
        },
        "id": "1T8OxJnnRLSK",
        "outputId": "6f497f98-a51f-455c-b478-a75dd5d1be90"
      },
      "source": [
        "str(bool(\"0\" and 0))"
      ],
      "execution_count": null,
      "outputs": [
        {
          "output_type": "execute_result",
          "data": {
            "application/vnd.google.colaboratory.intrinsic+json": {
              "type": "string"
            },
            "text/plain": [
              "'False'"
            ]
          },
          "metadata": {
            "tags": []
          },
          "execution_count": 5
        }
      ]
    },
    {
      "cell_type": "code",
      "metadata": {
        "colab": {
          "base_uri": "https://localhost:8080/"
        },
        "id": "GGDycaiYRP7p",
        "outputId": "076350bd-1a7b-4eca-d2b1-cc1e4101b56e"
      },
      "source": [
        "not (24 < 42) and not True"
      ],
      "execution_count": null,
      "outputs": [
        {
          "output_type": "execute_result",
          "data": {
            "text/plain": [
              "False"
            ]
          },
          "metadata": {
            "tags": []
          },
          "execution_count": 6
        }
      ]
    },
    {
      "cell_type": "code",
      "metadata": {
        "colab": {
          "base_uri": "https://localhost:8080/"
        },
        "id": "1ZhNuYRXRRvA",
        "outputId": "e00f6e3f-2ba4-4596-f636-1505fd24a775"
      },
      "source": [
        "True and False"
      ],
      "execution_count": null,
      "outputs": [
        {
          "output_type": "execute_result",
          "data": {
            "text/plain": [
              "False"
            ]
          },
          "metadata": {
            "tags": []
          },
          "execution_count": 7
        }
      ]
    },
    {
      "cell_type": "markdown",
      "metadata": {
        "id": "kFVmh4AeQ1sb"
      },
      "source": [
        "```\n",
        "réponse\n",
        "```"
      ]
    },
    {
      "cell_type": "markdown",
      "metadata": {
        "id": "yANaU-4YRJo5"
      },
      "source": [
        "## Exercice 6\n",
        "\n",
        "Expliquer les résultats suivants :"
      ]
    },
    {
      "cell_type": "code",
      "metadata": {
        "colab": {
          "base_uri": "https://localhost:8080/"
        },
        "id": "9kr1XAUpRbYa",
        "outputId": "1371b43c-a7d6-4f24-af82-cc5e49da2c02"
      },
      "source": [
        "True or True"
      ],
      "execution_count": null,
      "outputs": [
        {
          "output_type": "execute_result",
          "data": {
            "text/plain": [
              "True"
            ]
          },
          "metadata": {
            "tags": []
          },
          "execution_count": 8
        }
      ]
    },
    {
      "cell_type": "code",
      "metadata": {
        "colab": {
          "base_uri": "https://localhost:8080/"
        },
        "id": "I2GocsI-RdP8",
        "outputId": "e2abbcb3-a26d-49bb-8d65-9c3326c1f6fb"
      },
      "source": [
        "type(45) == type(45.0) or type(\"45\") == type(\"45.0\")"
      ],
      "execution_count": null,
      "outputs": [
        {
          "output_type": "execute_result",
          "data": {
            "text/plain": [
              "True"
            ]
          },
          "metadata": {
            "tags": []
          },
          "execution_count": 9
        }
      ]
    },
    {
      "cell_type": "code",
      "metadata": {
        "colab": {
          "base_uri": "https://localhost:8080/"
        },
        "id": "p8GI8Jq8RpLX",
        "outputId": "aec21587-8de7-4645-c20b-8c5d5d999a39"
      },
      "source": [
        "not (\"é\" in \"variable1\" or \"é\" in \"variable_2\" )"
      ],
      "execution_count": null,
      "outputs": [
        {
          "output_type": "execute_result",
          "data": {
            "text/plain": [
              "True"
            ]
          },
          "metadata": {
            "tags": []
          },
          "execution_count": 11
        }
      ]
    },
    {
      "cell_type": "markdown",
      "metadata": {
        "id": "kDCxVfwWTh71"
      },
      "source": [
        "```\n",
        "réponse\n",
        "```"
      ]
    }
  ]
}