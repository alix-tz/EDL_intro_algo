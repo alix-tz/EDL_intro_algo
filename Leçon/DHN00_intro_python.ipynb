{
  "nbformat": 4,
  "nbformat_minor": 0,
  "metadata": {
    "colab": {
      "name": "DHN00_Python1",
      "provenance": [],
      "collapsed_sections": [
        "LA3JB1DWmYRk",
        "MzSWMUD9oNiq",
        "EbUnVkIip2ia",
        "B6zFVgdpy0Pf"
      ],
      "toc_visible": true
    },
    "kernelspec": {
      "name": "python3",
      "display_name": "Python 3"
    },
    "language_info": {
      "name": "python"
    }
  },
  "cells": [
    {
      "cell_type": "markdown",
      "metadata": {
        "id": "r89ZNl3gdSPW"
      },
      "source": [
        "# Introduction à la pensée algorithmique avec Python\n",
        "\n",
        "|     |                                               | \n",
        "| :-: | :-------------------------------------------- |\n",
        "| 🧑  | Alix Chagué                                   |\n",
        "| 📫  | alix.chague@inria.fr                          |\n",
        "| 💼  | Ingénieure Recherche et Développement à Inria |\n",
        "\n"
      ]
    },
    {
      "cell_type": "markdown",
      "metadata": {
        "id": "42V0sJ-5hPic"
      },
      "source": [
        "## 1\\. Préambule\n",
        "\n",
        "> Ce cours est dispensé dans le cadre du Master 2 Documentation et Humanités Numériques de l'Ecole du Louvre. Le module, d'une durée de 6 heures, présente les bases de l'algorithmie et les illustre avec Python."
      ]
    },
    {
      "cell_type": "markdown",
      "metadata": {
        "id": "IJjKRKSBemuZ"
      },
      "source": [
        "### 1.1 Plan du cours\n",
        "\n",
        "1. Programmation et algorithmique : définition\n",
        "2. Présentation de Python\n",
        "3. Valeurs et variables\n",
        "4. Opérations arithmétiques\n",
        "5. Exercices logiques\n",
        "6. Exercices pratiques\n",
        "\n",
        "---\n"
      ]
    },
    {
      "cell_type": "markdown",
      "metadata": {
        "id": "OXgv9YZ-RnpX"
      },
      "source": [
        "### 1.2 Objectifs du cours\n",
        "\n",
        "🏆 Connaître le vocabulaire de la programmation\n",
        "\n",
        "🏆 Savoir lire et concevoir un algorithme simple\n",
        "\n",
        "🏆 Connaître le fonctionnement de Python et son environnement de développement\n",
        "\n",
        "🏆 Connaitre les bonnes pratiques de développement\n",
        "\n",
        "🏆 Ecrire et exécuter un programme simple avec Python\n",
        "\n",
        "---\n"
      ]
    },
    {
      "cell_type": "markdown",
      "metadata": {
        "id": "rIAn3l1wRqNR"
      },
      "source": [
        "### 1.3 Liens utiles\n",
        "\n",
        "👉 Les notebooks Jupyter de Google Collab : \n",
        "- https://colab.research.google.com\n",
        "\n",
        "👉 Simulateur d'environnement Python en mode pseudo-IDE : \n",
        "- https://repl.it/languages/python3\n",
        "\n",
        "👉 Simulateur d'environnement Python en mode console : \n",
        "- https://www.python.org/shell/\n",
        "\n",
        "👉  Documation officielle de Python : \n",
        "- https://docs.python.org/3/\n",
        "\n",
        "👉 Visualisateur d'execution de code Python : \n",
        "- http://pythontutor.com/\n",
        "\n",
        "---\n",
        "\n"
      ]
    },
    {
      "cell_type": "markdown",
      "metadata": {
        "id": "otQ3SM5ZRtS7"
      },
      "source": [
        "### 1.4 Des ressources pour continuer à se former \n",
        "\n",
        "👉 \"Automate the Boring Stuff with Python\" (en) : \n",
        " - https://automatetheboringstuff.com/\n",
        "\n",
        "👉 Leçons dédiées à Python sur Programming Historian (en, fr ou es) :\n",
        " - https://programminghistorian.org/en/lessons/introduction-and-installation\n",
        "\n",
        "👉 \"Apprendre à coder avec Python\", MOOC de l'Université Libre de Bruxelles (fr) : \n",
        " - https://www.fun-mooc.fr/courses/course-v1:ulb+44013+session04/about\n",
        "\n",
        "👉 \"Apprenez à programmer en Python\", cours en ligne sur OpenClassroom (fr) :\n",
        " - https://openclassrooms.com/fr/courses/235344-apprenez-a-programmer-en-python\n",
        "\n",
        "👉 \"Introduction à Python\" pour le Master Ingénierie Multilingue de l'Inalco, Loïc Grobol et Yoann Dupont (fr) : \n",
        " - https://loicgrobol.github.io/python-im/m2-2018/\n"
      ]
    },
    {
      "cell_type": "markdown",
      "metadata": {
        "id": "FEfr2odWhVBs"
      },
      "source": [
        "----\n",
        "\n",
        "## 2\\. Programmation et algorithmique\n"
      ]
    },
    {
      "cell_type": "markdown",
      "metadata": {
        "id": "LA3JB1DWmYRk"
      },
      "source": [
        "### 2.1 Pourquoi programmer ?"
      ]
    },
    {
      "cell_type": "markdown",
      "metadata": {
        "id": "rUEcfZu9jSxE"
      },
      "source": [
        "#### 2.1.1 Mises en situation \n",
        " \n",
        "> Sans outil, comment fait-on ? Combien de temps cela prend-il ? Quel est le risque de faire des erreurs ?\n",
        "> - renommer 390 fichiers \n",
        "> - vérifier dans une base de données la validité de milliers de liens URL\n",
        "\n",
        "La programmation permet de : \n",
        "- automatiser des actions simples et répétitives\n",
        "- réduire le temps passé sur ces tâches\n",
        "- réduire les erreurs (dûes à la fatigue ou à l'ennui) et faciliter leur détection\n",
        "\n",
        "\n",
        "*En tant que futur(e)s professionnel(le)s de la documentation, connaître les principes de la programmation vous permettra aussi de mieux comprendre le travail des développeur/euses.*\n"
      ]
    },
    {
      "cell_type": "markdown",
      "metadata": {
        "id": "cjJU27rEjOGG"
      },
      "source": [
        "### 2.2 Notions élémentaires\n",
        "\n",
        "- `algorithmique` : désigne tous les paradigmes qui guident la **logique** programmatique, qu'importe le langage utilisé.\n",
        "\n",
        "  - `construire un algorithme`, c'est **imaginer un scénario** étant données certaines contraintes\n",
        "\n",
        "- `programme` : dégine la mise en application d'un algorithme. C'est une **suite d'instructions** exprimées dans un langage particulier.\n",
        "\n",
        "- `output` : l'éventuel résultat d'un programme\n",
        "\n",
        "- `input` : les éventuelles données initiales fournies au programme"
      ]
    },
    {
      "cell_type": "markdown",
      "metadata": {
        "id": "llTc9czMmScG"
      },
      "source": [
        "#### 2.2.1 Exemple"
      ]
    },
    {
      "cell_type": "markdown",
      "metadata": {
        "id": "YbAGeWQ8kQO3"
      },
      "source": [
        "**Objectif :** je veux modifier l'extension d'un fichier\n",
        "\n",
        "**Algorithme (scénario) :**\n",
        "```\n",
        "- lire le nom du fichier\n",
        "- modifier l'extension du nom du fichier\n",
        "- enregistrer le nouveau nom du fichier\n",
        "```\n",
        "\n",
        "**Programme Python :**\n",
        "``` py\n",
        "input = \"mon_fichier.txt\"\n",
        "output = input.replace(\".txt\", \".doc\")\n",
        "```\n",
        "\n",
        "\n",
        "> *Le programme a besoin de connaître le nom du fichier (input) et produit un résultat, le nouveau nom du fichier (output).*"
      ]
    },
    {
      "cell_type": "markdown",
      "metadata": {
        "id": "thJHfwVJSVU6"
      },
      "source": [
        "Executons le code correspondant :"
      ]
    },
    {
      "cell_type": "code",
      "metadata": {
        "colab": {
          "base_uri": "https://localhost:8080/"
        },
        "id": "1uk5FtzTlK9T",
        "outputId": "9b90fe49-d745-43e3-dec2-701257256115"
      },
      "source": [
        "# Renommer un fichier en changeant son extension\n",
        "the_input = \"mon_fichier.txt\"\n",
        "the_output = the_input.replace(\".txt\", \".doc\")\n",
        "\n",
        "# Affichage du résultat\n",
        "print(the_input, the_output, sep=\"\\n\")"
      ],
      "execution_count": 1,
      "outputs": [
        {
          "output_type": "stream",
          "name": "stdout",
          "text": [
            "mon_fichier.txt\n",
            "mon_fichier.doc\n"
          ]
        }
      ]
    },
    {
      "cell_type": "markdown",
      "metadata": {
        "id": "3_NdZnHsia8O"
      },
      "source": [
        "### 2.3 Contraintes formelles\n",
        "\n"
      ]
    },
    {
      "cell_type": "markdown",
      "metadata": {
        "id": "kPjbSYDXmGb8"
      },
      "source": [
        "Il existe des contraintes formelles et des outils qui sont communs à tous les langages de programmation.\n",
        "\n",
        "- L'ordre des instructions est important\n",
        "  - *ex :* impossible de modifier \".txt\" sans connaître \"mon_fichier.txt\"\n",
        "\n",
        "- Pour réaliser les calculs, on utilise des `variables`, `valeurs` et des `opérateurs`\n",
        "\n",
        "- Les instructions peuvent être de plusieurs natures :\n",
        "  - des `assignations`\n",
        "  - des `structures conditionnelles`\n",
        "  - des `structures répétitives`\n",
        "  - des `définitions` de `fonctions` ou d'`objets`\n",
        "  - des `appels` de fonction ou d'objets "
      ]
    },
    {
      "cell_type": "markdown",
      "metadata": {
        "id": "MzSWMUD9oNiq"
      },
      "source": [
        "### 2.4 De multiples langages de programmation"
      ]
    },
    {
      "cell_type": "markdown",
      "metadata": {
        "id": "n8gv6JZLoU26"
      },
      "source": [
        "Il existe beaucoup beaucoup de langages de programmation différents (ex: C++, Java, Python, R, PHP, Go, ...)\n",
        "\n",
        " - La preuve ! 👉 https://fr.wikipedia.org/wiki/Liste_de_langages_de_programmation\n",
        "\n",
        "\n",
        "Certaines sont dits \"**de haut niveau**\", c'est-à-dire qu'ils sont plus proches du langage humain. \n",
        "\n",
        "Les langages \"**de bas niveau**\" interagissent avec les composants matériels (dont le degré zéro est : on/off). \n",
        "\n",
        "\n",
        "Choisir un langage plutôt qu'un autre dépend :\n",
        "- des besoins (haut niveau / bas niveau ; rapidité d'exécution)\n",
        "- de la complexité du langage (C++ est plus compliqué que Python)\n",
        "- de la philosophie d'un langage (bonnes pratiques, communauté, etc)\n",
        "\n",
        "\n",
        "\n"
      ]
    },
    {
      "cell_type": "markdown",
      "metadata": {
        "id": "EbUnVkIip2ia"
      },
      "source": [
        "### 2.5 Starter Pack"
      ]
    },
    {
      "cell_type": "markdown",
      "metadata": {
        "id": "OPjsl1stqlBY"
      },
      "source": [
        "Pour réussir à programmer, il ne faut pas grand chose : \n",
        "\n",
        "- de la **logique** et de la **créativité**\n",
        "  - décomposer un problème et petits problèmes\n",
        "  - trouver des solutions à des problèmes\n",
        "- de la **rigueur**\n",
        "  - vérifier qu'on n'a pas fait de faute\n",
        "  - mettre les instructions dans le bon ordre\n",
        "- de la **patience**\n",
        "  - procéder pas à pas\n",
        "  - lire et comprendre les messages d'erreur\n",
        "  - ne pas s'attendre à ce que le programme marche du premier coup"
      ]
    },
    {
      "cell_type": "markdown",
      "metadata": {
        "id": "BHMSxvs_uBIY"
      },
      "source": [
        "### 2.6 Exercice logique ⚡\n",
        "\n",
        "👉 https://www.google.com/doodles/celebrating-50-years-of-kids-coding"
      ]
    },
    {
      "cell_type": "markdown",
      "metadata": {
        "id": "HIsODkn4vKqs"
      },
      "source": [
        "----\n",
        "\n",
        "## 3\\. Python "
      ]
    },
    {
      "cell_type": "markdown",
      "metadata": {
        "id": "bJktynP4kzqr"
      },
      "source": [
        "\n",
        "Python est un langage de programmation de haut niveau sous licence libre. Il a été créé par Guido Van Rossum mais son développement est pris en charge depuis 2001 par la Python Software Foundation.\n",
        "\n",
        "Le langague Python continue d'évoluer depuis par le biais des **PEP** (Python Enhancement Proposals)\n"
      ]
    },
    {
      "cell_type": "markdown",
      "metadata": {
        "id": "0KPCsJVLk6z9"
      },
      "source": [
        "\n",
        "### 3.1 Python 2 vs. Python 3\n",
        "\n",
        "Entre 2008 et 2019, coexistaient deux versions de Python dont la compatibilité n'était pas totale : Python 2 et Python 3.\n",
        "\n",
        "Vous en trouverez encore la trace dans la documentation en ligne, mais retenez que depuis le 31 décembre 2019, Python 2 est officiellement abandonné. \n"
      ]
    },
    {
      "cell_type": "markdown",
      "metadata": {
        "id": "pcnRArw3lCqy"
      },
      "source": [
        "### 3.2 Premiers scripts\n"
      ]
    },
    {
      "cell_type": "code",
      "metadata": {
        "colab": {
          "base_uri": "https://localhost:8080/"
        },
        "id": "ScBEA_sPlZQf",
        "outputId": "359bcfa4-91f7-4a69-d2a3-4e733242599f"
      },
      "source": [
        "print(\"hello, world\")"
      ],
      "execution_count": null,
      "outputs": [
        {
          "output_type": "stream",
          "text": [
            "hello, world\n"
          ],
          "name": "stdout"
        }
      ]
    },
    {
      "cell_type": "markdown",
      "metadata": {
        "id": "3n8s_bbDlewW"
      },
      "source": [
        "👉 print() est **une fonction dite built-in** et qui affiche des valeurs qui lui sont fournies\n",
        "\n",
        "👉 \"hello, world\" est une **chaîne de caractères** fournie à la fonction print()\n",
        "\n",
        "👉 une fonction est un bloc d'instructions permettant d'obtenir un résultat précis\n",
        "\n",
        "👉 anatomie d'une fonction : nom_de_la_fonction(argument, argument, etc)\n"
      ]
    },
    {
      "cell_type": "markdown",
      "metadata": {
        "id": "R9fTgYY4ljHb"
      },
      "source": [
        "Les instructions sont executées dans l'ordre où elles sont écrites"
      ]
    },
    {
      "cell_type": "code",
      "metadata": {
        "colab": {
          "base_uri": "https://localhost:8080/"
        },
        "id": "NUQj3Vmtlg6l",
        "outputId": "09332aec-e0e5-471d-dca2-e3295b155926"
      },
      "source": [
        "print('hey') # première instruction\n",
        "print('you') # deuxième instruction\n",
        "print('!') # troisième instruction"
      ],
      "execution_count": null,
      "outputs": [
        {
          "output_type": "stream",
          "text": [
            "hey\n",
            "you\n",
            "!\n"
          ],
          "name": "stdout"
        }
      ]
    },
    {
      "cell_type": "markdown",
      "metadata": {
        "id": "A1ZfCHVKlRdD"
      },
      "source": [
        "### 3.3 Gestion des erreurs\n",
        "\n",
        "Un programme plante s'il contient des erreurs. Il affiche alors un message indiquant la raison pour laquelle il s'est interrompu.\n",
        "\n",
        "Ce n'est pas grave de faire des erreurs. L'important c'est de savoir lire le message d'erreur pour trouver l'origine du problème et le résoudre.\n"
      ]
    },
    {
      "cell_type": "markdown",
      "metadata": {
        "id": "1gmI8p9vmDPZ"
      },
      "source": [
        "#### 3.3.1 Lire un message d'erreur"
      ]
    },
    {
      "cell_type": "code",
      "metadata": {
        "colab": {
          "base_uri": "https://localhost:8080/",
          "height": 212
        },
        "id": "ai8HgBzpmFGc",
        "outputId": "dde542a1-1076-4c78-bf0d-457999b69515"
      },
      "source": [
        "# additionner un entier avec une chaine de caractère\n",
        "\n",
        "2021 + \"année\""
      ],
      "execution_count": null,
      "outputs": [
        {
          "output_type": "error",
          "ename": "TypeError",
          "evalue": "ignored",
          "traceback": [
            "\u001b[0;31m---------------------------------------------------------------------------\u001b[0m",
            "\u001b[0;31mTypeError\u001b[0m                                 Traceback (most recent call last)",
            "\u001b[0;32m<ipython-input-5-5fadab20eb8f>\u001b[0m in \u001b[0;36m<module>\u001b[0;34m()\u001b[0m\n\u001b[1;32m      1\u001b[0m \u001b[0;31m# additionner un entier avec une chaine de caractère\u001b[0m\u001b[0;34m\u001b[0m\u001b[0;34m\u001b[0m\u001b[0;34m\u001b[0m\u001b[0m\n\u001b[1;32m      2\u001b[0m \u001b[0;34m\u001b[0m\u001b[0m\n\u001b[0;32m----> 3\u001b[0;31m \u001b[0;36m2021\u001b[0m \u001b[0;34m+\u001b[0m \u001b[0;34m\"année\"\u001b[0m\u001b[0;34m\u001b[0m\u001b[0;34m\u001b[0m\u001b[0m\n\u001b[0m",
            "\u001b[0;31mTypeError\u001b[0m: unsupported operand type(s) for +: 'int' and 'str'"
          ]
        }
      ]
    },
    {
      "cell_type": "markdown",
      "metadata": {
        "id": "sGI8lQ7sm1s3"
      },
      "source": [
        "- **numéro de ligne :** numéro de la ligne fautive dans le script\n",
        "- **pointeur :** indique non pas l'emplacement exact de l'erreur mais l'emplacement à partir duquel l'erreur fait planter le programme. Il faut parfois remonter quelques caractères ou quelques lignes plus haut pour trouver l'origine de l'erreur.\n",
        "- **type d'erreur :** NameError, SyntaxError, TypeError, ValueError, etc...\n",
        "- **description :** parfois suivi d'une suggestion de correction. Notez que dans certains cas une erreur dans le code conduit le programme a mal interpréter les instructions et donne une description de l'erreur inexacte.\n"
      ]
    },
    {
      "cell_type": "code",
      "metadata": {
        "colab": {
          "base_uri": "https://localhost:8080/",
          "height": 212
        },
        "id": "queS6W0wmZdM",
        "outputId": "d2f9d2d3-74fa-4d5e-81a8-df4bf8d85f50"
      },
      "source": [
        "# additionner une chaine de caractères avec un entier\n",
        "\n",
        "\"année\" + 2021"
      ],
      "execution_count": null,
      "outputs": [
        {
          "output_type": "error",
          "ename": "TypeError",
          "evalue": "ignored",
          "traceback": [
            "\u001b[0;31m---------------------------------------------------------------------------\u001b[0m",
            "\u001b[0;31mTypeError\u001b[0m                                 Traceback (most recent call last)",
            "\u001b[0;32m<ipython-input-6-da416ba0097c>\u001b[0m in \u001b[0;36m<module>\u001b[0;34m()\u001b[0m\n\u001b[1;32m      1\u001b[0m \u001b[0;31m# additionner une chaine de caractères avec un entier\u001b[0m\u001b[0;34m\u001b[0m\u001b[0;34m\u001b[0m\u001b[0;34m\u001b[0m\u001b[0m\n\u001b[1;32m      2\u001b[0m \u001b[0;34m\u001b[0m\u001b[0m\n\u001b[0;32m----> 3\u001b[0;31m \u001b[0;34m\"année\"\u001b[0m \u001b[0;34m+\u001b[0m \u001b[0;36m2021\u001b[0m\u001b[0;34m\u001b[0m\u001b[0;34m\u001b[0m\u001b[0m\n\u001b[0m",
            "\u001b[0;31mTypeError\u001b[0m: can only concatenate str (not \"int\") to str"
          ]
        }
      ]
    },
    {
      "cell_type": "code",
      "metadata": {
        "colab": {
          "base_uri": "https://localhost:8080/",
          "height": 137
        },
        "id": "mpzuFEuwmeRz",
        "outputId": "e202f281-e906-4e9c-d954-cbf716bd0652"
      },
      "source": [
        "# oubli d'un guillemet\n",
        "print(\"hello world)"
      ],
      "execution_count": null,
      "outputs": [
        {
          "output_type": "error",
          "ename": "SyntaxError",
          "evalue": "ignored",
          "traceback": [
            "\u001b[0;36m  File \u001b[0;32m\"<ipython-input-7-73a6973e2735>\"\u001b[0;36m, line \u001b[0;32m2\u001b[0m\n\u001b[0;31m    print(\"hello world)\u001b[0m\n\u001b[0m                       ^\u001b[0m\n\u001b[0;31mSyntaxError\u001b[0m\u001b[0;31m:\u001b[0m EOL while scanning string literal\n"
          ]
        }
      ]
    },
    {
      "cell_type": "markdown",
      "metadata": {
        "id": "pIQwiVrSsK__"
      },
      "source": [
        "### 3.4 Accéder à la documentation\n",
        "\n",
        "Quand on programme, lire la documentation est essentiel. \n",
        "\n",
        "- soit la documentation officielle de Python : https://docs.python.org/fr/3/\n",
        "- soit en affichant un extrait de documentation grâce à la fonction `help()`\n",
        "- Google et Stack Overflow sont aussi de très bon moyens de trouver des solutions ou des exemples"
      ]
    },
    {
      "cell_type": "code",
      "metadata": {
        "colab": {
          "base_uri": "https://localhost:8080/"
        },
        "id": "THIxrw0dsmms",
        "outputId": "f81c5cac-a64b-4f9a-adca-911bd6794a3c"
      },
      "source": [
        "help(print)"
      ],
      "execution_count": null,
      "outputs": [
        {
          "output_type": "stream",
          "text": [
            "Help on built-in function print in module builtins:\n",
            "\n",
            "print(...)\n",
            "    print(value, ..., sep=' ', end='\\n', file=sys.stdout, flush=False)\n",
            "    \n",
            "    Prints the values to a stream, or to sys.stdout by default.\n",
            "    Optional keyword arguments:\n",
            "    file:  a file-like object (stream); defaults to the current sys.stdout.\n",
            "    sep:   string inserted between values, default a space.\n",
            "    end:   string appended after the last value, default a newline.\n",
            "    flush: whether to forcibly flush the stream.\n",
            "\n"
          ],
          "name": "stdout"
        }
      ]
    },
    {
      "cell_type": "markdown",
      "metadata": {
        "id": "vcM3ZZ1Frwcn"
      },
      "source": [
        "## 4\\. Variables et valeurs"
      ]
    },
    {
      "cell_type": "markdown",
      "metadata": {
        "id": "0R_2y_IKVJ9v"
      },
      "source": [
        "### 4.1 Définition"
      ]
    },
    {
      "cell_type": "markdown",
      "metadata": {
        "id": "dOe6rt0qrTW3"
      },
      "source": [
        "Une `variable` est un conteneur permettant de sauvegarder temporairement une valeur et d'en changer sans avoir à réécrire le code.\n",
        "\n",
        "Elle porte **un nom**, contient **une valeur** et possède **un type**.\n",
        "\n",
        "En Python, la valeur et le type d'une variable peuvent changer, mais pas son nom. "
      ]
    },
    {
      "cell_type": "code",
      "metadata": {
        "colab": {
          "base_uri": "https://localhost:8080/"
        },
        "id": "H3F-yQoDsuFZ",
        "outputId": "f947cb8d-6474-449b-f415-649334eb6e23"
      },
      "source": [
        "#ma_variable = \"Hello\"\n",
        "ma_variable = \"Goodbye\"\n",
        "\n",
        "mon_message = ma_variable + \" world !\"\n",
        "\n",
        "print(mon_message)"
      ],
      "execution_count": null,
      "outputs": [
        {
          "output_type": "stream",
          "text": [
            "Goodbye world !\n"
          ],
          "name": "stdout"
        }
      ]
    },
    {
      "cell_type": "markdown",
      "metadata": {
        "id": "1kKZSVL01NAW"
      },
      "source": [
        "### 4.2 Les 4 types de base "
      ]
    },
    {
      "cell_type": "markdown",
      "metadata": {
        "id": "KWF6iDfptL3-"
      },
      "source": [
        "Le type d'une variable dépend de la valeur qu'elle contient. Penchons-nous donc sur les différentes catégories de valeurs :\n",
        "\n",
        "- `string` (ou `str`) :\n",
        "  - du texte écrit entre guillement simpes `'`, doubles `\"` ou triples (`'''` ou `\"\"\"`)"
      ]
    },
    {
      "cell_type": "code",
      "metadata": {
        "id": "EbW-7eoUrSzK"
      },
      "source": [
        "# 4 manières d'écrire une chaîne de caractères\n",
        "chaine_1 = \"ceci est une chaîne de caractères\"\n",
        "chaine_2 = 'cela aussi'\n",
        "chaine_3 = \"\"\"encore une chaîne de caractères\"\"\"\n",
        "chaine_4 = '''encore une autre'''"
      ],
      "execution_count": null,
      "outputs": []
    },
    {
      "cell_type": "markdown",
      "metadata": {
        "id": "hesNJ2YxuYA6"
      },
      "source": [
        "- `integer` (ou `int`) : \n",
        "  - un nombre entier, sans virgule, sans point, sans guillemet"
      ]
    },
    {
      "cell_type": "code",
      "metadata": {
        "id": "T1pAq2l5uxzF"
      },
      "source": [
        "entier = 42"
      ],
      "execution_count": null,
      "outputs": []
    },
    {
      "cell_type": "markdown",
      "metadata": {
        "id": "0Y_Zgpyju9e5"
      },
      "source": [
        "- `float` (ou `fl`):\n",
        "  - un nombre décimal, l'entier et la valeur décimale étant séparés par un point `.` et non une virgule `,`."
      ]
    },
    {
      "cell_type": "code",
      "metadata": {
        "id": "4JOO0g9VvY0L"
      },
      "source": [
        "decimale = 3.1415926535"
      ],
      "execution_count": null,
      "outputs": []
    },
    {
      "cell_type": "markdown",
      "metadata": {
        "id": "VNTjwvVlvsiv"
      },
      "source": [
        "- `boolean` (ou `bool`) :\n",
        "  - soit \"True\", soit \"False\""
      ]
    },
    {
      "cell_type": "code",
      "metadata": {
        "id": "31qo1UbOwCoX"
      },
      "source": [
        "booleen_vrai = True\n",
        "booleen_faux = False"
      ],
      "execution_count": null,
      "outputs": []
    },
    {
      "cell_type": "markdown",
      "metadata": {
        "id": "OeO797mQwrNR"
      },
      "source": [
        "**Attention** \n",
        "\n",
        "- `3` et `\"3\"` ne sont pas identiques \n",
        "- `4` et `4.0` sont identiques\n",
        "- quand elles sont classées, les chaînes de caractères le sont dans l'ordre alphabétique, y compris lorsqu'elles contiennent des chiffres : \n",
        "  - `[ \"1\", \"14\", \"150\", \"19\", \"40\"]`\n",
        "- alors que les entiers et les décimaux sont classés dans l'ordre numérique : \n",
        "  - `[ 1, 14, 19, 40, 150]`"
      ]
    },
    {
      "cell_type": "markdown",
      "metadata": {
        "id": "hDnO2gf6y011"
      },
      "source": [
        "Pour connaître le type d'une variable, on utilise la fonction `type()`"
      ]
    },
    {
      "cell_type": "code",
      "metadata": {
        "colab": {
          "base_uri": "https://localhost:8080/"
        },
        "id": "58Ptv6KJkzF2",
        "outputId": "071f3322-398b-43d1-92fa-3a1d0fb293ca"
      },
      "source": [
        "# la vairbla \"entier\" contient la valeur 42\n",
        "type(entier)"
      ],
      "execution_count": null,
      "outputs": [
        {
          "output_type": "execute_result",
          "data": {
            "text/plain": [
              "int"
            ]
          },
          "metadata": {
            "tags": []
          },
          "execution_count": 15
        }
      ]
    },
    {
      "cell_type": "code",
      "metadata": {
        "colab": {
          "base_uri": "https://localhost:8080/"
        },
        "id": "f8JXcYz_zFeU",
        "outputId": "c4b13abe-73dc-4e60-f2b3-abd445f0c29f"
      },
      "source": [
        "type(2021)"
      ],
      "execution_count": null,
      "outputs": [
        {
          "output_type": "execute_result",
          "data": {
            "text/plain": [
              "int"
            ]
          },
          "metadata": {
            "tags": []
          },
          "execution_count": 16
        }
      ]
    },
    {
      "cell_type": "markdown",
      "metadata": {
        "id": "Fwl7D4eI1TBp"
      },
      "source": [
        "### 4.3 Assignation de valeur "
      ]
    },
    {
      "cell_type": "markdown",
      "metadata": {
        "id": "xcIjRjLZzKZZ"
      },
      "source": [
        "On **assigne** une valeur à une variable avec le symbole `=` selon le modèle suivant : \n",
        "\n",
        "**`nom_de_la_variable = \"valeur de la variable\"`**\n",
        "\n",
        "\"Assigner une valeur\" à une variable, c'est \"l'enregistrer\" dans une variable."
      ]
    },
    {
      "cell_type": "code",
      "metadata": {
        "colab": {
          "base_uri": "https://localhost:8080/"
        },
        "id": "G45rrhjLzfI_",
        "outputId": "96475594-7f58-4e15-83bf-11c9e862903b"
      },
      "source": [
        "print(\"le contenu de ma variable pas encore dans la variable\") # affichage de la valeur sans enregistrement dans une variable\n",
        "\n",
        "ma_nouvelle_variable = \"le contenu de ma variable\"  # crétation de la valeur et assignation d'une valeur (str)\n",
        "\n",
        "print(ma_nouvelle_variable)"
      ],
      "execution_count": 3,
      "outputs": [
        {
          "output_type": "stream",
          "name": "stdout",
          "text": [
            "le contenu de ma variable pas encore dans la variable\n",
            "le contenu de ma variable\n"
          ]
        }
      ]
    },
    {
      "cell_type": "markdown",
      "metadata": {
        "id": "VUoJFeLxz1Rr"
      },
      "source": [
        "On peut réassigner une valeur à une variable autant de fois que l'on souhaite, mais cela écrase la valeur précédente. Si on veut enregistrer plusieurs valeurs simultanément, il faut créer plusieurs variables. \n",
        "\n",
        "En Python, le type de la variable est dit `dynamique` : le type de la variable s'adapte automatiquement au type de la valeur qui lui est assignée."
      ]
    },
    {
      "cell_type": "code",
      "metadata": {
        "colab": {
          "base_uri": "https://localhost:8080/"
        },
        "id": "FklBFOhgz0t5",
        "outputId": "9f39fccd-3faa-4b64-cae6-c55fa9560bc1"
      },
      "source": [
        "# création de la variable et assignation d'une valeur\n",
        "exemple_type = \"chaine de caractères\"\n",
        "print(exemple_type, type(exemple_type), sep=\"\\t\\t\")\n",
        "\n",
        "# assignation d'une nouvelle valeur d'un type différent\n",
        "exemple_type = 43\n",
        "print(exemple_type, type(exemple_type), sep=\"\\t\\t\\t\\t\")\n",
        "\n",
        "# assignation d'une nouvelle valeur d'un type encore différent\n",
        "exemple_type = True\n",
        "print(exemple_type, type(exemple_type), sep=\"\\t\\t\\t\\t\")"
      ],
      "execution_count": null,
      "outputs": [
        {
          "output_type": "stream",
          "text": [
            "chaine de caractères\t\t<class 'str'>\n",
            "43\t\t\t\t<class 'int'>\n",
            "True\t\t\t\t<class 'bool'>\n"
          ],
          "name": "stdout"
        }
      ]
    },
    {
      "cell_type": "markdown",
      "metadata": {
        "id": "kH-eav4e1Ejd"
      },
      "source": [
        "### 4.4 Nommage : règles et conventions"
      ]
    },
    {
      "cell_type": "markdown",
      "metadata": {
        "id": "BQR3vItfWmAS"
      },
      "source": [
        "#### 4.4.1 Règles"
      ]
    },
    {
      "cell_type": "markdown",
      "metadata": {
        "id": "ePJthfPE1YBh"
      },
      "source": [
        "Le nom d'une variable doit respecter plusieurs règles.\n",
        "\n",
        "- être une suite de caractères alphanumériques ou \"_\" (underscore)\n",
        "- ne pas commencer par un chiffre\n",
        "- ne pas contenir de \"-\" (signe moins) ou de signe de ponctuation\n",
        "- ne pas être un `mot réservé` (35 mots-clefs ou noms de fonctions built-in)\n",
        "\n",
        "\n",
        "Les majuscule et les minuscules sont acceptées mais attention la casse est importante : `Hello` et `hello` sont deux variables différentes.\n",
        "\n",
        "\n",
        "| nom de variable correct | nom de variable incorrect |\n",
        "| :---------------------- | :------------------------ |\n",
        "| `mavariable`            | `ma variable`             |\n",
        "| `ma_variable`           | `ma-variable`             |\n",
        "| `maVariable`            | `lambda`                  | \n",
        "| `ceci_est_1_variable`   | `3_variable`              | \n",
        "| `__var__`               |                           | \n",
        "\n",
        "\n",
        "\n",
        "\n",
        "\n"
      ]
    },
    {
      "cell_type": "markdown",
      "metadata": {
        "id": "L6UoSgdL0B8P"
      },
      "source": [
        "En plus de ces règles, il existe des conventions de nommage que chaque développeur/euse s'éfforce de respecter. \n",
        "\n",
        "- Elles sont détaillées dans la [PEP8](https://www.python.org/dev/peps/pep-0008/#naming-conventions)\n",
        "\n",
        "Retenons l'essentiel : \n",
        "- on évite les noms de variables ambigus (`varl`/`var1`)\n",
        "- on évite d'utiliser des caractères accentués même si on code en français (`caracteres` plutôt que `caractères`)\n",
        "- on utilise des noms de variable explicites (`message_de_bienvenue` plutôt `var42`)\n",
        "\n",
        "Pour faciliter la lecture des noms de variables, il existe deux conventions : \n",
        "- `snake_case` 🐍\n",
        "- `camelCase` 🐫\n",
        "\n",
        "> - `ceciestunnomdevariableduralire`\n",
        "> - `ceci_est_un_nom_de_variable_long_mais_lisible`\n",
        "> - `celuiLaAussiEstPlusFacileALire`\n",
        "\n",
        "Comme on code en Python, on utilise plutôt que snake_case !\n"
      ]
    },
    {
      "cell_type": "markdown",
      "metadata": {
        "id": "B6zFVgdpy0Pf"
      },
      "source": [
        "#### 4.4.2 Illustration : pourquoi il ne faut pas utiliser les noms des fonctions built-in\n"
      ]
    },
    {
      "cell_type": "markdown",
      "metadata": {
        "id": "sFhoVvZC2JCp"
      },
      "source": [
        "``` \n",
        ">>> print(\"démonstration\")\n",
        "démonstration\n",
        "\n",
        ">>> print = \"oups\"\n",
        ">>> print(\"démonstration 2\")\n",
        "Traceback (most recent call last):\n",
        "  File \"<stdin>\", line 1, in <module>\n",
        "TypeError: 'str' object is not callable\n",
        "```\n",
        "\n",
        "Si je crée une variable nommée `print` et que j'essaie ensuite de faie appel à la fonction `print()`, l'exécuteur ne la retrouve plus car la variable \"print\" a pris sa place. "
      ]
    },
    {
      "cell_type": "markdown",
      "metadata": {
        "id": "YYOO3xjexlXd"
      },
      "source": [
        "### 4.5 D'autres messages d'erreur : NameError\n",
        "\n",
        "\n"
      ]
    },
    {
      "cell_type": "code",
      "metadata": {
        "colab": {
          "base_uri": "https://localhost:8080/",
          "height": 175
        },
        "id": "CmTixe_yx5oE",
        "outputId": "552c0feb-868f-4fc1-cbd6-3dfc683778be"
      },
      "source": [
        "print(hello, world)"
      ],
      "execution_count": null,
      "outputs": [
        {
          "output_type": "error",
          "ename": "NameError",
          "evalue": "ignored",
          "traceback": [
            "\u001b[0;31m---------------------------------------------------------------------------\u001b[0m",
            "\u001b[0;31mNameError\u001b[0m                                 Traceback (most recent call last)",
            "\u001b[0;32m<ipython-input-19-137915367199>\u001b[0m in \u001b[0;36m<module>\u001b[0;34m()\u001b[0m\n\u001b[0;32m----> 1\u001b[0;31m \u001b[0mprint\u001b[0m\u001b[0;34m(\u001b[0m\u001b[0mhello\u001b[0m\u001b[0;34m,\u001b[0m \u001b[0mworld\u001b[0m\u001b[0;34m)\u001b[0m\u001b[0;34m\u001b[0m\u001b[0;34m\u001b[0m\u001b[0m\n\u001b[0m",
            "\u001b[0;31mNameError\u001b[0m: name 'hello' is not defined"
          ]
        }
      ]
    },
    {
      "cell_type": "markdown",
      "metadata": {
        "id": "TL8otTMTx8iK"
      },
      "source": [
        "Les erreurs de type \"NameError\" peuvent avoir plusieurs causes qui sont faciles à résoudre :\n",
        "\n",
        "- on a oublié les `\"` autour d'une chaîne de caractères\n",
        "- on a fait une faut en tapant le nom de la variable\n",
        "- on fait référence à une variable trop tôt dans le code, avant qu'elle n'ai été définie."
      ]
    },
    {
      "cell_type": "code",
      "metadata": {
        "id": "Vr5_5XCwr-0e",
        "colab": {
          "base_uri": "https://localhost:8080/",
          "height": 194
        },
        "outputId": "177847d2-67e7-414c-f513-ab3eed4c51f3"
      },
      "source": [
        "message = \"hello, world\"\n",
        "print(messge)"
      ],
      "execution_count": null,
      "outputs": [
        {
          "output_type": "error",
          "ename": "NameError",
          "evalue": "ignored",
          "traceback": [
            "\u001b[0;31m---------------------------------------------------------------------------\u001b[0m",
            "\u001b[0;31mNameError\u001b[0m                                 Traceback (most recent call last)",
            "\u001b[0;32m<ipython-input-20-af5bc7a68005>\u001b[0m in \u001b[0;36m<module>\u001b[0;34m()\u001b[0m\n\u001b[1;32m      1\u001b[0m \u001b[0mmessage\u001b[0m \u001b[0;34m=\u001b[0m \u001b[0;34m\"hello, world\"\u001b[0m\u001b[0;34m\u001b[0m\u001b[0;34m\u001b[0m\u001b[0m\n\u001b[0;32m----> 2\u001b[0;31m \u001b[0mprint\u001b[0m\u001b[0;34m(\u001b[0m\u001b[0mmessge\u001b[0m\u001b[0;34m)\u001b[0m\u001b[0;34m\u001b[0m\u001b[0;34m\u001b[0m\u001b[0m\n\u001b[0m",
            "\u001b[0;31mNameError\u001b[0m: name 'messge' is not defined"
          ]
        }
      ]
    },
    {
      "cell_type": "code",
      "metadata": {
        "colab": {
          "base_uri": "https://localhost:8080/",
          "height": 194
        },
        "id": "77OKV9p2yVKZ",
        "outputId": "fdc95030-b8d5-409f-c59c-5893930d9fd2"
      },
      "source": [
        "print(trop_tot)\n",
        "trop_tot = \"salut !\""
      ],
      "execution_count": null,
      "outputs": [
        {
          "output_type": "error",
          "ename": "NameError",
          "evalue": "ignored",
          "traceback": [
            "\u001b[0;31m---------------------------------------------------------------------------\u001b[0m",
            "\u001b[0;31mNameError\u001b[0m                                 Traceback (most recent call last)",
            "\u001b[0;32m<ipython-input-21-0b050295e2bc>\u001b[0m in \u001b[0;36m<module>\u001b[0;34m()\u001b[0m\n\u001b[0;32m----> 1\u001b[0;31m \u001b[0mprint\u001b[0m\u001b[0;34m(\u001b[0m\u001b[0mtrop_tot\u001b[0m\u001b[0;34m)\u001b[0m\u001b[0;34m\u001b[0m\u001b[0;34m\u001b[0m\u001b[0m\n\u001b[0m\u001b[1;32m      2\u001b[0m \u001b[0mtrop_tot\u001b[0m \u001b[0;34m=\u001b[0m \u001b[0;34m\"salut !\"\u001b[0m\u001b[0;34m\u001b[0m\u001b[0;34m\u001b[0m\u001b[0m\n",
            "\u001b[0;31mNameError\u001b[0m: name 'trop_tot' is not defined"
          ]
        }
      ]
    },
    {
      "cell_type": "markdown",
      "metadata": {
        "id": "_QJ8j32oysvN"
      },
      "source": [
        "## 5\\. Opérations arithmétiques"
      ]
    },
    {
      "cell_type": "markdown",
      "metadata": {
        "id": "uQ2Fw0HU3Ku3"
      },
      "source": [
        "Comme en programmation on manipule des données numériques (entiers et décimaux), il est possible de réaliser des calculs à l'aide d'opérateurs arithmétiques.\n",
        "\n",
        "- aditions : `+`\n",
        "- soustractions : `-`\n",
        "- multiplications : `*`\n",
        "- divisions : `/`\n"
      ]
    },
    {
      "cell_type": "markdown",
      "metadata": {
        "id": "FnlmrpMB74Qu"
      },
      "source": [
        "### 5.1 Mise en pratique\n",
        "\n",
        "> *Rappel du théorème de Thalès*\n",
        "> \n",
        "> Si DE et BC sont parallèles, alors `AD/AB = AE/AC = DE/BC`\n",
        "\n",
        "![thalès illus.png](data:image/png;base64,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)"
      ]
    },
    {
      "cell_type": "code",
      "metadata": {
        "id": "5bI50Vyz777P"
      },
      "source": [
        "# on définit nos variables connues\n",
        "AD = 5\n",
        "DB = 4\n",
        "AC = 5.4\n",
        "# On veut calculer AD/AB, on a besoin de connaître la longueur de AB\n",
        "AB = AD + DB\n",
        "# pour obtenir le rapport de proportion, on divise AD par AB\n",
        "ratio_ADB = AD / AB\n",
        "# pour obtenir la taille du segment AE, on applique le même rapport de proportion à AC\n",
        "AE = AC * ratio_ADB\n",
        "# pour connaître la longueur de AC, on soustrait AE à AC\n",
        "EC = AC - AE"
      ],
      "execution_count": 10,
      "outputs": []
    },
    {
      "cell_type": "markdown",
      "metadata": {
        "id": "h0Lia7DvCyDq"
      },
      "source": [
        "Regardons maintenant les valeurs qui ont été calculées. \n",
        "\n",
        "> *note : `'%.2f' % variable` permet de [n'afficher que les 2 premiers décimaux](https://stackoverflow.com/questions/6149006/how-to-display-a-float-with-two-decimal-places)*"
      ]
    },
    {
      "cell_type": "code",
      "metadata": {
        "colab": {
          "base_uri": "https://localhost:8080/"
        },
        "id": "z8vaCEGT3qSm",
        "outputId": "ab9c5200-624e-4aef-8e19-91f72c7e5f1a"
      },
      "source": [
        "print(\"AD/AB équivaut à \", AD, \"/\", AB, sep=\"\")\n",
        "print(\"AE/AC équivaut à \", '%.2f' % AE, \"/\", AC, sep=\"\")\n",
        "print(\"EC = \", EC, sep=\"\")\n",
        "print(\"ratio = \", '%.2f' % ratio_ADB, sep=\"\")"
      ],
      "execution_count": 15,
      "outputs": [
        {
          "output_type": "stream",
          "name": "stdout",
          "text": [
            "AD/AB équivaut à 5/9\n",
            "AE/AC équivaut à 3.00/5.4\n",
            "EC = 2.4\n",
            "ratio = 0.56\n"
          ]
        }
      ]
    },
    {
      "cell_type": "markdown",
      "metadata": {
        "id": "0dFUiv6QDI7t"
      },
      "source": [
        "### 5.2 Le cas des divisions\n",
        "\n",
        "On peut utiliser deux modes de division : \n",
        "- les divisions décimales, dont le résultat est un **quotient**.\n",
        "- les [divisions entières](https://fr.wikipedia.org/wiki/Division_euclidienne), dont le résultat est un **dividende** et un **reste**.\n",
        "\n",
        "Le symbole `/` permet de réaliser une division décimale, son résultat est toujours de type `float`. \n",
        "\n",
        "Le symbole `//` permet d'obtenir le dividende d'une division entière, son résultat est toujours de type `integer`. \n",
        "\n",
        "Le symbole `%` permet d'obtenir le reste d'une division entière, son résultat est toujours de type `integer`."
      ]
    },
    {
      "cell_type": "code",
      "metadata": {
        "colab": {
          "base_uri": "https://localhost:8080/"
        },
        "id": "8ITeRFMd2_BZ",
        "outputId": "1ae2c9aa-7d94-4ec7-e7d0-5082c78a5614"
      },
      "source": [
        "76 / 7"
      ],
      "execution_count": null,
      "outputs": [
        {
          "output_type": "execute_result",
          "data": {
            "text/plain": [
              "10.857142857142858"
            ]
          },
          "metadata": {
            "tags": []
          },
          "execution_count": 24
        }
      ]
    },
    {
      "cell_type": "code",
      "metadata": {
        "colab": {
          "base_uri": "https://localhost:8080/"
        },
        "id": "fW1o46_1GHcU",
        "outputId": "462910e5-c535-48ef-f05b-bf8c76071fbd"
      },
      "source": [
        "25 / 5"
      ],
      "execution_count": null,
      "outputs": [
        {
          "output_type": "execute_result",
          "data": {
            "text/plain": [
              "5.0"
            ]
          },
          "metadata": {
            "tags": []
          },
          "execution_count": 25
        }
      ]
    },
    {
      "cell_type": "code",
      "metadata": {
        "colab": {
          "base_uri": "https://localhost:8080/"
        },
        "id": "GTuCXQpcFQQR",
        "outputId": "a878471a-5662-4d28-dc3d-987aafe4580c"
      },
      "source": [
        "76 // 7"
      ],
      "execution_count": null,
      "outputs": [
        {
          "output_type": "execute_result",
          "data": {
            "text/plain": [
              "10"
            ]
          },
          "metadata": {
            "tags": []
          },
          "execution_count": 26
        }
      ]
    },
    {
      "cell_type": "code",
      "metadata": {
        "colab": {
          "base_uri": "https://localhost:8080/"
        },
        "id": "P5IQKxEE3B--",
        "outputId": "0b5da51b-24ae-4090-85e1-f77a9bd14a14"
      },
      "source": [
        "76 % 7"
      ],
      "execution_count": null,
      "outputs": [
        {
          "output_type": "execute_result",
          "data": {
            "text/plain": [
              "6"
            ]
          },
          "metadata": {
            "tags": []
          },
          "execution_count": 27
        }
      ]
    },
    {
      "cell_type": "markdown",
      "metadata": {
        "id": "ATt5wN0ZJ-UU"
      },
      "source": [
        "### 5.3 Priorités\n",
        "\n",
        "Les `()` permettent de changer la priorité des opérations."
      ]
    },
    {
      "cell_type": "code",
      "metadata": {
        "colab": {
          "base_uri": "https://localhost:8080/"
        },
        "id": "kYdFFYSSJ6-_",
        "outputId": "ecc8698d-47ba-4bd2-ed4e-73377b4a1b0d"
      },
      "source": [
        "print(\n",
        "    36 * 2 + 3,\n",
        "    36 * (2 + 3),\n",
        "    sep=\"\\n\")"
      ],
      "execution_count": null,
      "outputs": [
        {
          "output_type": "stream",
          "text": [
            "75\n",
            "180\n"
          ],
          "name": "stdout"
        }
      ]
    },
    {
      "cell_type": "markdown",
      "metadata": {
        "id": "vQWl1EqTGXIo"
      },
      "source": [
        "### 5.4 Compatibilités arithmétiques\n",
        "\n",
        "Les opérations arithmétiques ne se limitent pas aux nombres. Cependant tous les types de valeurs ne sont pas compatibles.\n",
        "\n",
        "On peut **aditionner** : \n",
        "- deux entiers ou deux décimaux\n",
        "- deux chaînes de caractères\n",
        "- un entier et un décimal\n",
        "\n",
        "On peut **soustraire** : \n",
        "- deux entiers ou deux décimaux\n",
        "- un entier d'un décimal et inversement\n",
        "\n",
        "On peut **multiplier** : \n",
        "- deux entiers ou deux décimaux\n",
        "- un entier et un décimal\n",
        "- une chaîne de caractères et un entier\n",
        "\n",
        "On peut **diviser** :\n",
        "- deux entiers ou deux décimaux, quel que soit le mode de division\n",
        "- un entier et un décimal et inversement, quel que soit le mode de division "
      ]
    },
    {
      "cell_type": "code",
      "metadata": {
        "colab": {
          "base_uri": "https://localhost:8080/"
        },
        "id": "kY5pxobHHJXd",
        "outputId": "515f16be-607a-40d9-cfe9-6b264944ef71"
      },
      "source": [
        "5 + 5.0"
      ],
      "execution_count": null,
      "outputs": [
        {
          "output_type": "execute_result",
          "data": {
            "text/plain": [
              "10.0"
            ]
          },
          "metadata": {
            "tags": []
          },
          "execution_count": 29
        }
      ]
    },
    {
      "cell_type": "code",
      "metadata": {
        "colab": {
          "base_uri": "https://localhost:8080/",
          "height": 36
        },
        "id": "I2AUgq_dINJm",
        "outputId": "6ff06744-0c64-4ef6-e223-aeafedde7982"
      },
      "source": [
        "\"hello \" * 3"
      ],
      "execution_count": null,
      "outputs": [
        {
          "output_type": "execute_result",
          "data": {
            "application/vnd.google.colaboratory.intrinsic+json": {
              "type": "string"
            },
            "text/plain": [
              "'hello hello hello '"
            ]
          },
          "metadata": {
            "tags": []
          },
          "execution_count": 30
        }
      ]
    },
    {
      "cell_type": "code",
      "metadata": {
        "colab": {
          "base_uri": "https://localhost:8080/"
        },
        "id": "r6gQwRNTHv_e",
        "outputId": "a5193802-3c30-4704-eb46-821645415a6c"
      },
      "source": [
        "56 // 5.6"
      ],
      "execution_count": null,
      "outputs": [
        {
          "output_type": "execute_result",
          "data": {
            "text/plain": [
              "10.0"
            ]
          },
          "metadata": {
            "tags": []
          },
          "execution_count": 31
        }
      ]
    },
    {
      "cell_type": "markdown",
      "metadata": {
        "id": "8vWkbS49JYOM"
      },
      "source": [
        "### 5.5 D'autres messages d'erreur : TypeError\n",
        "\n",
        "Si on tente de réaliser une opération arithmétique dont les valeurs sont incompatibles, on obtient une erreur de type `TypeError`, généralement suivie de la phrase `unsupported operand ...`. "
      ]
    },
    {
      "cell_type": "code",
      "metadata": {
        "colab": {
          "base_uri": "https://localhost:8080/",
          "height": 175
        },
        "id": "9Lh3xQ7fJv9_",
        "outputId": "a509a556-747c-4cee-bc75-df118587f520"
      },
      "source": [
        "\"coucou\" // 2"
      ],
      "execution_count": null,
      "outputs": [
        {
          "output_type": "error",
          "ename": "TypeError",
          "evalue": "ignored",
          "traceback": [
            "\u001b[0;31m---------------------------------------------------------------------------\u001b[0m",
            "\u001b[0;31mTypeError\u001b[0m                                 Traceback (most recent call last)",
            "\u001b[0;32m<ipython-input-33-2dd3c1b2cfe3>\u001b[0m in \u001b[0;36m<module>\u001b[0;34m()\u001b[0m\n\u001b[0;32m----> 1\u001b[0;31m \u001b[0;34m\"coucou\"\u001b[0m \u001b[0;34m//\u001b[0m \u001b[0;36m2\u001b[0m\u001b[0;34m\u001b[0m\u001b[0;34m\u001b[0m\u001b[0m\n\u001b[0m",
            "\u001b[0;31mTypeError\u001b[0m: unsupported operand type(s) for //: 'str' and 'int'"
          ]
        }
      ]
    },
    {
      "cell_type": "markdown",
      "metadata": {
        "id": "VISrIj_qMFUq"
      },
      "source": [
        "### 5.6 Convertir des valeurs\n",
        "\n",
        "On peut contourner les limites posées par la compatibilité des types en changeant le type d'une valeur, à condition bien sûr que cette conversion soit possible. \n",
        "\n",
        "Les fonctions de conversion des 4 types que nous connaissons sont : \n",
        "- `str()` : change une valeur en une chaîne de caractères équivalente ;\n",
        "- `int()` : change une valeur en un entier équivalent, si la conversion est possible ;\n",
        "- `float()` : change une valeur en un décimal équivalent, si la conversion est possible ;\n",
        "- `bool()` : change une valeur en un booléen."
      ]
    },
    {
      "cell_type": "code",
      "metadata": {
        "colab": {
          "base_uri": "https://localhost:8080/",
          "height": 36
        },
        "id": "DJpvXR9NM_MV",
        "outputId": "007e1e88-4974-4155-a03e-fa417c8f4a05"
      },
      "source": [
        "str(False)"
      ],
      "execution_count": null,
      "outputs": [
        {
          "output_type": "execute_result",
          "data": {
            "application/vnd.google.colaboratory.intrinsic+json": {
              "type": "string"
            },
            "text/plain": [
              "'False'"
            ]
          },
          "metadata": {
            "tags": []
          },
          "execution_count": 35
        }
      ]
    },
    {
      "cell_type": "code",
      "metadata": {
        "colab": {
          "base_uri": "https://localhost:8080/"
        },
        "id": "nOahcR1kNB9I",
        "outputId": "299e5ec8-cb16-4040-f348-a1900ae687c6"
      },
      "source": [
        "float(51)"
      ],
      "execution_count": null,
      "outputs": [
        {
          "output_type": "execute_result",
          "data": {
            "text/plain": [
              "51.0"
            ]
          },
          "metadata": {
            "tags": []
          },
          "execution_count": 36
        }
      ]
    },
    {
      "cell_type": "code",
      "metadata": {
        "colab": {
          "base_uri": "https://localhost:8080/"
        },
        "id": "lFhVyBfmNEX0",
        "outputId": "7a6f87be-d999-4bb9-cc4c-b181daeb41ef"
      },
      "source": [
        "bool(\"hello\")"
      ],
      "execution_count": null,
      "outputs": [
        {
          "output_type": "execute_result",
          "data": {
            "text/plain": [
              "True"
            ]
          },
          "metadata": {
            "tags": []
          },
          "execution_count": 37
        }
      ]
    },
    {
      "cell_type": "code",
      "metadata": {
        "colab": {
          "base_uri": "https://localhost:8080/"
        },
        "id": "fZpmHV62NGx2",
        "outputId": "8b7040e5-af04-4a70-b303-9b9d989c4536"
      },
      "source": [
        "int(\"45459\")"
      ],
      "execution_count": null,
      "outputs": [
        {
          "output_type": "execute_result",
          "data": {
            "text/plain": [
              "45459"
            ]
          },
          "metadata": {
            "tags": []
          },
          "execution_count": 38
        }
      ]
    },
    {
      "cell_type": "markdown",
      "metadata": {
        "id": "nqxSGMvHOIb4"
      },
      "source": [
        "On peut alors maintenant créer des chaînes de caractères qui intègrent d'autres types de valuers : "
      ]
    },
    {
      "cell_type": "code",
      "metadata": {
        "colab": {
          "base_uri": "https://localhost:8080/"
        },
        "id": "DplG_EqkORi-",
        "outputId": "3a0f6929-26ba-4da1-a06a-774d6d18f9c4"
      },
      "source": [
        "msg = \"Si on convertit un \" + str(0) + \" en un booléen, \" \n",
        "msg += \"cela donnera toujours : \" + str(bool(0))\n",
        "\n",
        "print(msg)"
      ],
      "execution_count": null,
      "outputs": [
        {
          "output_type": "stream",
          "text": [
            "Si on convertit un 0 en un booléen, cela donnera toujours : False\n"
          ],
          "name": "stdout"
        }
      ]
    },
    {
      "cell_type": "markdown",
      "metadata": {
        "id": "JzqhKS9ATEQd"
      },
      "source": [
        "### 5.7 Exercices ⚡\n",
        "\n",
        "En utilisant des opérateurs arithmétiques et une variable, écrivez un algorithme permettant d'obtenir l'affichage suivant, puis transformez-le en un script Python :\n",
        "\n",
        "```\n",
        "3 x 0 = 0\n",
        "3 x 1 = 3\n",
        "3 x 2 = 6\n",
        "3 x 3 = 9\n",
        "3 x 4 = 12\n",
        "3 x 5 = 15\n",
        "```"
      ]
    },
    {
      "cell_type": "markdown",
      "metadata": {
        "id": "jDzZgypGTve2"
      },
      "source": [
        "```\n",
        "algorithme:\n",
        "\n",
        "```"
      ]
    },
    {
      "cell_type": "code",
      "metadata": {
        "id": "CwXipAvTTNxV"
      },
      "source": [
        ""
      ],
      "execution_count": null,
      "outputs": []
    },
    {
      "cell_type": "markdown",
      "metadata": {
        "id": "--5loMrXTNTL"
      },
      "source": [
        "---\n",
        "\n",
        "Sachant que :\n",
        "- `len()` permet de connaître la longueur d'une chaine de caractères (`len(\"hello\") >> 5`)\n",
        "- `input()` permet de demander à l'utilisateur-rice d'entrer une valeur (`input('Quel est votre âge? ')`\n",
        "\n",
        "Ecrire l'algorithme d'un programme permettant de créer automatiquement un pseudo à partir d'un nom, d'un prénom et de la longueur de ces deux éléments combinés.\n"
      ]
    },
    {
      "cell_type": "markdown",
      "metadata": {
        "id": "eaq-Kf56URVE"
      },
      "source": [
        "```\n",
        "algorithme\n",
        "\n",
        "```"
      ]
    },
    {
      "cell_type": "code",
      "metadata": {
        "id": "j9NFshgeUTnM"
      },
      "source": [
        ""
      ],
      "execution_count": null,
      "outputs": []
    },
    {
      "cell_type": "markdown",
      "metadata": {
        "id": "fn9j-tHeUUGa"
      },
      "source": [
        "---\n",
        "\n",
        "Plus d'exercices sont disponibles ici : 👉 https://colab.research.google.com/drive/1WetJBiXsMLc_iixr0R32u-zyLn5uLRrh?usp=sharing"
      ]
    },
    {
      "cell_type": "markdown",
      "metadata": {
        "id": "vcdOnL5RYjTL"
      },
      "source": [
        "## 6\\. Comparer des valeurs\n",
        "\n",
        "On utilise des symboles (opérateurs) pour comparer des valeurs entre elles. Ces comparaisons renvoient toujours un résultat sous la forme d'un booléen : False ou True.\n",
        "\n",
        "- test d'égalité (=) : `==`\n",
        "- test de non-égalité (≠) : `!=`\n",
        "- test de grandeur (>, <, ≥, ≤) : `>`, `<`, `>=`, `<=`\n",
        "\n",
        "\n"
      ]
    },
    {
      "cell_type": "code",
      "metadata": {
        "colab": {
          "base_uri": "https://localhost:8080/"
        },
        "id": "yxZN65KGir-S",
        "outputId": "5b957946-be47-48a3-caec-7c160e808b7b"
      },
      "source": [
        "12 > 3"
      ],
      "execution_count": null,
      "outputs": [
        {
          "output_type": "execute_result",
          "data": {
            "text/plain": [
              "True"
            ]
          },
          "metadata": {
            "tags": []
          },
          "execution_count": 40
        }
      ]
    },
    {
      "cell_type": "code",
      "metadata": {
        "colab": {
          "base_uri": "https://localhost:8080/"
        },
        "id": "L-U7ihlAivSd",
        "outputId": "7e72973a-def1-4ba0-f14a-6247de36d54d"
      },
      "source": [
        "\"hello\" == \"bonjour\""
      ],
      "execution_count": null,
      "outputs": [
        {
          "output_type": "execute_result",
          "data": {
            "text/plain": [
              "False"
            ]
          },
          "metadata": {
            "tags": []
          },
          "execution_count": 41
        }
      ]
    },
    {
      "cell_type": "code",
      "metadata": {
        "colab": {
          "base_uri": "https://localhost:8080/"
        },
        "id": "mNcFKnMWizza",
        "outputId": "d755a4fd-8c8c-4080-a5b1-f97fb4a7c7f0"
      },
      "source": [
        "len(\"hello!!\") >= len(\"bonjour\")"
      ],
      "execution_count": null,
      "outputs": [
        {
          "output_type": "execute_result",
          "data": {
            "text/plain": [
              "True"
            ]
          },
          "metadata": {
            "tags": []
          },
          "execution_count": 42
        }
      ]
    },
    {
      "cell_type": "code",
      "metadata": {
        "colab": {
          "base_uri": "https://localhost:8080/"
        },
        "id": "-dM7phuyjDX9",
        "outputId": "39e44eea-fc46-4943-e26a-a222545ab514"
      },
      "source": [
        "# l'ordre de grandeur entre deux chaînes de caractères repose sur le classement alphabétique\n",
        "\"abc\" < \"def\""
      ],
      "execution_count": null,
      "outputs": [
        {
          "output_type": "execute_result",
          "data": {
            "text/plain": [
              "True"
            ]
          },
          "metadata": {
            "tags": []
          },
          "execution_count": 43
        }
      ]
    },
    {
      "cell_type": "markdown",
      "metadata": {
        "id": "MFE7GB-AknUS"
      },
      "source": [
        "## 7\\. Structures conditionnelles\n",
        "\n",
        "En programmation, la comparaison des valeurs permet de définir quel comportement le programme doit adopter en fonction des valeurs qui lui sont transmises. "
      ]
    },
    {
      "cell_type": "markdown",
      "metadata": {
        "id": "LiI93haptv4L"
      },
      "source": [
        "### 7.1 Structure simple\n",
        "\n",
        "Le mot-clef `if` permet de créer une structure conditionnelle.\n",
        "\n",
        "``` py\n",
        "if {test}:\n",
        "  {instruction optionnelle}\n",
        "```"
      ]
    },
    {
      "cell_type": "code",
      "metadata": {
        "colab": {
          "base_uri": "https://localhost:8080/"
        },
        "id": "IE_-J78GlmEZ",
        "outputId": "bb2ec8b7-dbce-4722-adba-30e0547a5bb3"
      },
      "source": [
        "# si la valeur contenue dans la variable \"age\" est supérieure\n",
        "# à 16, alors on affiche un message.\n",
        "print(\"Bienvenue au cinéma !\")\n",
        "age = int(input(\"Quel est votre âge? \"))\n",
        "if age < 16:\n",
        "  print(\"Vous n'avez pas le droit de voir ce film!\")"
      ],
      "execution_count": null,
      "outputs": [
        {
          "output_type": "stream",
          "text": [
            "Bienvenue au cinéma !\n",
            "Quel est votre âge? 19\n"
          ],
          "name": "stdout"
        }
      ]
    },
    {
      "cell_type": "markdown",
      "metadata": {
        "id": "pth1R890tygm"
      },
      "source": [
        "### 7.2 Structures complexes"
      ]
    },
    {
      "cell_type": "markdown",
      "metadata": {
        "id": "xyEXPugblz5z"
      },
      "source": [
        "On pourrait enchaîner les conditions \"if\", comme ceci :"
      ]
    },
    {
      "cell_type": "code",
      "metadata": {
        "colab": {
          "base_uri": "https://localhost:8080/"
        },
        "id": "iRVE1LRwnsuc",
        "outputId": "f1a5bbaf-3cf6-4d9e-a41b-b8ed0a7ea62a"
      },
      "source": [
        "# si la valeur contenue dans la variable \"age\" est inférieure\n",
        "# à 16, alors on affiche un message ; si la valeur est supérieure\n",
        "# ou égale à 16, alors on affiche un autre message.\n",
        "print(\"Bienvenue au cinéma !\")\n",
        "#age = int(input(\"Quel est votre âge? \"))\n",
        "age = 14\n",
        "\n",
        "if age < 16:\n",
        "  print(\"Vous n'avez pas le droit de voir ce film !\")\n",
        "if age >= 16:\n",
        "  print(\"C'est bon vous pouvez rentrer dans la salle !\")"
      ],
      "execution_count": null,
      "outputs": [
        {
          "output_type": "stream",
          "text": [
            "Bienvenue au cinéma !\n",
            "Vous n'avez pas le droit de voir ce film !\n"
          ],
          "name": "stdout"
        }
      ]
    },
    {
      "cell_type": "markdown",
      "metadata": {
        "id": "ry61X3Ncn4hA"
      },
      "source": [
        "Mais si on veut prévoir plusieurs cas, c'est lourd pour la personne qui rédige/lit le code, mais aussi pour la machine : si la première condition (age < 16) était vraie, alors la deuxième (age >= 16) est forcément fausse, on n'a pas besoin de refaire le calcul. \n",
        "\n",
        "Pour gagner en efficacité, on peut combiner les conditions grâce aux mots-clefs `elif` et `else`."
      ]
    },
    {
      "cell_type": "code",
      "metadata": {
        "colab": {
          "base_uri": "https://localhost:8080/"
        },
        "id": "Ud3GUAx2oy2_",
        "outputId": "02d5c74e-5fc6-48bc-a73b-725fab716d36"
      },
      "source": [
        "# si la valeur contenue dans la variable \"age\" est inférieure\n",
        "# à 16, alors on affiche un message ; sinon on affiche un autre message.\n",
        "print(\"Bienvenue au cinéma !\")\n",
        "#age = int(input(\"Quel est votre âge? \"))\n",
        "age = 39\n",
        "\n",
        "if age < 16:\n",
        "  print(\"Vous n'avez pas le droit de voir ce film !\")\n",
        "else:\n",
        "  print(\"C'est bon vous pouvez rentrer dans la salle !\")"
      ],
      "execution_count": null,
      "outputs": [
        {
          "output_type": "stream",
          "text": [
            "Bienvenue au cinéma !\n",
            "C'est bon vous pouvez rentrer dans la salle !\n"
          ],
          "name": "stdout"
        }
      ]
    },
    {
      "cell_type": "code",
      "metadata": {
        "colab": {
          "base_uri": "https://localhost:8080/"
        },
        "id": "yGWx-fgTo7dx",
        "outputId": "bbf34047-49b9-4c09-98cd-f537b4881239"
      },
      "source": [
        "# si la valeur contenue dans la variable \"age\" est inférieure\n",
        "# à 16, alors on affiche un message ; si elle est égale à 16, \n",
        "# on affiche un autre message ; sinon on affiche encore un autre \n",
        "# message.\n",
        "print(\"Bienvenue au cinéma !\")\n",
        "#age = int(input(\"Quel est votre âge? \"))\n",
        "age = 16\n",
        "\n",
        "if age < 16:\n",
        "  print(\"Vous n'avez pas le droit de voir ce film !\")\n",
        "elif age == 16:\n",
        "  print(\"C'est juste, mais ça passe !\")\n",
        "else:\n",
        "  print(\"C'est bon vous pouvez rentrer dans la salle !\")"
      ],
      "execution_count": null,
      "outputs": [
        {
          "output_type": "stream",
          "text": [
            "Bienvenue au cinéma !\n",
            "C'est juste, mais ça passe !\n"
          ],
          "name": "stdout"
        }
      ]
    },
    {
      "cell_type": "markdown",
      "metadata": {
        "id": "s13d8OQYpQiJ"
      },
      "source": [
        "### 7.3 Quelques remarques formelles\n",
        "\n",
        "- `if` permet de désigner un cas spécifique initial\n",
        "- `elif` permet de désigner un cas spécifique alternatif au premier cas\n",
        "- `else` permet de désigner \"tous les autres cas\"\n",
        " \n",
        "On peut associer à un `if` autant de blocs `elif` qu'on le souhaite, par contre il ne peut y avoir qu'un seul bloc `else`. Les blocs `elif` et `else` sont optionnels ; par contre on ne peut pas avoir `elif` ou `else` sans un premier `if`.\n",
        " \n",
        "- un *statement* if/elif/else finit toujours par `:`\n",
        "- il est toujours suivi d'au moins une ligne d'instruction indentée\n",
        "- l'indentation permet de distinguer les instructions qui relèvent de la condition du reste du programme."
      ]
    },
    {
      "cell_type": "code",
      "metadata": {
        "colab": {
          "base_uri": "https://localhost:8080/",
          "height": 137
        },
        "id": "cvbHEeEUsEb7",
        "outputId": "ef2447d1-b2e2-4711-87bf-04d80de05e50"
      },
      "source": [
        "language = str(input(\"Quel langue parlez-vous ? (en/fr/es) \"))\n",
        "\n",
        "if language == \"en\"\n",
        "  print(\"Hello!\")\n",
        "elif language == \"fr\":\n",
        "  print(\"Bonjour !\")\n",
        "elif language == \"es\":\n",
        "  print(\"¡Buenos dias!\")\n",
        "else:\n",
        "  print(\"Erreur !\")"
      ],
      "execution_count": null,
      "outputs": [
        {
          "output_type": "error",
          "ename": "SyntaxError",
          "evalue": "ignored",
          "traceback": [
            "\u001b[0;36m  File \u001b[0;32m\"<ipython-input-49-20d1a64e5109>\"\u001b[0;36m, line \u001b[0;32m3\u001b[0m\n\u001b[0;31m    if language == \"en\"\u001b[0m\n\u001b[0m                       ^\u001b[0m\n\u001b[0;31mSyntaxError\u001b[0m\u001b[0;31m:\u001b[0m invalid syntax\n"
          ]
        }
      ]
    },
    {
      "cell_type": "code",
      "metadata": {
        "colab": {
          "base_uri": "https://localhost:8080/",
          "height": 137
        },
        "id": "dIvTIuLsswKM",
        "outputId": "02fc9ddf-08dd-4204-8e47-3e13017b995c"
      },
      "source": [
        "if 30 < 50:\n",
        "print(\"30 est plus petit que 50\")"
      ],
      "execution_count": null,
      "outputs": [
        {
          "output_type": "error",
          "ename": "IndentationError",
          "evalue": "ignored",
          "traceback": [
            "\u001b[0;36m  File \u001b[0;32m\"<ipython-input-50-3c12aa5e6124>\"\u001b[0;36m, line \u001b[0;32m2\u001b[0m\n\u001b[0;31m    print(\"30 est plus petit que 50\")\u001b[0m\n\u001b[0m        ^\u001b[0m\n\u001b[0;31mIndentationError\u001b[0m\u001b[0;31m:\u001b[0m expected an indented block\n"
          ]
        }
      ]
    },
    {
      "cell_type": "markdown",
      "metadata": {
        "id": "stpYsPhuuiWu"
      },
      "source": [
        "### 7.4 Puisqu'on parle d'indentation\n",
        "\n",
        "En Python, l'indentation est marquée par :\n",
        "- 1 tabulation ; ou\n",
        "- 2 ou **4 espaces**\n",
        "\n",
        "Définir des blocs est essentiel pour plusieurs structures logiques dont les structures conditionnelles. Dans d'autres langages de programmation, les blocs logiques sont définis par d'autres biais, par exemples des `{}`. \n"
      ]
    },
    {
      "cell_type": "markdown",
      "metadata": {
        "id": "AJ7LytOFvd-o"
      },
      "source": [
        "Les deux blocs suivants ne donneront pas le même résultat : \n",
        "\n",
        "1. On n'affiche \"Au revoir\" que si la condition est vraie ; on aura donc toujours soit \"Bonjour\", puis \"Au revoir\", soit rien du tout.\n",
        "\n",
        "2. On affiche \"Au revoir\" tout le temps, que la condition soit vraie ou fausse. On aura tantôt \"Bonjour\" puis \"Au revoir\", tantôt \"Au revoir\" seulement."
      ]
    },
    {
      "cell_type": "code",
      "metadata": {
        "colab": {
          "base_uri": "https://localhost:8080/"
        },
        "id": "CW_25iGrvC59",
        "outputId": "6a135bdf-4159-4265-92d1-85fc1134fada"
      },
      "source": [
        "if 1 == 1:\n",
        "  print(\"Bonjour\")\n",
        "  print(\"Au revoir\")"
      ],
      "execution_count": null,
      "outputs": [
        {
          "output_type": "stream",
          "text": [
            "Bonjour\n",
            "Au revoir\n"
          ],
          "name": "stdout"
        }
      ]
    },
    {
      "cell_type": "code",
      "metadata": {
        "colab": {
          "base_uri": "https://localhost:8080/"
        },
        "id": "C0__FGv4uh1d",
        "outputId": "ba127017-cc00-4abe-f91d-50f8b87300be"
      },
      "source": [
        "if 2 == 1:\n",
        "  print(\"Bonjour\")\n",
        "print(\"Au revoir\")"
      ],
      "execution_count": null,
      "outputs": [
        {
          "output_type": "stream",
          "text": [
            "Au revoir\n"
          ],
          "name": "stdout"
        }
      ]
    },
    {
      "cell_type": "markdown",
      "metadata": {
        "id": "CuupoEYUwk6K"
      },
      "source": [
        "### 7.5 Articuler plusieurs niveaux logiques\n",
        "\n",
        "On peut tout à fait imbriquer des structures logiques. On ajoute alors un cran d'indentation à chaque nouveau niveau."
      ]
    },
    {
      "cell_type": "code",
      "metadata": {
        "colab": {
          "base_uri": "https://localhost:8080/"
        },
        "id": "Gafyst0Qw0-M",
        "outputId": "878fda8a-33b6-4718-cc8f-fbc3e530d89e"
      },
      "source": [
        "age = 20\n",
        "print(\"Bienvenu au cinéma !\")\n",
        "if age >= 16:\n",
        "  if age == 16:\n",
        "    print(\"c'est juste, mais ça passe\")\n",
        "  else:\n",
        "    print(\"Vous pouvez rentrer dans la salle !\")\n",
        "else:\n",
        "  print(\"Vous êtes trop jeune pour voir ce film!\")"
      ],
      "execution_count": null,
      "outputs": [
        {
          "output_type": "stream",
          "text": [
            "Bienvenu au cinéma !\n",
            "Vous pouvez rentrer dans la salle !\n"
          ],
          "name": "stdout"
        }
      ]
    },
    {
      "cell_type": "markdown",
      "metadata": {
        "id": "GJm5rFgmiooF"
      },
      "source": [
        "## 8\\. Opérateurs booléens\n",
        "\n",
        "Les opérateurs booléens permettent d'articuler plusieurs comparaison de valeurs entre elles. La combinaison de plusieurs comparaisons renvoie toujours un résultat sous la forme d'un booléen.\n",
        "\n",
        "- `IN`\n",
        "- `AND`\n",
        "- `OR`\n",
        "- `NOT`\n",
        "\n",
        "![image.png](data:image/png;base64,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)"
      ]
    },
    {
      "cell_type": "markdown",
      "metadata": {
        "id": "4nabMJUt3E0k"
      },
      "source": [
        "### 8.1 Appartenance\n",
        "\n",
        "Le mot-clef `in` permet de tester qu'un élément appartient à un ensemble. Parmi les 4 types d'objets que nous connaissons, seules les chaînes de caractères correspondent à des ensembles."
      ]
    },
    {
      "cell_type": "code",
      "metadata": {
        "colab": {
          "base_uri": "https://localhost:8080/"
        },
        "id": "VO3DfSmI3Yik",
        "outputId": "faaf660b-9ac3-432b-84f9-97adaf0c2b0b"
      },
      "source": [
        "if \"o\" in \"bonjour\":\n",
        "  print(\"bonjour!\")"
      ],
      "execution_count": null,
      "outputs": [
        {
          "output_type": "stream",
          "text": [
            "bonjour!\n"
          ],
          "name": "stdout"
        }
      ]
    },
    {
      "cell_type": "code",
      "metadata": {
        "colab": {
          "base_uri": "https://localhost:8080/"
        },
        "id": "0nNjFFhh3fB7",
        "outputId": "6ec84a76-f875-4e87-a804-8015693880e1"
      },
      "source": [
        "if \"wor\" in \"world\":\n",
        "  print(\"hello, world\")\n",
        "else:\n",
        "  print(\"goodbye, world\")"
      ],
      "execution_count": null,
      "outputs": [
        {
          "output_type": "stream",
          "text": [
            "hello, world\n"
          ],
          "name": "stdout"
        }
      ]
    },
    {
      "cell_type": "markdown",
      "metadata": {
        "id": "5_HXheiv3pyW"
      },
      "source": [
        "### 8.2 Négation\n",
        "\n",
        "Le mot-clef `not` permet d'inverser le résultat d'un test."
      ]
    },
    {
      "cell_type": "code",
      "metadata": {
        "colab": {
          "base_uri": "https://localhost:8080/"
        },
        "id": "uPiZlAXW3pJV",
        "outputId": "7f51e21d-0dd3-440f-af93-db6626520777"
      },
      "source": [
        "if not \"wor\" in \"world\":\n",
        "  print(\"hello, world\")\n",
        "else:\n",
        "  print(\"goodbye, world\")"
      ],
      "execution_count": null,
      "outputs": [
        {
          "output_type": "stream",
          "text": [
            "goodbye, world\n"
          ],
          "name": "stdout"
        }
      ]
    },
    {
      "cell_type": "markdown",
      "metadata": {
        "id": "pAazTrZ_3-cb"
      },
      "source": [
        "On a souvent déjà un opérateur permettant de viser l'inverse d'une condition.\n",
        "\n",
        "- `not >` -> `<=`\n",
        "- `not ==` -> `!=`\n",
        "\n",
        "Etc.\n"
      ]
    },
    {
      "cell_type": "code",
      "metadata": {
        "colab": {
          "base_uri": "https://localhost:8080/"
        },
        "id": "PGmtXz0O38SP",
        "outputId": "d7cc8b7d-4069-4c17-becf-345f1b2a6625"
      },
      "source": [
        "if not 23 > 45:\n",
        "  print(\"23 <= 45\")"
      ],
      "execution_count": null,
      "outputs": [
        {
          "output_type": "stream",
          "text": [
            "23 <= 45\n"
          ],
          "name": "stdout"
        }
      ]
    },
    {
      "cell_type": "markdown",
      "metadata": {
        "id": "n3dyUuNq07Yh"
      },
      "source": [
        "### 8.3 Toutes les conditions sont remplies\n",
        "\n",
        "Le mot-clef `and` ne renvoie \"True\" que quand toutes les conditions cumulées sont elles-mêmes vraies. "
      ]
    },
    {
      "cell_type": "code",
      "metadata": {
        "colab": {
          "base_uri": "https://localhost:8080/"
        },
        "id": "4kskConP1e8o",
        "outputId": "2291d85d-7b4f-4410-ed24-377e6aafcd32"
      },
      "source": [
        "# 43 > 40 et \"41\" == str(41) sont toutes les deux vraies\n",
        "# donc leur association avec l'opérateur \"and\" est aussi vraie\n",
        "print(\n",
        "    43 > 40,\n",
        "    \"41\" == str(41),\n",
        "    43 > 40 and \"41\" == str(41),\n",
        "    sep=\"\\n\")"
      ],
      "execution_count": null,
      "outputs": [
        {
          "output_type": "stream",
          "text": [
            "True\n",
            "True\n",
            "True\n"
          ],
          "name": "stdout"
        }
      ]
    },
    {
      "cell_type": "code",
      "metadata": {
        "colab": {
          "base_uri": "https://localhost:8080/"
        },
        "id": "N5LoQbqh1gdx",
        "outputId": "5ffcdaab-bd2b-4e37-9aed-5b7f8e89cfe2"
      },
      "source": [
        "# 41\" == str(41) est vrai, mais 40 > 43 est faux, donc \n",
        "# leur association avec l'opérateur \"and\" est fausse\n",
        "print(\n",
        "    40 > 43,\n",
        "    \"41\" == str(41),\n",
        "    40 > 43 and \"41\" == str(41),\n",
        "    sep=\"\\n\")"
      ],
      "execution_count": null,
      "outputs": [
        {
          "output_type": "stream",
          "text": [
            "False\n",
            "True\n",
            "False\n"
          ],
          "name": "stdout"
        }
      ]
    },
    {
      "cell_type": "markdown",
      "metadata": {
        "id": "8NUGMixL2bD-"
      },
      "source": [
        "### 8.4 Au moins l'une des condition est remplie\n",
        "\n",
        "Le mot-clef `or` renvoie \"True\" dès lors que l'une des conditions testées est vraie."
      ]
    },
    {
      "cell_type": "code",
      "metadata": {
        "colab": {
          "base_uri": "https://localhost:8080/"
        },
        "id": "k4EEWp7A2nfs",
        "outputId": "76b5a6a2-29bf-49a2-9a83-35b449fc2b00"
      },
      "source": [
        "# 40 > 43 est faux, mais 41\" == str(41) est vrai, donc \n",
        "# leur association avec l'opérateur \"or\" est vraie\n",
        "print(\n",
        "    40 > 43,\n",
        "    \"41\" == str(41),\n",
        "    40 > 43 or \"41\" == str(41),\n",
        "    sep=\"\\n\")"
      ],
      "execution_count": null,
      "outputs": [
        {
          "output_type": "stream",
          "text": [
            "False\n",
            "True\n",
            "True\n"
          ],
          "name": "stdout"
        }
      ]
    },
    {
      "cell_type": "code",
      "metadata": {
        "colab": {
          "base_uri": "https://localhost:8080/"
        },
        "id": "aK4FMe_P21PP",
        "outputId": "18a70374-5c36-4821-acab-f256eef60136"
      },
      "source": [
        "# si toutes les conditions sont fausses, leur association\n",
        "# avec l'opétateur \"or\" est fausse aussi.\n",
        "print(\n",
        "    40 > 43,\n",
        "    \"41\" != str(41),\n",
        "    40 > 43 and \"41\" != str(41),\n",
        "    sep=\"\\n\")"
      ],
      "execution_count": null,
      "outputs": [
        {
          "output_type": "stream",
          "text": [
            "False\n",
            "False\n",
            "False\n"
          ],
          "name": "stdout"
        }
      ]
    },
    {
      "cell_type": "markdown",
      "metadata": {
        "id": "6JkQ2aWMxwLz"
      },
      "source": [
        "### 8.5 Exercices ⚡\n",
        "\n",
        "Des exercices sur les expressions booléennes sont disponibles ici : 👉 https://colab.research.google.com/drive/1C3lIRb7wlq2QIFGMP3LRdXPfw_3nUlKX?usp=sharing\n",
        "\n",
        "Des exercices sur les structures conditionnelles sont disponibles ici : 👉 https://colab.research.google.com/drive/1qokl9yLlvsy913r2lzy0KhgLk3831rWW?usp=sharing"
      ]
    },
    {
      "cell_type": "markdown",
      "metadata": {
        "id": "kNicTl4STpau"
      },
      "source": [
        "## 9\\. Structures itératives\n",
        "\n",
        "Les boucles sont un moyen de répéter une série d'actions identiques sans avoir à les écrire plusieurs fois. Il y a toujours une condition qui détermine à quel moment une boucle doit être interrompue.\n",
        "\n",
        "Il y a deux catégories de boucles : `for` et `while`.\n",
        "- Une boucle `for` prédéfinit le nombre d'itérations à effectuer : \"pendant x itération(s), faire l'action y\"\n",
        "- Une boucle `while` ne définit pas systématiquement un nombre maximum d'itérations : \"tant que la condition a n 'est pas remplie, faire l'action b\"\n",
        "\n",
        "Les instructions à effectuer dans une boucle sont toujours indentées.\n"
      ]
    },
    {
      "cell_type": "markdown",
      "metadata": {
        "id": "kr-a5K8-Xw5u"
      },
      "source": [
        "### 9.1 Les boucles while\n",
        "\n",
        "Une boucle while est interrompue dès que la condition qui détermine sa répétition est fausse.\n",
        "\n",
        "Sur le même modèle que les structures conditionnelles, les boucles while s'écrivent à l'aide du mot-clef `while` (\"tant que\")."
      ]
    },
    {
      "cell_type": "code",
      "metadata": {
        "colab": {
          "base_uri": "https://localhost:8080/"
        },
        "id": "SP5abhVZYJOI",
        "outputId": "ebe80f45-af8f-48f3-e09f-27500603cd95"
      },
      "source": [
        "day = 24\n",
        "while day <= 31:\n",
        "  print(\"Aujourd'hui on est le \" + str(day) + \" mars\")\n",
        "  day = day + 1"
      ],
      "execution_count": null,
      "outputs": [
        {
          "output_type": "stream",
          "text": [
            "Aujourd'hui on est le 24 mars\n",
            "Aujourd'hui on est le 25 mars\n",
            "Aujourd'hui on est le 26 mars\n",
            "Aujourd'hui on est le 27 mars\n",
            "Aujourd'hui on est le 28 mars\n",
            "Aujourd'hui on est le 29 mars\n",
            "Aujourd'hui on est le 30 mars\n",
            "Aujourd'hui on est le 31 mars\n"
          ],
          "name": "stdout"
        }
      ]
    },
    {
      "cell_type": "markdown",
      "metadata": {
        "id": "l7mFtY4sY3Y1"
      },
      "source": [
        "Dans l'exemple ci-dessus : tant que la date du jour est plausible (inférieure ou égale à 31), on affiche un message. On s'arrête dès que la valeur de la variable \"day\" est 32."
      ]
    },
    {
      "cell_type": "markdown",
      "metadata": {
        "id": "gRs2TpvQZJEW"
      },
      "source": [
        "**Attention** : les boucles `while` ont besoin d'être associées à une condition qui peut être fausse, autrement le programme ne sort jamais de la boucle et continu à l'infini."
      ]
    },
    {
      "cell_type": "code",
      "metadata": {
        "id": "g_LUpQ_IY26r"
      },
      "source": [
        "# Voici un exemple de boucle infinie\n",
        "#day = 1\n",
        "#while day >= 1:\n",
        "#  print(\"day vaut :\", day)\n",
        "#  day += 1"
      ],
      "execution_count": null,
      "outputs": []
    },
    {
      "cell_type": "markdown",
      "metadata": {
        "id": "OO4NjD77ZwCk"
      },
      "source": [
        "#### 9.1.1 Exemple d'utilisation d'une boucle while\n",
        "\n",
        "On souhaite que l'utilisateur/rice réponde soit \"y\", soit \"n\" à une question. Pour s'assurer que la réponse donnée correspond à nos attentes, on utilise une boucle while qui teste la valeur de la variable reponse et redemande à l'utilisatrice d'entrer une valeur si celle-ci n'est pas conforme.\n",
        "\n",
        "> ***notez :*** *la valeur de la variable reponse, pivot de l'expression utilisée pour interrompre la boucle while, est modifiée à l'intérieur de la boucle.*"
      ]
    },
    {
      "cell_type": "code",
      "metadata": {
        "colab": {
          "base_uri": "https://localhost:8080/"
        },
        "id": "4pDN1r61Z6sn",
        "outputId": "ad8317e6-9590-4a19-f066-fc55f8281794"
      },
      "source": [
        "reponse = \"\"\n",
        "while reponse != \"y\" and reponse != \"n\":\n",
        "    reponse = input(\"voulez-vous continuer ? [y/n] \")\n",
        "if reponse == \"y\":\n",
        "  print(\"ok, on continue !\")\n",
        "elif reponse == \"n\":\n",
        "  print(\"ok, on arrête !\")"
      ],
      "execution_count": null,
      "outputs": [
        {
          "output_type": "stream",
          "text": [
            "voulez-vous continuer ? [y/n] e\n",
            "voulez-vous continuer ? [y/n] y\n",
            "ok, on continue !\n"
          ],
          "name": "stdout"
        }
      ]
    },
    {
      "cell_type": "markdown",
      "metadata": {
        "id": "m6snA4wfaUOa"
      },
      "source": [
        "### 9.2 Les boucles `for`\n",
        "\n",
        "Une boucle `for` a une quantité limitée de répétitions car elle itère sur une série finie de valeurs. \n",
        "\n",
        "Pour chaque élément de la série, la valeur est assignée à une variable définie après le mot-clef for. Si cette variable n'existe pas avant la boucle for, elle est automatiquement créée.\n"
      ]
    },
    {
      "cell_type": "code",
      "metadata": {
        "colab": {
          "base_uri": "https://localhost:8080/"
        },
        "id": "rylb5tOKa9jT",
        "outputId": "5cb9b2f2-0ad8-4f3a-aef1-a21ebfea120f"
      },
      "source": [
        "# serie ne chanqe pas\n",
        "# mais element change à chaque répétition\n",
        "serie = \"hi!\"\n",
        "for element in serie:\n",
        "   print(\"element =\", element)\n",
        "   print(\"serie =\", serie)"
      ],
      "execution_count": null,
      "outputs": [
        {
          "output_type": "stream",
          "text": [
            "element = h\n",
            "serie = hi!\n",
            "element = i\n",
            "serie = hi!\n",
            "element = !\n",
            "serie = hi!\n"
          ],
          "name": "stdout"
        }
      ]
    },
    {
      "cell_type": "markdown",
      "metadata": {
        "id": "oywF05MJa_7r"
      },
      "source": [
        "> On peut lire l'instruction for x in \"hello\": ainsi : pour chaque valeur (lettre) contenue dans la chaine de caractères \"hello\", l'assigner à la variable x.\n",
        "\n",
        "Une boucle for a donc un nombre limité d'itérations, défini par la longueur de la série. En ce sens, les boucles for sont plus sécurisées que les boucles while et sont donc à privilégier."
      ]
    },
    {
      "cell_type": "markdown",
      "metadata": {
        "id": "5d-62Q3-bSom"
      },
      "source": [
        "### 9.3 Articuler plusieurs niveaux de répétitions\n",
        "\n",
        "On peut enchaîner plusieurs boucles et/ou structures conditionnelles et les imbriquer."
      ]
    },
    {
      "cell_type": "code",
      "metadata": {
        "colab": {
          "base_uri": "https://localhost:8080/"
        },
        "id": "xKfvqHlabocL",
        "outputId": "9a1619d7-d3e7-4962-b6e3-fe8cfb8ab95a"
      },
      "source": [
        "mon_mot = \"bonjour !\"\n",
        "for lettre in mon_mot:\n",
        "  if lettre in \"aeiouy\":\n",
        "    print(\"'\" + lettre + \"' est une voyelle\")\n",
        "  elif lettre in \".,;:!?'() \":\n",
        "    print(\"'\" + lettre + \"' est une ponctuation ou un espace\")\n",
        "  else:\n",
        "    print(\"'\" + lettre + \"' est une consomne\")"
      ],
      "execution_count": null,
      "outputs": [
        {
          "output_type": "stream",
          "text": [
            "'b' est une consomne\n",
            "'o' est une voyelle\n",
            "'n' est une consomne\n",
            "'j' est une consomne\n",
            "'o' est une voyelle\n",
            "'u' est une voyelle\n",
            "'r' est une consomne\n",
            "' ' est une ponctuation ou un espace\n",
            "'!' est une ponctuation ou un espace\n"
          ],
          "name": "stdout"
        }
      ]
    },
    {
      "cell_type": "markdown",
      "metadata": {
        "id": "jJxiCKRdbOj_"
      },
      "source": [
        "## 10\\. Itérables\n",
        "\n",
        "Les objets itérables sont des objets que l'on peut parcourir à l'aide d'une boucle `for`.\n",
        "\n",
        "Les chaînes de caractères font partie de ces objets, mais c'est aussi le cas des `listes`, un autre type d'objets Python.\n"
      ]
    },
    {
      "cell_type": "markdown",
      "metadata": {
        "id": "fwBV_bKlgbYr"
      },
      "source": [
        "### 10.1 Les listes\n",
        "\n",
        "Une `liste` est un type d'objet pouvant contenir une ou plusieurs valeurs à la suite. En fonction des langages de programmation, on les appelle aussi \"array\" ou \"vecteur\".\n",
        "\n",
        "En Python, une liste peut contenir plusieurs types de variables en même temps.\n",
        "\n",
        "Pour créer une liste, on a besoin de `[ ]` et de valeurs, qui sont séparées par des `,`."
      ]
    },
    {
      "cell_type": "code",
      "metadata": {
        "id": "6bL5Nn6Zg2un"
      },
      "source": [
        "ma_liste = [1, 2, 3, 4]\n",
        "ma_super_liste = [1, 2.5, \"3\", True, ma_liste, type(\"wow\")]"
      ],
      "execution_count": null,
      "outputs": []
    },
    {
      "cell_type": "code",
      "metadata": {
        "colab": {
          "base_uri": "https://localhost:8080/"
        },
        "id": "PtYZI9luhEr-",
        "outputId": "f92ec802-1ebe-4638-c304-b3a1262e641b"
      },
      "source": [
        "print(ma_super_liste)"
      ],
      "execution_count": null,
      "outputs": [
        {
          "output_type": "stream",
          "text": [
            "[1, 2.5, '3', True, [1, 2, 3, 4], <class 'str'>]\n"
          ],
          "name": "stdout"
        }
      ]
    },
    {
      "cell_type": "code",
      "metadata": {
        "colab": {
          "base_uri": "https://localhost:8080/"
        },
        "id": "kl3PGiURhIvE",
        "outputId": "fcf869fc-bf35-48a6-95bb-c201bf44e0e9"
      },
      "source": [
        "for element in ma_super_liste:\n",
        "  print(type(element))"
      ],
      "execution_count": null,
      "outputs": [
        {
          "output_type": "stream",
          "text": [
            "<class 'int'>\n",
            "<class 'float'>\n",
            "<class 'str'>\n",
            "<class 'bool'>\n",
            "<class 'list'>\n",
            "<class 'type'>\n"
          ],
          "name": "stdout"
        }
      ]
    },
    {
      "cell_type": "markdown",
      "metadata": {
        "id": "_u5wOTNkhYRk"
      },
      "source": [
        "### 10.2 Indexation\n",
        "\n",
        "Certains objets itérables sont aussi indexables, c'est le cas des listes et des chaînes de caractères. Cela signifie que les valeurs contenu dans l'objet sont rangées dans un ordre fixe et qu'il est donc possible de cibler directement une valeur en fonction de sa position dans la série.\n",
        "\n",
        "L'index désigne le numéro d'ordre de la valeur dans la série. Attention, en programmation, l'index commence à 0 (comme les étages d'un immeuble)."
      ]
    },
    {
      "cell_type": "code",
      "metadata": {
        "colab": {
          "base_uri": "https://localhost:8080/"
        },
        "id": "rEsnrLtUh1L8",
        "outputId": "37289975-fd0c-4df3-8486-3bff07528d97"
      },
      "source": [
        "# cibler le 3e élément de la liste, on cible l'index \"2\" \n",
        "print(ma_super_liste[2])"
      ],
      "execution_count": null,
      "outputs": [
        {
          "output_type": "stream",
          "text": [
            "3\n"
          ],
          "name": "stdout"
        }
      ]
    },
    {
      "cell_type": "markdown",
      "metadata": {
        "id": "OxZHwLCXjk8B"
      },
      "source": [
        "Dans certains cas, on peut modifier une valeur contenue dans une série en fonction de sa position."
      ]
    },
    {
      "cell_type": "code",
      "metadata": {
        "colab": {
          "base_uri": "https://localhost:8080/"
        },
        "id": "p7zqYuj_jsPa",
        "outputId": "f48c8ab8-8e83-4cc2-8e60-100086029874"
      },
      "source": [
        "eleves = [\"Hugo\", \"Pedro\", \"Clémentine\"]\n",
        "print(eleves)\n",
        "\n",
        "eleves[0] = \"Lucas\"\n",
        "print(eleves)"
      ],
      "execution_count": null,
      "outputs": [
        {
          "output_type": "stream",
          "text": [
            "['Hugo', 'Pedro', 'Clémentine']\n",
            "['Lucas', 'Pedro', 'Clémentine']\n"
          ],
          "name": "stdout"
        }
      ]
    },
    {
      "cell_type": "markdown",
      "metadata": {
        "id": "zH-gs5MKj_Ua"
      },
      "source": [
        "Par contre, ça ne marche pas avec tous les objets itérables, notamment avec les chaînes de caractères. On dit qu'une chaîne de caractères est `imutable`.\n",
        "\n",
        "``` python\n",
        "prenom = \"Clémence\"\n",
        "prenom[2] = \"a\"\n",
        "---------------------------------------------------------------------------\n",
        "TypeError                                 Traceback (most recent call last)\n",
        "<ipython-input-34-8728c2d37e82> in <module>()\n",
        "      1 prenom = \"Clémence\"\n",
        "----> 2 prenom[2] = \"a\"\n",
        "TypeError: 'str' object does not support item assignment\n",
        "```"
      ]
    },
    {
      "cell_type": "markdown",
      "metadata": {
        "id": "P4f3ZQ-TiCk8"
      },
      "source": [
        "### 10.3 D'autres messages d'erreur : IndexError\n",
        "\n",
        "Si l'index utilisé est plus grand que la série, on obtient une erreur \"out of range\".\n"
      ]
    },
    {
      "cell_type": "code",
      "metadata": {
        "colab": {
          "base_uri": "https://localhost:8080/"
        },
        "id": "HyaOt_LEiAep",
        "outputId": "d3e391e5-d7f3-4d6f-ac25-accfaf2562f0"
      },
      "source": [
        "print(\"ma liste contient\", len(ma_liste), \"valeurs.\")"
      ],
      "execution_count": null,
      "outputs": [
        {
          "output_type": "stream",
          "text": [
            "ma liste contient 4 valeurs.\n"
          ],
          "name": "stdout"
        }
      ]
    },
    {
      "cell_type": "code",
      "metadata": {
        "colab": {
          "base_uri": "https://localhost:8080/",
          "height": 194
        },
        "id": "NH-dHd5aiaCo",
        "outputId": "07b7b862-7060-416b-c8c6-2f5488699910"
      },
      "source": [
        "#si je cible la 5e valeur dans une série de 4 valeur, j'ai une erreur.\n",
        "print(ma_liste[4])"
      ],
      "execution_count": null,
      "outputs": [
        {
          "output_type": "error",
          "ename": "IndexError",
          "evalue": "ignored",
          "traceback": [
            "\u001b[0;31m---------------------------------------------------------------------------\u001b[0m",
            "\u001b[0;31mIndexError\u001b[0m                                Traceback (most recent call last)",
            "\u001b[0;32m<ipython-input-28-8fc0dff4914a>\u001b[0m in \u001b[0;36m<module>\u001b[0;34m()\u001b[0m\n\u001b[1;32m      1\u001b[0m \u001b[0;31m#si je cible la 5e valeur dans une série de 4 valeur, j'ai une erreur.\u001b[0m\u001b[0;34m\u001b[0m\u001b[0;34m\u001b[0m\u001b[0;34m\u001b[0m\u001b[0m\n\u001b[0;32m----> 2\u001b[0;31m \u001b[0mprint\u001b[0m\u001b[0;34m(\u001b[0m\u001b[0mma_liste\u001b[0m\u001b[0;34m[\u001b[0m\u001b[0;36m4\u001b[0m\u001b[0;34m]\u001b[0m\u001b[0;34m)\u001b[0m\u001b[0;34m\u001b[0m\u001b[0;34m\u001b[0m\u001b[0m\n\u001b[0m",
            "\u001b[0;31mIndexError\u001b[0m: list index out of range"
          ]
        }
      ]
    },
    {
      "cell_type": "markdown",
      "metadata": {
        "id": "ujr_QC0xinzn"
      },
      "source": [
        "Pour éviter ce genre d'erreur, il vaut mieux utiliser `len()` pour fixer une limite."
      ]
    },
    {
      "cell_type": "code",
      "metadata": {
        "colab": {
          "base_uri": "https://localhost:8080/"
        },
        "id": "KrI9rWsfiv7i",
        "outputId": "bf96b662-29be-482c-cd8d-d9c45d196029"
      },
      "source": [
        "out_of_range = len(ma_liste)\n",
        "index = 3\n",
        "if index < out_of_range:\n",
        "  print(ma_liste[index])\n",
        "else:\n",
        "  print(index, \"est trop grand par rapport à la liste !\")"
      ],
      "execution_count": null,
      "outputs": [
        {
          "output_type": "stream",
          "text": [
            "4\n"
          ],
          "name": "stdout"
        }
      ]
    },
    {
      "cell_type": "markdown",
      "metadata": {
        "id": "zvy1-APClLj0"
      },
      "source": [
        "### 10.4 Concatenation et Append\n",
        "\n",
        "On peut facilement ajouter des valeurs dans une chaîne de caractères en opérant une concaténation : \n",
        "\n",
        "```python\n",
        "ma_chaine = \"hello\"\n",
        "print(ma_chaine)\n",
        ">>> \"hello\"\n",
        "\n",
        "ma_chaine += \", world\"\n",
        "print(ma_chaine)\n",
        ">>> \"hello, world\"\n",
        "```\n",
        "\n",
        "Par contre, c'est un peu différent pour les listes.\n",
        "- on peut fusionner plusieurs listes grâce à \"+\" ;\n",
        "- par contre si on veut ajouter une valeur d'une autre type dans un liste, on doit utiliser `.append()`"
      ]
    },
    {
      "cell_type": "code",
      "metadata": {
        "colab": {
          "base_uri": "https://localhost:8080/"
        },
        "id": "O1GgI2yVlrpU",
        "outputId": "3457a6ea-71d0-411a-ff8a-5fd7f2c6b2e4"
      },
      "source": [
        "liste_initiale = [\"A\", \"B\", \"C\"]\n",
        "liste_concatenee = liste_initiale + [\"D\", \"E\", \"F\"]\n",
        "print(liste_concatenee)"
      ],
      "execution_count": null,
      "outputs": [
        {
          "output_type": "stream",
          "text": [
            "['A', 'B', 'C', 'D', 'E', 'F']\n"
          ],
          "name": "stdout"
        }
      ]
    },
    {
      "cell_type": "code",
      "metadata": {
        "colab": {
          "base_uri": "https://localhost:8080/"
        },
        "id": "H73IM-vWlLE3",
        "outputId": "f6db0c45-1572-4f4d-9d9b-28d8e136ea40"
      },
      "source": [
        "autre_liste_initiale = [\"A\", \"B\", \"C\"]\n",
        "print(autre_liste_initiale)\n",
        "autre_liste_initiale.append([\"D\", \"E\", \"F\"])\n",
        "print(autre_liste_initiale)"
      ],
      "execution_count": null,
      "outputs": [
        {
          "output_type": "stream",
          "text": [
            "['A', 'B', 'C']\n",
            "['A', 'B', 'C', ['D', 'E', 'F']]\n"
          ],
          "name": "stdout"
        }
      ]
    },
    {
      "cell_type": "markdown",
      "metadata": {
        "id": "i5CSfvcPjNvr"
      },
      "source": [
        "### 10.5 Aller plus loin\n",
        "\n",
        "On peut aller encore plus loin avec l'indexation :\n",
        "- [indexation par la fin](https://youtu.be/5UOSiCPu5aM?t=213)\n",
        "- [*slicing* ou *sublists*](https://youtu.be/5UOSiCPu5aM?t=338)\n",
        "- [fonctions propres aux listes](https://youtu.be/5UOSiCPu5aM?t=568)"
      ]
    },
    {
      "cell_type": "markdown",
      "metadata": {
        "id": "oYg5M-u6m3dH"
      },
      "source": [
        "### 10.6 Exercices ⚡\n",
        "\n",
        "Des exercices sur les expressions booléennes sont disponibles ici : 👉 https://repl.it/@AlixChagu/ENCintroalgo#basics/iterations.py"
      ]
    },
    {
      "cell_type": "markdown",
      "metadata": {
        "id": "2svuz3dZm-70"
      },
      "source": [
        "## 11\\. Dictionnaires"
      ]
    },
    {
      "cell_type": "markdown",
      "metadata": {
        "id": "nDKpTNvUcZdC"
      },
      "source": [
        "### 11.1 Définition\n",
        "\n",
        "Voyons un nouveau type d'objet Python très pratique car il est très structuré : les `dictionnaires`. Comme les listes, les dictionnaires peuvent contenir plusieurs types de valeurs différents. En revanche, ils ne sont pas itérables.\n",
        "\n",
        "Un dictionnaire est un objet qui n'existe qu'en Python, et qui est organisé sur le principe de paires \"clef\"-\"valeur\". Si on continue l'analogie, la \"clef\" correspond au \"mot\", tandis que la \"valeur\" correspond à la \"définition\".\n",
        "\n",
        "Chaque clef est unique, en revanche on peut trouver plusieurs fois la même valeur.\n",
        "\n",
        "Pour créer un dictionnaire, on a besoin de `{ }` et de valeurs, qui sont indiquées à la suite de leur clef, séparées par `:`. Chaque paire est séparée par des `,`."
      ]
    },
    {
      "cell_type": "code",
      "metadata": {
        "colab": {
          "base_uri": "https://localhost:8080/"
        },
        "id": "Z6vbOE14m28r",
        "outputId": "c94bafae-85ea-46a1-c536-97213512ce8e"
      },
      "source": [
        "mon_dictionnaire = {\"clef\": \"valeur\",\n",
        "                    \"mot\":\"définition\",\n",
        "                    2: True}\n",
        "print(mon_dictionnaire)"
      ],
      "execution_count": null,
      "outputs": [
        {
          "output_type": "stream",
          "text": [
            "{'clef': 'valeur', 'mot': 'définition', 2: True}\n"
          ],
          "name": "stdout"
        }
      ]
    },
    {
      "cell_type": "markdown",
      "metadata": {
        "id": "1ejq4H_6oF7i"
      },
      "source": [
        "Pour ajouter une nouvelle paire dans un dictionnaire, ou pour changer la valeur associer à une clef, on retrouve une syntaxe proche de celle des index."
      ]
    },
    {
      "cell_type": "code",
      "metadata": {
        "colab": {
          "base_uri": "https://localhost:8080/"
        },
        "id": "EyvV1QyNoOdz",
        "outputId": "0eebf180-e4e9-484c-c796-7b1cf429cd5f"
      },
      "source": [
        "mon_dictionnaire[\"clef\"] = [1, 2, 3]\n",
        "print(mon_dictionnaire)"
      ],
      "execution_count": null,
      "outputs": [
        {
          "output_type": "stream",
          "text": [
            "{'clef': [1, 2, 3], 'mot': 'définition', 2: True}\n"
          ],
          "name": "stdout"
        }
      ]
    },
    {
      "cell_type": "markdown",
      "metadata": {
        "id": "OSn6JqfEogWC"
      },
      "source": [
        "Dans certains cas, utiliser un dictionnaire plutôt qu'une liste permet de naviguer plus facilement entre les données qu'il contient.\n",
        "\n",
        "``` \n",
        "identité = [\"Berthe\", \"Morisot\", 1865, 1841, 1895]\n",
        "```\n",
        "\n",
        "```\n",
        "identité = {\"prénom\": \"Berthe\", \"nom\": \"Morisot\", \"debut\": 1865, \"naissance\": 1841, \"mort\": 1895}\n",
        "```\n",
        "\n",
        "En fait, on peut même considérer que les dictionnaires sont des mini-bases de données, ou chaque \"champ\" est signalé par une clef. Comme on peut créer des listes remplies de dictionnaires, on peut représenter de cette manière des informations très complexes. C'est la base du fonctionnement du format JSON.\n",
        "\n",
        "\n"
      ]
    },
    {
      "cell_type": "markdown",
      "metadata": {
        "id": "EO8l-81Po9Be"
      },
      "source": [
        "### 11.2 Clefs et valeurs\n",
        "\n",
        "- `dictionnaire.keys()` permet d'obtenir la liste de toutes les clefs présentes dans un dictionnaire.\n",
        "- `dictionnaire.values()` permet d'obtenir la liste de toutes les valeurs contenues dans un dictionnaire."
      ]
    },
    {
      "cell_type": "code",
      "metadata": {
        "colab": {
          "base_uri": "https://localhost:8080/"
        },
        "id": "j0f6ejItswdh",
        "outputId": "686b0abc-1b2e-4713-a458-2f6a80740268"
      },
      "source": [
        "identite = {\"prénom\": \"Berthe\", \"nom\": \"Morisot\", \"debut\": 1865, \"naissance\": 1841, \"mort\": 1895}\n",
        "\n",
        "for key in identite.keys():\n",
        "  print(key)"
      ],
      "execution_count": null,
      "outputs": [
        {
          "output_type": "stream",
          "text": [
            "prénom\n",
            "nom\n",
            "debut\n",
            "naissance\n",
            "mort\n"
          ],
          "name": "stdout"
        }
      ]
    },
    {
      "cell_type": "code",
      "metadata": {
        "colab": {
          "base_uri": "https://localhost:8080/"
        },
        "id": "OEwBWcqRuoSI",
        "outputId": "12235ff4-db98-4b13-ce05-e78586827670"
      },
      "source": [
        "for val in identite.values():\n",
        "  print(val)"
      ],
      "execution_count": null,
      "outputs": [
        {
          "output_type": "stream",
          "text": [
            "Berthe\n",
            "Morisot\n",
            "1865\n",
            "1841\n",
            "1895\n"
          ],
          "name": "stdout"
        }
      ]
    },
    {
      "cell_type": "code",
      "metadata": {
        "colab": {
          "base_uri": "https://localhost:8080/"
        },
        "id": "zaMkQnrvurx_",
        "outputId": "82f36528-7e3d-4a37-b888-76d12f11c9f8"
      },
      "source": [
        "for key in identite.keys():\n",
        "  print(identite[key])"
      ],
      "execution_count": null,
      "outputs": [
        {
          "output_type": "stream",
          "text": [
            "Berthe\n",
            "Morisot\n",
            "1865\n",
            "1841\n",
            "1895\n"
          ],
          "name": "stdout"
        }
      ]
    },
    {
      "cell_type": "markdown",
      "metadata": {
        "id": "JJrpaMK1wRiw"
      },
      "source": [
        "## 12\\. Aller plus loin\n",
        "\n",
        "- Création de fonctions\n",
        "- listes en compréhension\n",
        "- Programmation modulaires et import de librairies externes\n",
        "- JSON et CSV\n",
        "- Manipulation de fichiers\n",
        "- Documenter son code\n",
        "- Tests et exceptions\n",
        "- Classes et programmation orientée objets\n",
        "\n",
        "\n",
        "\n"
      ]
    },
    {
      "cell_type": "markdown",
      "metadata": {
        "id": "VyGj93jwc2Hf"
      },
      "source": [
        "### 12.1 Quelques tutoriels complets \n",
        "\n",
        "- [Python Spécial Machine Learning](https://www.youtube.com/playlist?list=PLO_fdPEVlfKqMDNmCFzQISI2H_nJcEDJq) (Machine Learnia)\n",
        "- [Les bases de la Data Science avec Python](https://youtu.be/4bccU9eMrkw?t=31) (Docstring)"
      ]
    }
  ]
}