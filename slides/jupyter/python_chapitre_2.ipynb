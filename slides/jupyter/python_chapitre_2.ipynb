{
 "cells": [
  {
   "cell_type": "markdown",
   "metadata": {
    "slideshow": {
     "slide_type": "slide"
    }
   },
   "source": [
    "# Introduction à la pensée algorithmique avec Python (2)\n",
    "\n",
    "\n",
    "\n",
    "📌 Ecole du Louvre, Master Documentation et Huménités Numériques, 2020\n",
    "\n",
    "---\n",
    "\n",
    "#### Alix Chagué\n",
    "\n",
    "\n",
    "📫 [alix.chague@inria.fr](mailto:alix.chague@inria.fr)  \n",
    "\n",
    "💼 *Ingénieure Recherche et Développement* @ Inria"
   ]
  },
  {
   "cell_type": "markdown",
   "metadata": {
    "slideshow": {
     "slide_type": "subslide"
    }
   },
   "source": [
    "### *Crédits*\n",
    "\n",
    "> Librement inspiré des [supports de cours](https://github.com/gguibon/essec-python-1) de Gaël Guibon  \n",
    "> Librement inspiré des [supports de cours](https://goo.gl/UFqu2U) de Julien Pilla\n",
    "\n",
    "> Retrouver l'ensemble du cours sur 👉 [**github.com/alix-tz/enc-intro-algo**](https://github.com/alix-tz/enc-intro-algo)👈"
   ]
  },
  {
   "cell_type": "markdown",
   "metadata": {
    "slideshow": {
     "slide_type": "slide"
    }
   },
   "source": [
    "# Syllabus"
   ]
  },
  {
   "cell_type": "markdown",
   "metadata": {
    "slideshow": {
     "slide_type": "subslide"
    }
   },
   "source": [
    "## Plan du cours\n",
    "\n",
    "- Syllabus\n",
    "- Comparer des valeurs\n",
    "- Opérateurs booléens\n",
    "- Conditions (si... alors)\n",
    "- Répétition (tant que / répéter x fois)\n",
    "- Nouveau type : listes\n",
    "- Nouveau type : dictionnaires\n",
    "- Aller plus loin"
   ]
  },
  {
   "cell_type": "markdown",
   "metadata": {
    "slideshow": {
     "slide_type": "subslide"
    }
   },
   "source": [
    "## Liens utiles\n",
    "\n",
    "👉 Simulateur d'environnement Python en mode pseudo-IDE : https://repl.it/languages/python3\n",
    "\n",
    "👉 Simulateur d'environnement Python en mode console : https://www.python.org/shell/\n",
    "\n",
    "👉 Documation officielle de Python : https://docs.python.org/3/\n",
    "\n",
    "👉 Visualisateur d'execution de code Python : http://pythontutor.com/"
   ]
  },
  {
   "cell_type": "markdown",
   "metadata": {
    "slideshow": {
     "slide_type": "subslide"
    }
   },
   "source": [
    "## Quelques ressources pour continuer à se former\n",
    "\n",
    "👉 \"Automate the Boring Stuff with Python\" : https://automatetheboringstuff.com/\n",
    "\n",
    "👉 Leçons dédiées à Python sur Programming Historian : https://programminghistorian.org/en/lessons/introduction-and-installation\n",
    "\n",
    "👉 \"Apprendre à coder avec Python\", MOOC de l'Université Libre de Bruxelles : https://www.fun-mooc.fr/courses/course-v1:ulb+44013+session04/about\n",
    "\n",
    "👉 \"Apprenez à programmer en Python\", cours en ligne sur OpenClassroom : https://openclassrooms.com/fr/courses/235344-apprenez-a-programmer-en-python"
   ]
  },
  {
   "cell_type": "markdown",
   "metadata": {
    "slideshow": {
     "slide_type": "slide"
    }
   },
   "source": [
    "## Récapitulatif\n",
    "\n",
    "- variables (nom, affectation de valeur, type)\n",
    "- fonctions built-ins et mots réservés\n",
    "- opérations arithmétiques"
   ]
  },
  {
   "cell_type": "markdown",
   "metadata": {
    "slideshow": {
     "slide_type": "slide"
    }
   },
   "source": [
    "## Comparer des valeur"
   ]
  },
  {
   "cell_type": "markdown",
   "metadata": {
    "slideshow": {
     "slide_type": "subslide"
    }
   },
   "source": [
    "## Opérateurs de comparaison\n",
    "\n",
    "On utilise des opérateurs pour comparer des valeurs ou des variables entre elles. Ces comparaisons renvoient un booléen : False ou True. \n",
    "\n",
    "`==` : opérateur d'égalité (*is the same as*)"
   ]
  },
  {
   "cell_type": "code",
   "execution_count": 23,
   "metadata": {
    "slideshow": {
     "slide_type": "-"
    }
   },
   "outputs": [
    {
     "data": {
      "text/plain": [
       "True"
      ]
     },
     "execution_count": 23,
     "metadata": {},
     "output_type": "execute_result"
    }
   ],
   "source": [
    "\"a\" == \"a\""
   ]
  },
  {
   "cell_type": "code",
   "execution_count": 24,
   "metadata": {
    "slideshow": {
     "slide_type": "-"
    }
   },
   "outputs": [
    {
     "data": {
      "text/plain": [
       "True"
      ]
     },
     "execution_count": 24,
     "metadata": {},
     "output_type": "execute_result"
    }
   ],
   "source": [
    "42 == 42.0"
   ]
  },
  {
   "cell_type": "code",
   "execution_count": 25,
   "metadata": {
    "slideshow": {
     "slide_type": "-"
    }
   },
   "outputs": [
    {
     "data": {
      "text/plain": [
       "False"
      ]
     },
     "execution_count": 25,
     "metadata": {},
     "output_type": "execute_result"
    }
   ],
   "source": [
    "\"42\" == 42"
   ]
  },
  {
   "cell_type": "code",
   "execution_count": 27,
   "metadata": {
    "slideshow": {
     "slide_type": "-"
    }
   },
   "outputs": [
    {
     "data": {
      "text/plain": [
       "False"
      ]
     },
     "execution_count": 27,
     "metadata": {},
     "output_type": "execute_result"
    }
   ],
   "source": [
    "True == False"
   ]
  },
  {
   "cell_type": "markdown",
   "metadata": {
    "slideshow": {
     "slide_type": "subslide"
    }
   },
   "source": [
    "`!=` : opérateur de non-égalité (*is different from*)"
   ]
  },
  {
   "cell_type": "code",
   "execution_count": 28,
   "metadata": {
    "slideshow": {
     "slide_type": "-"
    }
   },
   "outputs": [
    {
     "data": {
      "text/plain": [
       "False"
      ]
     },
     "execution_count": 28,
     "metadata": {},
     "output_type": "execute_result"
    }
   ],
   "source": [
    "\"a\" != \"a\""
   ]
  },
  {
   "cell_type": "code",
   "execution_count": 29,
   "metadata": {
    "slideshow": {
     "slide_type": "-"
    }
   },
   "outputs": [
    {
     "data": {
      "text/plain": [
       "True"
      ]
     },
     "execution_count": 29,
     "metadata": {},
     "output_type": "execute_result"
    }
   ],
   "source": [
    "\"alix\" != \"chagué\""
   ]
  },
  {
   "cell_type": "code",
   "execution_count": 30,
   "metadata": {
    "slideshow": {
     "slide_type": "-"
    }
   },
   "outputs": [
    {
     "data": {
      "text/plain": [
       "True"
      ]
     },
     "execution_count": 30,
     "metadata": {},
     "output_type": "execute_result"
    }
   ],
   "source": [
    "42.1 != 42"
   ]
  },
  {
   "cell_type": "markdown",
   "metadata": {
    "slideshow": {
     "slide_type": "subslide"
    }
   },
   "source": [
    "`>` et `<` : plus grand que et plus petit que"
   ]
  },
  {
   "cell_type": "code",
   "execution_count": 31,
   "metadata": {
    "slideshow": {
     "slide_type": "-"
    }
   },
   "outputs": [
    {
     "data": {
      "text/plain": [
       "False"
      ]
     },
     "execution_count": 31,
     "metadata": {},
     "output_type": "execute_result"
    }
   ],
   "source": [
    "2020 < 2019"
   ]
  },
  {
   "cell_type": "code",
   "execution_count": 32,
   "metadata": {
    "slideshow": {
     "slide_type": "-"
    }
   },
   "outputs": [
    {
     "data": {
      "text/plain": [
       "True"
      ]
     },
     "execution_count": 32,
     "metadata": {},
     "output_type": "execute_result"
    }
   ],
   "source": [
    "2020 > 2019"
   ]
  },
  {
   "cell_type": "code",
   "execution_count": 33,
   "metadata": {
    "slideshow": {
     "slide_type": "-"
    }
   },
   "outputs": [
    {
     "data": {
      "text/plain": [
       "False"
      ]
     },
     "execution_count": 33,
     "metadata": {},
     "output_type": "execute_result"
    }
   ],
   "source": [
    "\"ab\" > \"ac\""
   ]
  },
  {
   "cell_type": "markdown",
   "metadata": {
    "slideshow": {
     "slide_type": "-"
    }
   },
   "source": [
    "> Quand on compare l'ordre de grandeur de deux chaînes de caractères, on compare en fait leur clasement alphabétique."
   ]
  },
  {
   "cell_type": "code",
   "execution_count": 36,
   "metadata": {},
   "outputs": [
    {
     "data": {
      "text/plain": [
       "True"
      ]
     },
     "execution_count": 36,
     "metadata": {},
     "output_type": "execute_result"
    }
   ],
   "source": [
    "\"alix\" < \"chagué\""
   ]
  },
  {
   "cell_type": "markdown",
   "metadata": {
    "slideshow": {
     "slide_type": "subslide"
    }
   },
   "source": [
    "`>=` et `<=` : plus grand ou égal et plus petit que ou égal"
   ]
  },
  {
   "cell_type": "code",
   "execution_count": 38,
   "metadata": {},
   "outputs": [
    {
     "data": {
      "text/plain": [
       "True"
      ]
     },
     "execution_count": 38,
     "metadata": {},
     "output_type": "execute_result"
    }
   ],
   "source": [
    "3 >= 3"
   ]
  },
  {
   "cell_type": "code",
   "execution_count": 39,
   "metadata": {},
   "outputs": [
    {
     "data": {
      "text/plain": [
       "True"
      ]
     },
     "execution_count": 39,
     "metadata": {},
     "output_type": "execute_result"
    }
   ],
   "source": [
    "1821 <= 2020"
   ]
  },
  {
   "cell_type": "markdown",
   "metadata": {
    "slideshow": {
     "slide_type": "slide"
    }
   },
   "source": [
    "## Opérateurs booléens"
   ]
  },
  {
   "cell_type": "markdown",
   "metadata": {
    "slideshow": {
     "slide_type": "subslide"
    }
   },
   "source": [
    "Les opérateurs booléens permettent de compléter les opérations de comparaison.\n",
    "\n",
    "\n",
    "`not` : inverse le résultat de la comparaison"
   ]
  },
  {
   "cell_type": "code",
   "execution_count": 40,
   "metadata": {
    "slideshow": {
     "slide_type": "-"
    }
   },
   "outputs": [
    {
     "data": {
      "text/plain": [
       "False"
      ]
     },
     "execution_count": 40,
     "metadata": {},
     "output_type": "execute_result"
    }
   ],
   "source": [
    "\"a\" != \"a\""
   ]
  },
  {
   "cell_type": "code",
   "execution_count": 41,
   "metadata": {
    "slideshow": {
     "slide_type": "subslide"
    }
   },
   "outputs": [
    {
     "data": {
      "text/plain": [
       "True"
      ]
     },
     "execution_count": 41,
     "metadata": {},
     "output_type": "execute_result"
    }
   ],
   "source": [
    "not \"a\" != \"a\""
   ]
  },
  {
   "cell_type": "code",
   "execution_count": 43,
   "metadata": {},
   "outputs": [
    {
     "data": {
      "text/plain": [
       "True"
      ]
     },
     "execution_count": 43,
     "metadata": {},
     "output_type": "execute_result"
    }
   ],
   "source": [
    "42 == 42.0"
   ]
  },
  {
   "cell_type": "code",
   "execution_count": 44,
   "metadata": {},
   "outputs": [
    {
     "data": {
      "text/plain": [
       "False"
      ]
     },
     "execution_count": 44,
     "metadata": {},
     "output_type": "execute_result"
    }
   ],
   "source": [
    "not 42 == 42.0"
   ]
  },
  {
   "cell_type": "markdown",
   "metadata": {
    "slideshow": {
     "slide_type": "subslide"
    }
   },
   "source": [
    "`or` et `and` permettent de faire plusieurs comparaisons simultanéement.\n",
    "\n",
    "`or` : renvoie True si **l'une des comparaisons testées est vraie**\n",
    "\n",
    "`and` : renvoie True si **tout les comparaisons testées sont vraies**"
   ]
  },
  {
   "cell_type": "markdown",
   "metadata": {
    "slideshow": {
     "slide_type": "subslide"
    }
   },
   "source": [
    "### AND"
   ]
  },
  {
   "cell_type": "code",
   "execution_count": 49,
   "metadata": {
    "slideshow": {
     "slide_type": "-"
    }
   },
   "outputs": [
    {
     "data": {
      "text/plain": [
       "False"
      ]
     },
     "execution_count": 49,
     "metadata": {},
     "output_type": "execute_result"
    }
   ],
   "source": [
    "True and False"
   ]
  },
  {
   "cell_type": "code",
   "execution_count": 50,
   "metadata": {
    "slideshow": {
     "slide_type": "-"
    }
   },
   "outputs": [
    {
     "data": {
      "text/plain": [
       "True"
      ]
     },
     "execution_count": 50,
     "metadata": {},
     "output_type": "execute_result"
    }
   ],
   "source": [
    "True and True"
   ]
  },
  {
   "cell_type": "code",
   "execution_count": 51,
   "metadata": {
    "slideshow": {
     "slide_type": "-"
    }
   },
   "outputs": [
    {
     "data": {
      "text/plain": [
       "False"
      ]
     },
     "execution_count": 51,
     "metadata": {},
     "output_type": "execute_result"
    }
   ],
   "source": [
    "False and False"
   ]
  },
  {
   "cell_type": "code",
   "execution_count": 53,
   "metadata": {},
   "outputs": [
    {
     "data": {
      "text/plain": [
       "True"
      ]
     },
     "execution_count": 53,
     "metadata": {},
     "output_type": "execute_result"
    }
   ],
   "source": [
    "\"a\" == \"a\" and 42 <= 43.0"
   ]
  },
  {
   "cell_type": "markdown",
   "metadata": {
    "slideshow": {
     "slide_type": "subslide"
    }
   },
   "source": [
    "### OR"
   ]
  },
  {
   "cell_type": "code",
   "execution_count": 54,
   "metadata": {
    "slideshow": {
     "slide_type": "-"
    }
   },
   "outputs": [
    {
     "data": {
      "text/plain": [
       "True"
      ]
     },
     "execution_count": 54,
     "metadata": {},
     "output_type": "execute_result"
    }
   ],
   "source": [
    "True or False"
   ]
  },
  {
   "cell_type": "code",
   "execution_count": 55,
   "metadata": {
    "slideshow": {
     "slide_type": "-"
    }
   },
   "outputs": [
    {
     "data": {
      "text/plain": [
       "True"
      ]
     },
     "execution_count": 55,
     "metadata": {},
     "output_type": "execute_result"
    }
   ],
   "source": [
    "True or True"
   ]
  },
  {
   "cell_type": "code",
   "execution_count": 57,
   "metadata": {
    "slideshow": {
     "slide_type": "-"
    }
   },
   "outputs": [
    {
     "data": {
      "text/plain": [
       "False"
      ]
     },
     "execution_count": 57,
     "metadata": {},
     "output_type": "execute_result"
    }
   ],
   "source": [
    "False or False"
   ]
  },
  {
   "cell_type": "code",
   "execution_count": 63,
   "metadata": {},
   "outputs": [
    {
     "data": {
      "text/plain": [
       "True"
      ]
     },
     "execution_count": 63,
     "metadata": {},
     "output_type": "execute_result"
    }
   ],
   "source": [
    "not \"ceci\" == \"cela\" or 42 < 43.0"
   ]
  },
  {
   "cell_type": "markdown",
   "metadata": {
    "slideshow": {
     "slide_type": "subslide"
    }
   },
   "source": [
    "## Exercices pratiques"
   ]
  },
  {
   "cell_type": "markdown",
   "metadata": {
    "slideshow": {
     "slide_type": "-"
    }
   },
   "source": [
    "Réaliser les 6 exercices du fichier `expressions.py`\n",
    "\n",
    "### 👉 https://repl.it/@AlixChagu/ENCintroalgo#basics/expressions.py"
   ]
  },
  {
   "cell_type": "markdown",
   "metadata": {
    "slideshow": {
     "slide_type": "slide"
    }
   },
   "source": [
    "# Conditions (si... alors)"
   ]
  },
  {
   "cell_type": "markdown",
   "metadata": {
    "slideshow": {
     "slide_type": "subslide"
    }
   },
   "source": [
    "En résumé, pour formuler un test (dont le résultat sera soit `True`, soit `False`) on peut utiliser une combinaison de variables et/ou de valeurs associées aux opérateurs suivants:  \n",
    "\n",
    "- `==` (égal à) \n",
    "- `!=` (différent de) \n",
    "- `>` (plus grand que) \n",
    "- `<` (plus petit que) \n",
    "- `>=` (plus grand ou égal à) \n",
    "- `<=` (plus petit ou égal à) \n",
    "- `or` (ou) \n",
    "- `and` (et) \n",
    "- `not` (négation)\n",
    "- `in` (présent dans)"
   ]
  },
  {
   "cell_type": "markdown",
   "metadata": {
    "slideshow": {
     "slide_type": "subslide"
    }
   },
   "source": [
    "Si l'on élabore des expressions qui peuvent être vraies ou fausses, c'est parce qu'en programmation on peut définir une séries d'actions à effectuer si et seulement une condition est vraie. C'est ce qu'on appelle les `structures conditionnelles`.\n",
    "\n",
    "![ex flowchart](../../images/flowchart.jpg)"
   ]
  },
  {
   "cell_type": "markdown",
   "metadata": {
    "slideshow": {
     "slide_type": "subslide"
    }
   },
   "source": [
    "Les structures conditionnelles sont plus ou moins complexes: \n",
    "\n",
    "```\n",
    "Si TEST est vrai, alors: INSTRUCTION\n",
    "```\n",
    "\n",
    "---\n",
    "\n",
    "```\n",
    "Si TEST est vrai, alors: INSTRUCTION1\n",
    "Sinon: INSTRUCTION2\n",
    "```\n",
    "\n",
    "---\n",
    "\n",
    "```\n",
    "Si TEST1 est vrai, alors: INSTRUCTION1\n",
    "Si TEST2 est vrai, alors: INSTRUCTION2\n",
    "Sinon: INSTRUCTION3\n",
    "```"
   ]
  },
  {
   "cell_type": "markdown",
   "metadata": {
    "slideshow": {
     "slide_type": "subslide"
    }
   },
   "source": [
    "### `IF`, `ELIF`, `ELSE`"
   ]
  },
  {
   "cell_type": "markdown",
   "metadata": {
    "slideshow": {
     "slide_type": "-"
    }
   },
   "source": [
    "En Python, on utilise les mots-clefs `if`, `elif` et `else` pour formuler une structure conditionnelle."
   ]
  },
  {
   "cell_type": "markdown",
   "metadata": {
    "slideshow": {
     "slide_type": "-"
    }
   },
   "source": [
    "``` python\n",
    "if test is True:\n",
    "    # Instruction...\n",
    "```\n",
    "\n",
    "---\n",
    "\n",
    "``` python\n",
    "if test is True:\n",
    "    # Instruction 1\n",
    "else:\n",
    "    # Instruction 2\n",
    "```\n",
    "\n",
    "---\n",
    "\n",
    "``` python\n",
    "if test1 is True:\n",
    "    # Instruction 1\n",
    "elif test2 is True:\n",
    "    # Instruction 2\n",
    "else:\n",
    "    # Instruction 3\n",
    "```"
   ]
  },
  {
   "cell_type": "markdown",
   "metadata": {
    "slideshow": {
     "slide_type": "subslide"
    }
   },
   "source": [
    "### `{mot-clef} {expression} :`\n"
   ]
  },
  {
   "cell_type": "code",
   "execution_count": 15,
   "metadata": {
    "slideshow": {
     "slide_type": "-"
    }
   },
   "outputs": [],
   "source": [
    "if True:\n",
    "    print('formulation correcte!')"
   ]
  },
  {
   "cell_type": "code",
   "execution_count": 16,
   "metadata": {},
   "outputs": [
    {
     "ename": "SyntaxError",
     "evalue": "invalid syntax (<ipython-input-16-8cf0a3fb8455>, line 1)",
     "output_type": "error",
     "traceback": [
      "\u001b[0;36m  File \u001b[0;32m\"<ipython-input-16-8cf0a3fb8455>\"\u001b[0;36m, line \u001b[0;32m1\u001b[0m\n\u001b[0;31m    if True\u001b[0m\n\u001b[0m           ^\u001b[0m\n\u001b[0;31mSyntaxError\u001b[0m\u001b[0;31m:\u001b[0m invalid syntax\n"
     ]
    }
   ],
   "source": [
    "if True\n",
    "    print('formulation incorrecte!')"
   ]
  },
  {
   "cell_type": "code",
   "execution_count": 20,
   "metadata": {},
   "outputs": [
    {
     "name": "stdout",
     "output_type": "stream",
     "text": [
      "formulation correcte!\n"
     ]
    }
   ],
   "source": [
    "if not(3.14 > (2048 % 430) / 2 and type(True) != type(not('hello' == 'world'))):\n",
    "    print('formulation correcte!')"
   ]
  },
  {
   "cell_type": "code",
   "execution_count": 23,
   "metadata": {
    "slideshow": {
     "slide_type": "subslide"
    }
   },
   "outputs": [
    {
     "ename": "SyntaxError",
     "evalue": "invalid syntax (<ipython-input-23-41999e5b1a5a>, line 1)",
     "output_type": "error",
     "traceback": [
      "\u001b[0;36m  File \u001b[0;32m\"<ipython-input-23-41999e5b1a5a>\"\u001b[0;36m, line \u001b[0;32m1\u001b[0m\n\u001b[0;31m    if len(\"2048\") = 2048/512:\u001b[0m\n\u001b[0m                   ^\u001b[0m\n\u001b[0;31mSyntaxError\u001b[0m\u001b[0;31m:\u001b[0m invalid syntax\n"
     ]
    }
   ],
   "source": [
    "if len(\"2048\") = 2048/512:\n",
    "    print('formulation incorrecte!')"
   ]
  },
  {
   "cell_type": "code",
   "execution_count": 24,
   "metadata": {},
   "outputs": [
    {
     "ename": "SyntaxError",
     "evalue": "invalid syntax (<ipython-input-24-3b5ebb2a74b1>, line 1)",
     "output_type": "error",
     "traceback": [
      "\u001b[0;36m  File \u001b[0;32m\"<ipython-input-24-3b5ebb2a74b1>\"\u001b[0;36m, line \u001b[0;32m1\u001b[0m\n\u001b[0;31m    if True or:\u001b[0m\n\u001b[0m              ^\u001b[0m\n\u001b[0;31mSyntaxError\u001b[0m\u001b[0;31m:\u001b[0m invalid syntax\n"
     ]
    }
   ],
   "source": [
    "if True or:\n",
    "    print('formulation incorrecte!')"
   ]
  },
  {
   "cell_type": "markdown",
   "metadata": {
    "slideshow": {
     "slide_type": "subslide"
    }
   },
   "source": [
    "## Indentations\n",
    "\n",
    "Notez qu'en Python, les structures conditionnelles sont `indentées` de manière à rendre compte des blocs logiques.\n",
    "\n",
    "Une indentation c'est soit `une tabulation`, soit **`quatre espaces`**.  \n",
    "\n",
    "On peut enchaîner plusieurs niveaux d'indentation (et plusieurs conditions).\n",
    "\n",
    "``` python\n",
    "if a is True:\n",
    "    if b is True:\n",
    "        if c is False:\n",
    "            ...\n",
    "        else:\n",
    "            ...\n",
    "else:\n",
    "    ...\n",
    "```"
   ]
  },
  {
   "cell_type": "markdown",
   "metadata": {
    "slideshow": {
     "slide_type": "subslide"
    }
   },
   "source": [
    "En Python, l'indentation n'est pas esthétique, elle fait partie de la syntaxe de ce langage."
   ]
  },
  {
   "cell_type": "code",
   "execution_count": 9,
   "metadata": {
    "slideshow": {
     "slide_type": "-"
    }
   },
   "outputs": [
    {
     "ename": "IndentationError",
     "evalue": "expected an indented block (<ipython-input-9-7f0051953f50>, line 2)",
     "output_type": "error",
     "traceback": [
      "\u001b[0;36m  File \u001b[0;32m\"<ipython-input-9-7f0051953f50>\"\u001b[0;36m, line \u001b[0;32m2\u001b[0m\n\u001b[0;31m    1 + 1\u001b[0m\n\u001b[0m    ^\u001b[0m\n\u001b[0;31mIndentationError\u001b[0m\u001b[0;31m:\u001b[0m expected an indented block\n"
     ]
    }
   ],
   "source": [
    "if type(\"hello\") != type(1):\n",
    "1 + 1"
   ]
  },
  {
   "cell_type": "code",
   "execution_count": 13,
   "metadata": {},
   "outputs": [
    {
     "ename": "SyntaxError",
     "evalue": "invalid syntax (<ipython-input-13-e0319fc2e368>, line 3)",
     "output_type": "error",
     "traceback": [
      "\u001b[0;36m  File \u001b[0;32m\"<ipython-input-13-e0319fc2e368>\"\u001b[0;36m, line \u001b[0;32m3\u001b[0m\n\u001b[0;31m    elif len(\"ENC\") < 3:\u001b[0m\n\u001b[0m       ^\u001b[0m\n\u001b[0;31mSyntaxError\u001b[0m\u001b[0;31m:\u001b[0m invalid syntax\n"
     ]
    }
   ],
   "source": [
    "if True or False:\n",
    "    if len(\"TNAH\") == 4:\n",
    "        elif len(\"ENC\") < 3:"
   ]
  },
  {
   "cell_type": "markdown",
   "metadata": {
    "slideshow": {
     "slide_type": "subslide"
    }
   },
   "source": [
    "## Exercices pratiques"
   ]
  },
  {
   "cell_type": "markdown",
   "metadata": {
    "slideshow": {
     "slide_type": "-"
    }
   },
   "source": [
    "Réaliser les 10 exercices du fichier `conditions.py`\n",
    "\n",
    "### 👉 https://repl.it/@AlixChagu/ENCintroalgo#basics/conditions.py"
   ]
  },
  {
   "cell_type": "markdown",
   "metadata": {
    "slideshow": {
     "slide_type": "slide"
    }
   },
   "source": [
    "# Répétitions (tant que/ répéter x fois)"
   ]
  },
  {
   "cell_type": "markdown",
   "metadata": {
    "slideshow": {
     "slide_type": "subslide"
    }
   },
   "source": [
    "🔄 Les `boucles` sont un moyen de répéter une série d'actions identiques sans avoir à les écrire plusieurs fois. \n",
    "\n",
    "🔄 Il y a toujours une condition qui détermine à quel moment une boucle doit être interrompue.\n",
    "\n",
    "🔄 Il y a deux catégories de boucles : `for` et `while`.\n",
    "\n",
    "🔄 Une boucle `for` prédéfinit le nombre d'itérations à effectuer : \"pendant *x* itération(s), faire l'action *y*\"\n",
    "\n",
    "🔄 Une boucle `while` ne définit pas systématiquement un nombre maximum d'itérations : \"tant que la condition *a* n 'est pas remplie, faire l'action *b*\"\n",
    "\n",
    "🔄 Les instructions à effectuer dans une boucle sont toujours indentées.\n",
    "\n"
   ]
  },
  {
   "cell_type": "markdown",
   "metadata": {
    "slideshow": {
     "slide_type": "subslide"
    }
   },
   "source": [
    "## Boucle *`while`*\n",
    "\n",
    "``` python\n",
    "while {expression}:\n",
    "    # keep going\n",
    "```\n",
    "\n",
    "Une boucle ***while*** est interrompue dès que la condition exprimée est fausse.\n",
    "\n",
    "Une boucle ***while*** dont la condition exprimée est toujours vraie tourne à l'infini. Il faut donc toujours s'assurer qu'une boucle *while* peut-être interrompue par le programme (ex: paramétrer une nombre max d'itérations)."
   ]
  },
  {
   "cell_type": "code",
   "execution_count": 96,
   "metadata": {},
   "outputs": [
    {
     "name": "stdout",
     "output_type": "stream",
     "text": [
      "10\n"
     ]
    }
   ],
   "source": [
    "limite = 10\n",
    "nb_d_iteration = 1\n",
    "\n",
    "while 1 == 1 and nb_d_iteration < limite:\n",
    "    1 + 1\n",
    "    nb_d_iteration += 1\n",
    "    print(nb_d_iteration)"
   ]
  },
  {
   "cell_type": "markdown",
   "metadata": {
    "slideshow": {
     "slide_type": "subslide"
    }
   },
   "source": [
    "#### Exemple d'utilisation d'une boucle ***while***\n",
    "\n",
    "On souhaite que l'utilisatrice réponde soit \"y\", soit \"n\" à la question. Pour s'assurer que la réponse donnée correspond à nos attentes, on utilise une boucle ***while*** qui teste la valeur de la variable *reponse* et redemande à l'utilisatrice d'entrer une valeur si celle-ci n'est pas conforme.\n",
    "\n",
    "``` python\n",
    "reponse = \"\"\n",
    "while reponse != \"y\" and reponse != \"n\":\n",
    "    reponse = input(\"voulez-vous continuer ? [y/n] \")\n",
    "```\n",
    "\n",
    "> notez : la valeur de la variable *reponse*, pivot de l'expression utilisée pour interrompre la boucle *while*, est **modifiée à l'intérieur de la boucle**."
   ]
  },
  {
   "cell_type": "markdown",
   "metadata": {
    "slideshow": {
     "slide_type": "subslide"
    }
   },
   "source": [
    "## Boucle `for`\n",
    "\n",
    "``` python\n",
    "for var_instance in {serie}:\n",
    "    # do something\n",
    "``` \n",
    "\n",
    "Une boucle ***for*** prend une série de valeurs (ou `iterable`) et pour chaque valeur contenue dans cette série, effectue les instructions données. A chaque itération, la valeur est assignée à la une variable définie après le mot-clef `for`. Si cette variable n'existe pas avant la boucle *for*, elle est automatiquement créée.\n",
    "\n",
    "> On peut lire l'instruction `for x in \"hello\":` ainsi : pour chaque valeur (lettre) contenu dans la chaine de caractères \"hello\", l'assigner à la variable *x*.\n",
    "\n",
    "Une boucle ***for*** a donc un nombre limité d'itérations, défini par la longueur de la série. En ce sens, les boucles *for* sont plus \"*safe*\" que les boucles *while* et sont donc à privilégier."
   ]
  },
  {
   "cell_type": "code",
   "execution_count": 137,
   "metadata": {},
   "outputs": [
    {
     "name": "stdout",
     "output_type": "stream",
     "text": [
      "W\n",
      "A\n",
      "S\n",
      "D\n"
     ]
    }
   ],
   "source": [
    "for lettre in \"WASD\":\n",
    "    print(lettre)"
   ]
  },
  {
   "cell_type": "markdown",
   "metadata": {
    "slideshow": {
     "slide_type": "subslide"
    }
   },
   "source": [
    "On peut imbriquer des blocs de type boucle et des structures conditionnelles.\n",
    "\n",
    "> `range(a,b)` est une fonction qui permet de créer une suite de chiffres allant de *a* jusqu'à *b* (exclu)"
   ]
  },
  {
   "cell_type": "code",
   "execution_count": 101,
   "metadata": {
    "slideshow": {
     "slide_type": "-"
    }
   },
   "outputs": [
    {
     "name": "stdout",
     "output_type": "stream",
     "text": [
      "1 n'est pas un nombre pair.\n",
      "2 est un nombre pair.\n",
      "3 n'est pas un nombre pair.\n",
      "4 est un nombre pair.\n",
      "5 n'est pas un nombre pair.\n",
      "6 est un nombre pair.\n",
      "7 n'est pas un nombre pair.\n",
      "8 est un nombre pair.\n",
      "9 n'est pas un nombre pair.\n"
     ]
    }
   ],
   "source": [
    "for chiffre in range(1,10):\n",
    "    if chiffre % 2 == 0:\n",
    "        print(chiffre, \"est un nombre pair.\")\n",
    "    else:\n",
    "        print(chiffre, \"n'est pas un nombre pair.\")"
   ]
  },
  {
   "cell_type": "markdown",
   "metadata": {
    "slideshow": {
     "slide_type": "subslide"
    }
   },
   "source": [
    "## Exercices logiques"
   ]
  },
  {
   "cell_type": "markdown",
   "metadata": {
    "slideshow": {
     "slide_type": "subslide"
    }
   },
   "source": [
    "## Exercice 1 \n",
    "\n",
    "En utilisant une boucle `for`, écrivez un algorithme permettant d'obtenir l'affichage suivant : \n",
    "\n",
    "```\n",
    "3 x 0 = 0\n",
    "3 x 1 = 3\n",
    "3 x 2 = 6\n",
    "3 x 3 = 9\n",
    "3 x 4 = 12\n",
    "3 x 5 = 15\n",
    "```"
   ]
  },
  {
   "cell_type": "markdown",
   "metadata": {
    "slideshow": {
     "slide_type": "subslide"
    }
   },
   "source": [
    "## Exercice 2\n",
    "\n",
    "Ecrivez un script Python appliquant l'algorithme de l'exercice 1."
   ]
  },
  {
   "cell_type": "markdown",
   "metadata": {
    "slideshow": {
     "slide_type": "subslide"
    }
   },
   "source": [
    "## Exercice 3\n",
    "\n",
    "En utilisant une boucle `while`, écriver un algorithme permettant de dessiner une pyramide de `*`, dont le nombre d'étage souhaité est stocké dans une variable.\n",
    "\n",
    "Par exemple, si `etages = 4` alors le programme affiche la pyramide suivante : \n",
    "    \n",
    "```\n",
    "*\n",
    "**\n",
    "***\n",
    "****\n",
    "```"
   ]
  },
  {
   "cell_type": "markdown",
   "metadata": {
    "slideshow": {
     "slide_type": "subslide"
    }
   },
   "source": [
    "## Exercice 4\n",
    "\n",
    "Ecrivez un script Python appliquant l'algorithme de l'exercice 3."
   ]
  },
  {
   "cell_type": "markdown",
   "metadata": {
    "slideshow": {
     "slide_type": "slide"
    }
   },
   "source": [
    "# Nouveau type : Listes"
   ]
  },
  {
   "cell_type": "markdown",
   "metadata": {
    "slideshow": {
     "slide_type": "subslide"
    }
   },
   "source": [
    "📜 Les listes sont un type de variable pouvant contenir une ou plusieurs valeurs à la suite. \n",
    "\n",
    "📜🐍 En Python, une liste peut contenir plusieurs types de variables en même temps.\n",
    "\n",
    "📜🤨 En fonction des langages de programmation, on les appelle aussi `array` ou `vecteur`.\n",
    "\n",
    "📜 Une liste est un objet appartenant à la catégorie des `iterables` (comme les chaines de caractères)\n",
    "\n",
    "📜 Les valeurs contenues dans une liste sont `indexées`. On peut donc cibler précisément telle ou telle valeur contenue dans la liste.\n",
    "\n",
    "📜🤯 L'indexation dans une liste commence à `0` "
   ]
  },
  {
   "cell_type": "markdown",
   "metadata": {
    "slideshow": {
     "slide_type": "subslide"
    }
   },
   "source": [
    "## Syntaxe"
   ]
  },
  {
   "cell_type": "code",
   "execution_count": 35,
   "metadata": {},
   "outputs": [
    {
     "name": "stdout",
     "output_type": "stream",
     "text": [
      "ma_liste[2]  : C\n",
      "une_variable : B\n",
      "super_liste  : [\"ceci n'est pas un chiffre\", 3.14, True, <class 'str'>, 2048, ['A', 'B', 'C', 'D']]\n"
     ]
    }
   ],
   "source": [
    "# créer une liste\n",
    "ma_liste_vide = []\n",
    "mon_autre_liste_vide = list()\n",
    "ma_liste = ['A','B','C','D']\n",
    "\n",
    "# Accéder au contenu d'une liste\n",
    "print('ma_liste[2]  :', ma_liste[2])\n",
    "une_variable = ma_liste[1]\n",
    "print('une_variable :', une_variable)\n",
    "\n",
    "\n",
    "# Une liste peut contenir plusieurs types... y compris des listes\n",
    "super_liste = [\"ceci n'est pas un chiffre\", 3.14, True, type('hello'), 2048, ma_liste]\n",
    "print('super_liste  :', super_liste)"
   ]
  },
  {
   "cell_type": "markdown",
   "metadata": {
    "slideshow": {
     "slide_type": "subslide"
    }
   },
   "source": [
    "## Indexation\n",
    "\n",
    "> Moyen mnémotechnique : l'indexation des listes fonctionne comme les étages en français.\n",
    "\n",
    "| index  |  0  |  1  |  2  |  3  |\n",
    "| :----- | :-: | :-: | :-: | :-: |\n",
    "| valeur |  A  |  B  |  C  |  D  |\n",
    "| palier | RDC |  1E |  2E |  3E |\n",
    "\n",
    "Si vous demandez un index qui n'est pas associé à une valeur (parce que la liste est trop courte), vous optenez une erreur (`IndexError`)."
   ]
  },
  {
   "cell_type": "code",
   "execution_count": 38,
   "metadata": {},
   "outputs": [
    {
     "ename": "IndexError",
     "evalue": "list index out of range",
     "output_type": "error",
     "traceback": [
      "\u001b[0;31m---------------------------------------------------------------------------\u001b[0m",
      "\u001b[0;31mIndexError\u001b[0m                                Traceback (most recent call last)",
      "\u001b[0;32m<ipython-input-38-b214c2428d1f>\u001b[0m in \u001b[0;36m<module>\u001b[0;34m\u001b[0m\n\u001b[0;32m----> 1\u001b[0;31m \u001b[0mprint\u001b[0m\u001b[0;34m(\u001b[0m\u001b[0mma_liste\u001b[0m\u001b[0;34m[\u001b[0m\u001b[0;36m4\u001b[0m\u001b[0;34m]\u001b[0m\u001b[0;34m)\u001b[0m\u001b[0;34m\u001b[0m\u001b[0;34m\u001b[0m\u001b[0m\n\u001b[0m",
      "\u001b[0;31mIndexError\u001b[0m: list index out of range"
     ]
    }
   ],
   "source": [
    "print(ma_liste[4])"
   ]
  },
  {
   "cell_type": "markdown",
   "metadata": {
    "slideshow": {
     "slide_type": "subslide"
    }
   },
   "source": [
    "## Indexation par la fin\n",
    "\n",
    "On peut viser un index en partant du début de la liste ou de la fin."
   ]
  },
  {
   "cell_type": "code",
   "execution_count": 18,
   "metadata": {},
   "outputs": [
    {
     "name": "stdout",
     "output_type": "stream",
     "text": [
      "4e\n",
      "2e\n"
     ]
    }
   ],
   "source": [
    "liste_exemple = [\"RDC\", \"1er\", \"2e\", \"3e\", \"4e\"]\n",
    "print(liste_exemple[-1])\n",
    "print(liste_exemple[-3])"
   ]
  },
  {
   "cell_type": "code",
   "execution_count": 19,
   "metadata": {},
   "outputs": [
    {
     "ename": "IndexError",
     "evalue": "list index out of range",
     "output_type": "error",
     "traceback": [
      "\u001b[1;31m---------------------------------------------------------------------------\u001b[0m",
      "\u001b[1;31mIndexError\u001b[0m                                Traceback (most recent call last)",
      "\u001b[1;32m<ipython-input-19-c4b99e6a1b85>\u001b[0m in \u001b[0;36m<module>\u001b[1;34m\u001b[0m\n\u001b[1;32m----> 1\u001b[1;33m \u001b[0mprint\u001b[0m\u001b[1;33m(\u001b[0m\u001b[0mliste_exemple\u001b[0m\u001b[1;33m[\u001b[0m\u001b[1;33m-\u001b[0m\u001b[1;36m10\u001b[0m\u001b[1;33m]\u001b[0m\u001b[1;33m)\u001b[0m\u001b[1;33m\u001b[0m\u001b[1;33m\u001b[0m\u001b[0m\n\u001b[0m",
      "\u001b[1;31mIndexError\u001b[0m: list index out of range"
     ]
    }
   ],
   "source": [
    "print(liste_exemple[-10])"
   ]
  },
  {
   "cell_type": "markdown",
   "metadata": {
    "slideshow": {
     "slide_type": "subslide"
    }
   },
   "source": [
    "## Bonnes pratiques\n",
    "\n",
    "Pour éviter les déconvenues, pensez à utiliser `len()` sur une liste avant de cibler les valeurs indexées."
   ]
  },
  {
   "cell_type": "code",
   "execution_count": 20,
   "metadata": {},
   "outputs": [
    {
     "name": "stdout",
     "output_type": "stream",
     "text": [
      "5\n"
     ]
    }
   ],
   "source": [
    "print(len(liste_exemple))"
   ]
  },
  {
   "cell_type": "code",
   "execution_count": 21,
   "metadata": {},
   "outputs": [
    {
     "name": "stdout",
     "output_type": "stream",
     "text": [
      "4e\n"
     ]
    }
   ],
   "source": [
    "print(liste_exemple[len(liste_exemple) - 1])"
   ]
  },
  {
   "cell_type": "code",
   "execution_count": 22,
   "metadata": {},
   "outputs": [
    {
     "name": "stdout",
     "output_type": "stream",
     "text": [
      "No can't do!\n"
     ]
    }
   ],
   "source": [
    "index = 6\n",
    "if index < len(liste_exemple):\n",
    "    print(liste_exemple[index])\n",
    "else:\n",
    "    print(\"No can't do!\")"
   ]
  },
  {
   "cell_type": "markdown",
   "metadata": {
    "slideshow": {
     "slide_type": "subslide"
    }
   },
   "source": [
    "## Sections, *`sublists`* ou encore *`slices`* \n",
    "\n",
    "Si on peut cibler une seule valeur à la fois, on peut aussi cibler une section dans une liste : `liste[début:fin:pas]`"
   ]
  },
  {
   "cell_type": "code",
   "execution_count": 15,
   "metadata": {},
   "outputs": [
    {
     "name": "stdout",
     "output_type": "stream",
     "text": [
      "['t', 'h', 'o', 'n']\n"
     ]
    }
   ],
   "source": [
    "exemple = ['p','y','t','h','o','n', ' ', '!']\n",
    "print(exemple[2:6])"
   ]
  },
  {
   "cell_type": "markdown",
   "metadata": {},
   "source": [
    "|  0  |  1  |  2      |  3  |  4  |  5  |  6         |  7  |\n",
    "| :-: | :-: | :-:     | :-: | :-: | :-: | :-:        | :-: |\n",
    "| \"P\" | \"Y\" | \"T\"     | \"H\" | \"O\" | \"N\" | \" \"        | \"!\" |\n",
    "|  -  |  -  | *start* |  -  |  -  |  -  | ***stop*** |  -  | "
   ]
  },
  {
   "cell_type": "code",
   "execution_count": 16,
   "metadata": {
    "slideshow": {
     "slide_type": "subslide"
    }
   },
   "outputs": [
    {
     "name": "stdout",
     "output_type": "stream",
     "text": [
      "1 : ['t', 'h', 'o', 'n']\n",
      "2 : []\n",
      "3 : ['t', 'o']\n",
      "4 : ['t', 'h', 'o', 'n', ' ', '!']\n",
      "5 : ['p', 'y', 't', 'h', 'o']\n",
      "6 : ['p', 'y', 't', 'h', 'o', 'n', ' ', '!']\n",
      "7 : ['p', 't', 'o', ' ']\n",
      "8 : ['p', 't', 'o']\n"
     ]
    }
   ],
   "source": [
    "# on peut utiliser des index négatifs\n",
    "print('1 :', exemple[-6:-2])  \n",
    "# en parcourant la liste de gauche à droite\n",
    "print('2 :', exemple[-2:-6])  \n",
    "# le pas de 1 est implicite, on peut le modifier\n",
    "print('3 :', exemple[2:6:2])  \n",
    "# sans index de fin, on continue jusqu'à la fin de la liste \n",
    "print('4 :', exemple[2:])     \n",
    "# sans index de début, on part du début de la liste\n",
    "print('5 :', exemple[:5])     \n",
    "# on peut faire une section allant du début à la fin (copie)\n",
    "print('6 :', exemple[:])      \n",
    "# on peut ne préciser que le pas\n",
    "print('7 :', exemple[::2])    \n",
    "# n'importe lequel des éléments peut être implicite\n",
    "print('8 :', exemple[:5:2])   "
   ]
  },
  {
   "cell_type": "markdown",
   "metadata": {
    "slideshow": {
     "slide_type": "subslide"
    }
   },
   "source": [
    "## Itérables\n",
    "\n",
    "Une chaîne de caractères fait aussi partie de la catégorie des itérables, on peut donc se servir des *slices* et des *index* sur ce type de variable."
   ]
  },
  {
   "cell_type": "code",
   "execution_count": 12,
   "metadata": {},
   "outputs": [
    {
     "name": "stdout",
     "output_type": "stream",
     "text": [
      "p\n",
      "thon\n"
     ]
    }
   ],
   "source": [
    "chaine = 'python !'\n",
    "print(chaine[len(chaine) - (len(chaine)*2)])\n",
    "print(chaine[2:6])"
   ]
  },
  {
   "cell_type": "markdown",
   "metadata": {
    "slideshow": {
     "slide_type": "subslide"
    }
   },
   "source": [
    "En revanche, dans une chaîne de caractères, on ne peut pas réassigner une valeur à un index. On dit qu'une chaîne de caractère est `imutable`."
   ]
  },
  {
   "cell_type": "code",
   "execution_count": 10,
   "metadata": {},
   "outputs": [
    {
     "ename": "NameError",
     "evalue": "name 'chaine' is not defined",
     "output_type": "error",
     "traceback": [
      "\u001b[1;31m---------------------------------------------------------------------------\u001b[0m",
      "\u001b[1;31mNameError\u001b[0m                                 Traceback (most recent call last)",
      "\u001b[1;32m<ipython-input-10-b6a7f31ceb5f>\u001b[0m in \u001b[0;36m<module>\u001b[1;34m\u001b[0m\n\u001b[1;32m----> 1\u001b[1;33m \u001b[0mchaine\u001b[0m\u001b[1;33m[\u001b[0m\u001b[1;36m4\u001b[0m\u001b[1;33m]\u001b[0m \u001b[1;33m=\u001b[0m \u001b[1;34m'*'\u001b[0m\u001b[1;33m\u001b[0m\u001b[1;33m\u001b[0m\u001b[0m\n\u001b[0m",
      "\u001b[1;31mNameError\u001b[0m: name 'chaine' is not defined"
     ]
    }
   ],
   "source": [
    "chaine[4] = '*'"
   ]
  },
  {
   "cell_type": "code",
   "execution_count": 13,
   "metadata": {},
   "outputs": [
    {
     "name": "stdout",
     "output_type": "stream",
     "text": [
      "pyt*on !\n"
     ]
    }
   ],
   "source": [
    "# mais on peut toujours contourner ce problème...\n",
    "modif = chaine[:3] + '*' + chaine[4:]\n",
    "print(modif)"
   ]
  },
  {
   "cell_type": "markdown",
   "metadata": {
    "slideshow": {
     "slide_type": "subslide"
    }
   },
   "source": [
    "## Méthodes des listes\n",
    "\n",
    "Les listes ont des fonctions et méthodes qui leur sont associées.\n",
    "- `liste.append(x)` : ajouter un élément à la fin de la liste\n",
    "- `liste.pop({index})` : supprimer un élément de la liste à partir de son index (le récupérer en mémoire)\n",
    "- `liste.remove(x)` : supprimer de la liste la première occurrence de l'élément recherché\n",
    "- `liste.index(x)` : renvoyer l'index de la première occurrence de l'élément recherché\n",
    "- `liste.count(x)` : compter le nombre d'occurrence de l'élément recherché dans la liste\n",
    "- `liste.sort()` : trier la liste selon un ensemble de [règles](https://docs.python.org/3.6/howto/sorting.html#sortinghowto)"
   ]
  },
  {
   "cell_type": "code",
   "execution_count": 9,
   "metadata": {
    "slideshow": {
     "slide_type": "subslide"
    }
   },
   "outputs": [
    {
     "name": "stdout",
     "output_type": "stream",
     "text": [
      "[1, 2, 3, 4, 5, 6, 7, 8]\n",
      "[1, 2, 3, 4, 5, 6, 7, 8, ['Q', 'Z', 'S', 'D']]\n"
     ]
    }
   ],
   "source": [
    "liste_1a4 = [1, 2, 3, 4]\n",
    "liste_5a8 = [5, 6, 7, 8]\n",
    "liste_lettres = ['Q', 'Z', 'S', 'D']\n",
    "\n",
    "# On peut concaténer 2 listes\n",
    "liste_1a8 = liste_1a4 + liste_5a8\n",
    "print(liste_1a8)\n",
    "\n",
    "# Attention .append() n'a pas le même effet\n",
    "liste_1a8.append(liste_lettres)\n",
    "print(liste_1a8)"
   ]
  },
  {
   "cell_type": "markdown",
   "metadata": {
    "slideshow": {
     "slide_type": "subslide"
    }
   },
   "source": [
    "# Exercices pratiques"
   ]
  },
  {
   "cell_type": "markdown",
   "metadata": {
    "slideshow": {
     "slide_type": "-"
    }
   },
   "source": [
    "Réaliser les 5 exercices du fichier `iterations.py`\n",
    "\n",
    "### 👉 https://repl.it/@AlixChagu/ENCintroalgo#basics/iterations.py"
   ]
  },
  {
   "cell_type": "markdown",
   "metadata": {
    "slideshow": {
     "slide_type": "slide"
    }
   },
   "source": [
    "# Nouveau type : Dictionnaires"
   ]
  },
  {
   "cell_type": "markdown",
   "metadata": {
    "slideshow": {
     "slide_type": "subslide"
    }
   },
   "source": [
    "🔑 Les dictionnaires sont un type de variables contenant une série de `valeurs` associées à des `clefs` d'accès.\n",
    "\n",
    "🔑 Contrairement aux listes, les dictionnaires n'ont pas d'index (ce ne sont pas des itérables).\n",
    "\n",
    "🔑 Comme les listes, un dictionnaire peut contenir plusieurs types de données en même temps, y compris d'autres dictionnaires.\n",
    "\n",
    "🔑 Un dictionnaire peut contenir plusieurs fois la même valeur mais chaque clef est unique."
   ]
  },
  {
   "cell_type": "markdown",
   "metadata": {
    "slideshow": {
     "slide_type": "subslide"
    }
   },
   "source": [
    "## Syntaxe"
   ]
  },
  {
   "cell_type": "code",
   "execution_count": 114,
   "metadata": {},
   "outputs": [
    {
     "name": "stdout",
     "output_type": "stream",
     "text": [
      "mon_dico = {'clef': 'valeur'}\n",
      "mon_dico_vide = {}\n",
      "mon_dico_vide = {'hello': 'world'}\n",
      "mon_dico_vide = {'hello': 'world!'}\n",
      "mon_dico_vide = {}\n"
     ]
    }
   ],
   "source": [
    "# créer un dictionnaire\n",
    "mon_dico_vide = {}\n",
    "mon_autre_dico_vide = dict()\n",
    "mon_dico = {\"clef\" : \"valeur\"}\n",
    "\n",
    "print(\"mon_dico =\", mon_dico)\n",
    "\n",
    "# Ajouter ou modifier des valeurs dans un dictionnaire\n",
    "print(\"mon_dico_vide =\", mon_dico_vide)\n",
    "mon_dico_vide[\"hello\"] = \"world\"\n",
    "print(\"mon_dico_vide =\", mon_dico_vide)\n",
    "mon_dico_vide[\"hello\"] = \"world!\"\n",
    "print(\"mon_dico_vide =\", mon_dico_vide)\n",
    "\n",
    "# Supprimer une valeur dans un dictionnaire\n",
    "del mon_dico_vide[\"hello\"]\n",
    "print(\"mon_dico_vide =\", mon_dico_vide)"
   ]
  },
  {
   "cell_type": "code",
   "execution_count": 113,
   "metadata": {
    "slideshow": {
     "slide_type": "subslide"
    }
   },
   "outputs": [
    {
     "name": "stdout",
     "output_type": "stream",
     "text": [
      "mon_dico[\"clef\"] = valeur\n",
      "super_dico  : {'chiffre': 42, 113: 'entier', 'clef3': [1, 2, 3]}\n"
     ]
    }
   ],
   "source": [
    "# Accéder au contenu d'un dictionnaire\n",
    "print('mon_dico[\"clef\"] =', mon_dico[\"clef\"])\n",
    "\n",
    "# Un dictionnaire peut contenir plusieurs types... y compris des dictionnaires\n",
    "super_dico = {\"chiffre\": 42, 113: \"entier\", \"clef3\" : [1,2,3]}\n",
    "print('super_dico  :', super_dico)"
   ]
  },
  {
   "cell_type": "markdown",
   "metadata": {
    "slideshow": {
     "slide_type": "fragment"
    }
   },
   "source": [
    "Dans certains cas, utiliser un dictionnaire plutôt qu'une liste permet de naviguer plus facilement entre les données qu'il contient.\n",
    "\n",
    "``` python\n",
    "identité = [\"Jules\", \"Quicherat\", 1814, 1834, 1882]\n",
    "identité = {\"prénom\": \"Jules\", \"nom\": \"Quicherat\", \"promo\": 1834, \"naissance\": 1814, \"mort\": 1882}\n",
    "```"
   ]
  },
  {
   "cell_type": "markdown",
   "metadata": {
    "slideshow": {
     "slide_type": "subslide"
    }
   },
   "source": [
    "## Méthodes des dictionnaires\n",
    "\n",
    "- `dico.keys()` : créer un objet itérable contenant la liste des clefs utilisées dans le dictionnaire\n",
    "- `dico.values()` : créer un obbjet itérable contenant la liste des valeurs contenues dans le dictionnaire\n",
    "- `dico.get()` : envoie la valeur associé à la clef recherchée ou une valeur par défaut si la clef n'existe pas\n",
    "- `dico.items()` : renvoie le contenu du dictionnaire sous la forme d'une liste de `tuples`."
   ]
  },
  {
   "cell_type": "code",
   "execution_count": 3,
   "metadata": {
    "slideshow": {
     "slide_type": "subslide"
    }
   },
   "outputs": [],
   "source": [
    "dico_demo = {\"prénom\": \"Berthe\", \"nom\": \"Morisot\", \"debut\": 1865, \"naissance\": 1841, \"mort\": 1895}"
   ]
  },
  {
   "cell_type": "code",
   "execution_count": 4,
   "metadata": {},
   "outputs": [
    {
     "name": "stdout",
     "output_type": "stream",
     "text": [
      "dict_keys(['prénom', 'nom', 'debut', 'naissance', 'mort'])\n",
      "<class 'dict_keys'>\n",
      "prénom\n",
      "nom\n",
      "debut\n",
      "naissance\n",
      "mort\n"
     ]
    }
   ],
   "source": [
    "# .keys()\n",
    "print(dico_demo.keys())\n",
    "print(type(dico_demo.keys()))\n",
    "for key in dico_demo.keys():\n",
    "    print(key)"
   ]
  },
  {
   "cell_type": "code",
   "execution_count": 5,
   "metadata": {},
   "outputs": [
    {
     "name": "stdout",
     "output_type": "stream",
     "text": [
      "dict_values(['Berthe', 'Morisot', 1865, 1841, 1895])\n",
      "<class 'dict_values'>\n",
      "Berthe\n",
      "Morisot\n",
      "1865\n",
      "1841\n",
      "1895\n"
     ]
    }
   ],
   "source": [
    "# .values()\n",
    "print(dico_demo.values())\n",
    "print(type(dico_demo.values()))\n",
    "for value in dico_demo.values():\n",
    "    print(value)"
   ]
  },
  {
   "cell_type": "code",
   "execution_count": 6,
   "metadata": {
    "slideshow": {
     "slide_type": "subslide"
    }
   },
   "outputs": [
    {
     "name": "stdout",
     "output_type": "stream",
     "text": [
      "Berthe\n",
      "None\n",
      "métier inconnu\n"
     ]
    }
   ],
   "source": [
    "# .get(key, default)\n",
    "print(dico_demo.get('prénom'))\n",
    "print(dico_demo.get('métier'))\n",
    "print(dico_demo.get('métier', 'métier inconnu'))"
   ]
  },
  {
   "cell_type": "code",
   "execution_count": 7,
   "metadata": {},
   "outputs": [
    {
     "name": "stdout",
     "output_type": "stream",
     "text": [
      "dict_items([('prénom', 'Berthe'), ('nom', 'Morisot'), ('debut', 1865), ('naissance', 1841), ('mort', 1895)])\n",
      "<class 'dict_items'>\n",
      "<class 'tuple'> ; ('prénom', 'Berthe')\n",
      "<class 'tuple'> ; ('nom', 'Morisot')\n",
      "<class 'tuple'> ; ('debut', 1865)\n",
      "<class 'tuple'> ; ('naissance', 1841)\n",
      "<class 'tuple'> ; ('mort', 1895)\n"
     ]
    }
   ],
   "source": [
    "# .items()\n",
    "print(dico_demo.items())\n",
    "print(type(dico_demo.items()))\n",
    "for duo in dico_demo.items():\n",
    "    print(type(duo), duo, sep=\" ; \")"
   ]
  },
  {
   "cell_type": "markdown",
   "metadata": {
    "slideshow": {
     "slide_type": "skip"
    }
   },
   "source": [
    "## Tuples\n",
    "\n",
    "🧲 Un tuple ressemble a une liste en ce qu'il est une série ordonnées de valeurs (stockées ou non dans des variables) auxquelles on peut accéder grâce aux index.\n",
    "\n",
    "🧲 En revanche, comme les chaines de caractères, les tuples sont dits imutables. On ne peut pas modifier l'une des valeurs stockées dans le tuple sans le modifer entièrement.\n",
    "\n",
    "🧲 En général, les tuples sont notés comme des valeurs séparées par des virgules et contenues entre deux parenthèses : `(\"ceci\", \"est\", \"un\", \"tuple\")`.\n",
    "\n",
    "🧲 On n'est pas toujours obligé d'utiliser des parenthèses, elles sont parfois implicites : `tuple = 2019, 2020`\n",
    "\n",
    "🧲 Un tuple peut ne contenir qu'une valeur : `(True,)`\n"
   ]
  },
  {
   "cell_type": "code",
   "execution_count": 8,
   "metadata": {
    "slideshow": {
     "slide_type": "skip"
    }
   },
   "outputs": [
    {
     "name": "stdout",
     "output_type": "stream",
     "text": [
      "prénom ... Berthe\n",
      "nom ... Morisot\n",
      "debut ... 1865\n",
      "naissance ... 1841\n",
      "mort ... 1895\n"
     ]
    }
   ],
   "source": [
    "# On peut \"dézipper\" les tuples en créant autant de variable receptacle qu'il y a de valeur contenues dans le tuple\n",
    "\n",
    "for key, value in dico_demo.items():\n",
    "    print(key, value, sep=\" ... \")"
   ]
  },
  {
   "cell_type": "markdown",
   "metadata": {
    "slideshow": {
     "slide_type": "slide"
    }
   },
   "source": [
    "# Aller plus loin"
   ]
  },
  {
   "cell_type": "markdown",
   "metadata": {
    "slideshow": {
     "slide_type": "subslide"
    }
   },
   "source": [
    "- Création de fonctions\n",
    "- Programmation modulaires et import de librairies externes\n",
    "- JSON et CSV\n",
    "- Manipulation de fichiers\n",
    "- Documenter son code\n",
    "- Tests et exceptions\n",
    "- Classes et programmation orientée objets"
   ]
  },
  {
   "cell_type": "markdown",
   "metadata": {
    "slideshow": {
     "slide_type": "subslide"
    }
   },
   "source": [
    "![Prof Chen: \"Un tout nouveau monde de rêves, d'aventures et de Python t'attend! Dingue!\"](../../images/chen.png)"
   ]
  }
 ],
 "metadata": {
  "celltoolbar": "Diaporama",
  "kernelspec": {
   "display_name": "Python 3",
   "language": "python",
   "name": "python3"
  },
  "language_info": {
   "codemirror_mode": {
    "name": "ipython",
    "version": 3
   },
   "file_extension": ".py",
   "mimetype": "text/x-python",
   "name": "python",
   "nbconvert_exporter": "python",
   "pygments_lexer": "ipython3",
   "version": "3.8.3"
  }
 },
 "nbformat": 4,
 "nbformat_minor": 4
}
