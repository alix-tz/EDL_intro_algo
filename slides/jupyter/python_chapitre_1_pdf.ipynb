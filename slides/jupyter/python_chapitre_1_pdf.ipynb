{
 "cells": [
  {
   "cell_type": "markdown",
   "metadata": {
    "slideshow": {
     "slide_type": "slide"
    }
   },
   "source": [
    "# Introduction à la pensée algorithmique avec Python (1)\n",
    "\n",
    "\n",
    "\n",
    "📌 Ecole du Louvre, Master Documentation et Huménités Numériques, 2020\n",
    "\n",
    "---\n",
    "\n",
    "#### Alix Chagué\n",
    "\n",
    "\n",
    "📫 [alix.chague@inria.fr](mailto:alix.chague@inria.fr)  \n",
    "\n",
    "💼 *Ingénieure Recherche et Développement* @ Inria\n",
    "\n",
    "| | |\n",
    "| :---: | :---: |\n",
    "| ![inria](../../images/inria.png) | ![inria](../../images/edllogo.png) |"
   ]
  },
  {
   "cell_type": "markdown",
   "metadata": {
    "slideshow": {
     "slide_type": "subslide"
    }
   },
   "source": [
    "### *Crédits*\n",
    "\n",
    "> Librement inspiré des [supports de cours](https://github.com/gguibon/essec-python-1) de Gaël Guibon  \n",
    "> Librement inspiré des [supports de cours](https://goo.gl/UFqu2U) de Julien Pilla\n",
    "\n",
    "> Retrouvez l'ensemble du cours sur 👉 [**github.com/alix-tz/enc-intro-algo**](https://github.com/alix-tz/enc-intro-algo)👈"
   ]
  },
  {
   "cell_type": "markdown",
   "metadata": {
    "slideshow": {
     "slide_type": "slide"
    }
   },
   "source": [
    "# Syllabus\n"
   ]
  },
  {
   "cell_type": "markdown",
   "metadata": {
    "slideshow": {
     "slide_type": "subslide"
    }
   },
   "source": [
    "## Plan du cours\n",
    "\n",
    "- Syllabus\n",
    "- Pogrammation et algorithmique\n",
    "- Présentation de Python\n",
    "- Valeurs et variables\n",
    "- Opérations arithmétiques\n",
    "- Exercices logiques\n",
    "- Exercices pratiques\n"
   ]
  },
  {
   "cell_type": "markdown",
   "metadata": {
    "slideshow": {
     "slide_type": "subslide"
    }
   },
   "source": [
    "## Objectifs du cours\n",
    "\n",
    "🏆 Connaître le vocabulaire de la programmation\n",
    "\n",
    "🏆 Savoir lire et concevoir un algorithme\n",
    "\n",
    "🏆 Se familiariser avec l'environnement de développement de Python\n",
    "\n",
    "🏆 Connaître les bonnes pratiques de développement\n",
    "\n",
    "🏆 Ecrire un programme simple avec Python"
   ]
  },
  {
   "cell_type": "markdown",
   "metadata": {
    "slideshow": {
     "slide_type": "subslide"
    }
   },
   "source": [
    "## Liens utiles\n",
    "\n",
    "👉 Simulateur d'environnement Python en mode pseudo-IDE : https://repl.it/languages/python3\n",
    "\n",
    "👉 Simulateur d'environnement Python en mode console : https://www.python.org/shell/\n",
    "\n",
    "👉 Documation officielle de Python : https://docs.python.org/3/\n",
    "\n",
    "👉 Visualisateur d'execution de code Python : http://pythontutor.com/"
   ]
  },
  {
   "cell_type": "markdown",
   "metadata": {
    "slideshow": {
     "slide_type": "subslide"
    }
   },
   "source": [
    "## Quelques ressources pour continuer à se former\n",
    "\n",
    "👉 \"Automate the Boring Stuff with Python\" (`en`) : https://automatetheboringstuff.com/\n",
    "\n",
    "👉 Leçons dédiées à Python sur *Programming Historian* (`en`, `fr` ou `es`) : https://programminghistorian.org/en/lessons/introduction-and-installation\n",
    "\n",
    "👉 \"Apprendre à coder avec Python\", MOOC de l'Université Libre de Bruxelles (`fr`) : https://www.fun-mooc.fr/courses/course-v1:ulb+44013+session04/about\n",
    "\n",
    "👉 \"Apprenez à programmer en Python\", cours en ligne sur OpenClassroom (`fr`) : https://openclassrooms.com/fr/courses/235344-apprenez-a-programmer-en-python\n",
    "\n",
    "👉 \"Introduction à Python\" pour le Master Ingénierie Multilingue de l'Inalco, Loïc Grobol et Yoann Dupont (`fr`) :  https://loicgrobol.github.io/python-im/m2-2018/\n",
    "\n"
   ]
  },
  {
   "cell_type": "markdown",
   "metadata": {
    "slideshow": {
     "slide_type": "slide"
    }
   },
   "source": [
    "# Programmation et algorithmique"
   ]
  },
  {
   "cell_type": "markdown",
   "metadata": {
    "slideshow": {
     "slide_type": "subslide"
    }
   },
   "source": [
    "## A quoi ça sert de programmer ?\n",
    "\n",
    "- Automatiser des actions simples et répétitives\n",
    "- Réduire le temps passé sur ces tâches\n",
    "- Réduire les erreurs humaines (dues à la fatigue ou à l'ennui par exemple) et faciliter leur détection\n",
    "\n",
    "\n",
    "### Exemple : \n",
    "\n",
    "- Comment faites-vous pour renommer 390 fichiers (*ex: retirer \"_copie\" ou les renommer en ajoutant un numéro d'ordre*) ? Combien de temps cela prend-il ? Quelles chances avez-vous de commettre des erreurs en faisant cela ?\n",
    "\n",
    "- Vous avez une base de données pleine de liens URL vers des ressources et vous voulez vérifier que ces liens sont corrects (toujours actifs et liés à la bonne ressource). Comment faites-vous ? Combien de temps cela va prendre ?  "
   ]
  },
  {
   "cell_type": "markdown",
   "metadata": {
    "slideshow": {
     "slide_type": "subslide"
    }
   },
   "source": [
    "> Dans un univers professionnel de plus en plus \"numérique\", avoir des bases en programmation est une compétence utile et valrisée.\n",
    "\n",
    "> Pour pouvoir mener à bien des projets numériques d'ampleur, il est nécessaire de démistifier le travail des développeur·ses avec qui vous collaborerez et de pouvoir comprendre les contraintes de la programmation. "
   ]
  },
  {
   "cell_type": "markdown",
   "metadata": {
    "slideshow": {
     "slide_type": "subslide"
    }
   },
   "source": [
    "## Notions élémentaires \n",
    "\n",
    "Par `algorithmique` (ou *algorithmie*), on désigne généralement les paradigmes qui guident la logique programmatique et qui existent quel que soit le langage de programmation utilisé. Construire un algorithme, c'est donc **imaginer un scénario** permettant d'obtenir un résultat étant donné un ensemble de contraintes formelles.\n",
    "\n",
    "Un `programme` est la mise en application d'un algorithme. C'est une **suite d'instructions** fournies à la machine pour qu'elle les exécute afin de produire un résultat (`output`). Un programme peut en plus faire appel à des données extérieures (`input`).\n",
    "\n",
    "Ces instructions sont exécutées dans un ordre précis, un algorithme a donc un début et une fin.\n",
    "\n",
    "Elles sont construites à partir d'éléments de bases communs à tous les langages :\n",
    "- `valeurs`\n",
    "- `fonctions`\n",
    "- `variables`\n",
    "- `opérateurs`\n",
    "- `structures conditionnelles` (si... alors)\n",
    "- `boucles` ou `structures répététives`\n",
    "- `commentaires`"
   ]
  },
  {
   "cell_type": "markdown",
   "metadata": {
    "slideshow": {
     "slide_type": "subslide"
    }
   },
   "source": [
    "## Langages de programmation\n",
    "\n",
    "Il existe une multitude de langages pour exprimer ces instructions, par exemple :\n",
    "\n",
    "| **C++** | **Java** | **Python** | **R** | **php** |\n",
    "| :---: | :---: | :---: | :---: | :---: |\n",
    "| ![c++](../../images/c++.Png) | ![java](../../images/java.PnG) | ![python](../../images/python.PnG) | ![r](../../images/r.PnG) | ![php](../../images/php.PnG) |"
   ]
  },
  {
   "cell_type": "markdown",
   "metadata": {
    "slideshow": {
     "slide_type": "-"
    }
   },
   "source": [
    "**💁 langages de haut niveau :** Python, Java, etc.  \n",
    "\n",
    "**🤖 langages de bas niveau :** C, langage d'assemblage, code machine, etc.  "
   ]
  },
  {
   "cell_type": "markdown",
   "metadata": {
    "slideshow": {
     "slide_type": "-"
    }
   },
   "source": [
    "Les langages de haut niveau ont besoin d'être `compilés` avant d'être exécutés : ils sont traduits en un code binaire (suite de 0 et de 1) compréhensible par la machine."
   ]
  },
  {
   "cell_type": "markdown",
   "metadata": {
    "slideshow": {
     "slide_type": "subslide"
    }
   },
   "source": [
    "## Starter pack\n",
    "\n",
    "Pas besoin d'être un **robot** 🤖, un-e **magicien-ne** 🧙 ou un-e **geek** 🤓 pour faire de l'algo !"
   ]
  },
  {
   "cell_type": "markdown",
   "metadata": {
    "slideshow": {
     "slide_type": "-"
    }
   },
   "source": [
    "Il faut simplement...\n",
    "\n",
    "- de la **logique**\n",
    "- de la **rigueur :**\n",
    "    - vérifier tout, chaque caractère, chaque valeur, chaque ponctuation\n",
    "    - mettre les instructions dans le bon ordre\n",
    "- de la **patience :**\n",
    "    - vérifier/comprendre les messages d'erreur\n",
    "    - procéder pas à pas\n"
   ]
  },
  {
   "cell_type": "markdown",
   "metadata": {
    "slideshow": {
     "slide_type": "subslide"
    }
   },
   "source": [
    "## Logique"
   ]
  },
  {
   "cell_type": "markdown",
   "metadata": {
    "slideshow": {
     "slide_type": "subslide"
    }
   },
   "source": [
    "## Pseudo code\n",
    "\n",
    "Le pseudo code est une façon d'exprimer une suite d'instructions de manière abstraite, sans suivre la grammaire d'un langage en particulier. \n",
    "\n",
    "En pseudo code, `1 ligne = 1 instruction` !\n",
    "\n",
    "\n",
    "``` c\n",
    "DEBUT\n",
    "\n",
    "Instruction 1\n",
    "Instruction 2\n",
    "Instruction 3\n",
    "etc...\n",
    "\n",
    "FIN\n",
    "```\n",
    "\n"
   ]
  },
  {
   "cell_type": "markdown",
   "metadata": {
    "slideshow": {
     "slide_type": "subslide"
    }
   },
   "source": [
    "## Instructions\n",
    "\n",
    "Quelques exemples d'instructions :\n",
    "\n",
    "``` c++\n",
    "// commentaire\n",
    "\n",
    "variable = \"valeur\" // assignation\n",
    "\n",
    "faisQuelqueChose()  // appel de fonction\n",
    "\n",
    "1 + 1               // opération arithmétique\n",
    "\n",
    "1 == 1              // comparaison de valeurs\n",
    "\n",
    "// etc...\n",
    "```\n"
   ]
  },
  {
   "cell_type": "markdown",
   "metadata": {
    "slideshow": {
     "slide_type": "subslide"
    }
   },
   "source": [
    "## Problèmes\n",
    "\n",
    "1. Comment intervertir le contenu de deux verres ?\n",
    "2. Comment vérifier la validité d'une série de liens URL ?\n",
    "3. Comment renommer une série de fichiers ?\n",
    "3. ![demo](../../images/block-escape.png)"
   ]
  },
  {
   "cell_type": "markdown",
   "metadata": {
    "slideshow": {
     "slide_type": "subslide"
    }
   },
   "source": [
    "## Pseudo-code : exercice de logique\n",
    "\n",
    "![exercice 1](../../images/block-escape_ex.png)\n",
    "\n",
    "> **Instructions possibles**\n",
    "> - sélectionner un bloc\n",
    "> - déplacer dans un direction"
   ]
  },
  {
   "cell_type": "markdown",
   "metadata": {
    "slideshow": {
     "slide_type": "slide"
    }
   },
   "source": [
    "# Python\n",
    "\n"
   ]
  },
  {
   "cell_type": "markdown",
   "metadata": {
    "slideshow": {
     "slide_type": "subslide"
    }
   },
   "source": [
    "👉 https://repl.it/languages/python3"
   ]
  },
  {
   "cell_type": "markdown",
   "metadata": {
    "slideshow": {
     "slide_type": "-"
    }
   },
   "source": [
    "Python est un langage de programmation de haut niveau sous licence libre. Il a été créé par Guido Van Rossum mais son développement est pris en charge depuis 2001 par la Python Software Foundation.\n",
    "\n",
    "Le langague Python continue d'évoluer depuis par le biais des `PEP` (*Python Enhancement Proposals*)"
   ]
  },
  {
   "cell_type": "markdown",
   "metadata": {
    "slideshow": {
     "slide_type": "subslide"
    }
   },
   "source": [
    "## Python 2.x vs. 3.x\n",
    "\n",
    "Entre 2008 et 2019, cohabitaient `Python 2` et `Python 3`, deux versions de Python dont la compatibilité n'est pas totale. Depuis le 31 décembre 2019, Python 2 est officiellement \"abandonné\" et seul regne Python 3."
   ]
  },
  {
   "cell_type": "markdown",
   "metadata": {
    "slideshow": {
     "slide_type": "subslide"
    }
   },
   "source": [
    "## Premier Script\n",
    "\n",
    "👉 A tester sur https://www.python.org/shell/\n",
    "\n",
    "---\n",
    "\n",
    "``` python\n",
    "print(\"hello, world\")\n",
    "\n",
    "``` "
   ]
  },
  {
   "cell_type": "markdown",
   "metadata": {
    "slideshow": {
     "slide_type": "-"
    }
   },
   "source": [
    "---\n",
    "\n",
    "👉 `print()` est une fonction dite `built-in` et qui affiche des valeurs qui lui sont fournies\n",
    "\n",
    "👉 `\"hello, world\"` est une `chaîne de caractères` fournie à la fonction `print()`\n",
    "\n",
    "👉 une fonction est un bloc d'instructions permettant d'obtenir un résultat précis\n",
    "\n",
    "👉 anatomie d'une fonction : `nom_de_la_fonction(argument, argument, etc)`\n",
    "\n"
   ]
  },
  {
   "cell_type": "markdown",
   "metadata": {
    "slideshow": {
     "slide_type": "subslide"
    }
   },
   "source": [
    "Les instructions sont executées dans l'ordre où elles sont écrites "
   ]
  },
  {
   "cell_type": "code",
   "execution_count": 2,
   "metadata": {
    "slideshow": {
     "slide_type": "-"
    }
   },
   "outputs": [
    {
     "name": "stdout",
     "output_type": "stream",
     "text": [
      "hey\n",
      "you\n",
      "!\n"
     ]
    }
   ],
   "source": [
    "print('hey') # première instruction\n",
    "print('you') # deuxième instruction\n",
    "print('!') # troisième instruction"
   ]
  },
  {
   "cell_type": "markdown",
   "metadata": {
    "slideshow": {
     "slide_type": "subslide"
    }
   },
   "source": [
    "## Gestion des erreurs\n",
    "\n",
    "Un programme **plante** s'il contient des erreurs. Il affiche alors un `message d'erreur` indiquant la raison pour laquelle il s'est interrompu. \n",
    "\n",
    "Ce n'est **pas grave** de faire des erreurs. L'important c'est de savoir lire le message d'erreur pour trouver l'origine du problème et le résoudre."
   ]
  },
  {
   "cell_type": "markdown",
   "metadata": {
    "slideshow": {
     "slide_type": "subslide"
    }
   },
   "source": [
    "### Savoir lire un message d'erreur\n"
   ]
  },
  {
   "cell_type": "markdown",
   "metadata": {
    "slideshow": {
     "slide_type": "-"
    }
   },
   "source": [
    "```\n",
    "Traceback (most recent call last):\n",
    "  File \"<stdin>\", line 1, in <module>\n",
    "TypeError: unsupported operand type(s) for +: 'int' and 'str'\n",
    "```"
   ]
  },
  {
   "cell_type": "markdown",
   "metadata": {
    "slideshow": {
     "slide_type": "-"
    }
   },
   "source": [
    "```\n",
    "File \"<stdin>\", line 1\n",
    "  print(\"hello world)\n",
    "                    ^\n",
    "SyntaxError: EOL while scanning string literal\n",
    "```"
   ]
  },
  {
   "cell_type": "markdown",
   "metadata": {
    "slideshow": {
     "slide_type": "subslide"
    }
   },
   "source": [
    "```\n",
    " Traceback (most recent call last):  \n",
    " File \"{nom du script}\", line {numéro de ligne}, in <module>:`  \n",
    "   print(\"hello world) {<- citation de la ligne de code fautive}  \n",
    "                     ^ {<- pointeur}  \n",
    " {type d'erreur}: {description}  \n",
    "```\n",
    "---\n",
    "\n",
    "- `numéro de ligne` : numéro de la ligne fautive dans le script\n",
    "- `pointeur` :  indique non pas l'emplacement de l'erreur mais l'emplacement à partir duquel l'erreur fait planter le programme. Il faut parfois remonter quelques caractères ou quelques lignes plus haut pour trouver l'origine de l'erreur.\n",
    "- `{type d'erreur}` : NameError, SyntaxError, TypeError, ValueError, etc...\n",
    "- `description` : parfois suivi d'une suggestion de correction. Notez que dans certains cas une erreur dans le code conduit le programme a mal interpréter les instructions et donne une description de l'erreur inexacte."
   ]
  },
  {
   "cell_type": "markdown",
   "metadata": {
    "slideshow": {
     "slide_type": "subslide"
    }
   },
   "source": [
    "## Messages d'erreurs fréquents\n",
    "\n",
    "### Erreur n° 1 \"NameError\"\n",
    "\n",
    "```\n",
    "print(hello, world)\n",
    "Traceback (most recent call last):\n",
    "  File \"<stdin>\", line 1, in <module>\n",
    "NameError: name 'hello' is not defined\n",
    "```\n",
    "\n",
    "> On a fait référence à une variable qui n'existe pas. \n",
    "> - soit parce qu'on a oublié les \" autour d'une chaine de caractères\n",
    "> - soit parce qu'on a fait une faute en tapant le nom de la variable\n",
    "> - soit parce qu'on fait référence à une variable trop tôt dans le script (avant qu'elle ne soit créée)\n"
   ]
  },
  {
   "cell_type": "markdown",
   "metadata": {
    "slideshow": {
     "slide_type": "subslide"
    }
   },
   "source": [
    "### Erreur n° 2 \"SyntaxError\"\n",
    "\n",
    "\n",
    "```\n",
    "print \"hello world\"\n",
    "  File \"<stdin>\", line 1\n",
    "    print \"hello world\"\n",
    "          ^\n",
    "SyntaxError: Missing parentheses in call to 'print'. Did you mean print(\"hello world\")?\n",
    "``` \n",
    "\n",
    "> Le code ne respecte pas la syntaxe de Python\n",
    "> - \"EOL while scanning string literal\" : on a oublié de fermé une chaîne de caractère (EOL : end of line)\n",
    "> - \"Missing parentheses in ...\" : on a mal refermé un bloc entre parenthèse\n",
    "> - \"can't assign to literal\" : on essaie d'assigner une valeur à un nombre\n",
    "> - \"invalid syntax\" : message générique"
   ]
  },
  {
   "cell_type": "markdown",
   "metadata": {
    "slideshow": {
     "slide_type": "subslide"
    }
   },
   "source": [
    "## Accéder à la documentation\n",
    "\n",
    "En programmation, lire la documentation est essentiel.\n",
    "\n",
    "- soit la documentation officielle de Python : https://docs.python.org/fr/3/\n",
    "- soit en affichant un extrait de documentation grâce à la fonction `help()` "
   ]
  },
  {
   "cell_type": "code",
   "execution_count": 1,
   "metadata": {
    "slideshow": {
     "slide_type": "-"
    }
   },
   "outputs": [
    {
     "name": "stdout",
     "output_type": "stream",
     "text": [
      "Help on built-in function print in module builtins:\n",
      "\n",
      "print(...)\n",
      "    print(value, ..., sep=' ', end='\\n', file=sys.stdout, flush=False)\n",
      "    \n",
      "    Prints the values to a stream, or to sys.stdout by default.\n",
      "    Optional keyword arguments:\n",
      "    file:  a file-like object (stream); defaults to the current sys.stdout.\n",
      "    sep:   string inserted between values, default a space.\n",
      "    end:   string appended after the last value, default a newline.\n",
      "    flush: whether to forcibly flush the stream.\n",
      "\n"
     ]
    }
   ],
   "source": [
    "help(print)"
   ]
  },
  {
   "cell_type": "markdown",
   "metadata": {
    "slideshow": {
     "slide_type": "slide"
    }
   },
   "source": [
    "# Valeurs et variables"
   ]
  },
  {
   "cell_type": "markdown",
   "metadata": {
    "slideshow": {
     "slide_type": "subslide"
    }
   },
   "source": [
    "Il existe plusieurs types de valeurs possibles, les principales sont : \n",
    "\n",
    "- `string`, `str` (chaîne de caractères) : du texte écrit 'entre guillemets simples', \"doubles\" ou \"\"\"triples\"\"\". *Ex : \"21\"*\n",
    "- `integer`, `int` (entiers) : des nombres entiers. *Ex : 21*\n",
    "- `float`, `fl` (décimaux) : des nombre décimaux, Attention les décimaux sont après un point `.` et non une virgule (`,`). *Ex : 21.0* \n",
    "- `boolean`, `bool` (Booléen) : soit True, soit False\n",
    "\n",
    "> Attention !\n",
    ">\n",
    "> - \"3\" et 3 ne sont pas identiques !  \n",
    "> - 4 et 4.0 sont identiques  \n",
    "> - alors qu'on aura : 1, 14, 19, 40, 150  \n",
    "> - on aura : \"1\", \"14\", \"150\", \"19\", \"40\"  "
   ]
  },
  {
   "cell_type": "markdown",
   "metadata": {
    "slideshow": {
     "slide_type": "subslide"
    }
   },
   "source": [
    "Les variables sont des conteneurs permettant de sauvegarder temporairement des valeurs.\n",
    "\n",
    "👉 une variable porte un `nom`, contient une `valeur` et possède un `type`\n",
    "\n",
    "👉 la valeur et le type d'une variable peuvent changer mais pas son nom."
   ]
  },
  {
   "cell_type": "markdown",
   "metadata": {
    "slideshow": {
     "slide_type": "subslide"
    }
   },
   "source": [
    "## Assigner une valeur à une variable\n",
    "\n",
    "\n",
    "\n",
    "> `nom_de_variable = \"valeur de la variable\"`\n"
   ]
  },
  {
   "cell_type": "code",
   "execution_count": 6,
   "metadata": {
    "slideshow": {
     "slide_type": "-"
    }
   },
   "outputs": [
    {
     "name": "stdout",
     "output_type": "stream",
     "text": [
      "hello, world 1\n",
      "hello, world 2\n"
     ]
    }
   ],
   "source": [
    "print(\"hello, world 1\")  # affichage sans variable\n",
    "\n",
    "var = \"hello, world 2\"  # création de la variable \"var\" contenant une chaine de caractères\n",
    "\n",
    "print(var)  # affichage de la valeur contenu dans la variable \"var\""
   ]
  },
  {
   "cell_type": "code",
   "execution_count": 5,
   "metadata": {
    "slideshow": {
     "slide_type": "-"
    }
   },
   "outputs": [
    {
     "name": "stdout",
     "output_type": "stream",
     "text": [
      "world\n"
     ]
    }
   ],
   "source": [
    "varA = \"hello\"  # première assignation de valeur\n",
    "varA = \"world\"  # réassignation d'une nouvelle valeur\n",
    "\n",
    "print(varA)"
   ]
  },
  {
   "cell_type": "markdown",
   "metadata": {
    "slideshow": {
     "slide_type": "subslide"
    }
   },
   "source": [
    "## Nommer une variable \n",
    "\n",
    "👉 le nom de variable doit respecter les règles suivantes : \n",
    "- être une suite de caractères alphanumériques ou \"\\_\" (underscore) en majuscule ou minuscule\n",
    "- ne pas commencer par un chiffre\n",
    "- ne pas contenir de \"-\" (tiret) ou d'espace\n",
    "- ne pas être un `mot réservé` (35 mots-clefs + noms de fonctions built-in)\n",
    "- éviter les caractères non-ASCII (caractès accentués, emoji, etc)\n"
   ]
  },
  {
   "cell_type": "code",
   "execution_count": 1,
   "metadata": {
    "slideshow": {
     "slide_type": "-"
    }
   },
   "outputs": [
    {
     "name": "stdout",
     "output_type": "stream",
     "text": [
      "['False', 'None', 'True', 'and', 'as', 'assert', 'async', 'await', 'break', 'class', 'continue', 'def', 'del', 'elif', 'else', 'except', 'finally', 'for', 'from', 'global', 'if', 'import', 'in', 'is', 'lambda', 'nonlocal', 'not', 'or', 'pass', 'raise', 'return', 'try', 'while', 'with', 'yield']\n"
     ]
    }
   ],
   "source": [
    "#Pour savoir quels sont les \"mots réservés\"\n",
    "\n",
    "import keyword\n",
    "print(keyword.kwlist)"
   ]
  },
  {
   "cell_type": "code",
   "execution_count": 2,
   "metadata": {
    "slideshow": {
     "slide_type": "subslide"
    }
   },
   "outputs": [
    {
     "ename": "TypeError",
     "evalue": "'int' object is not callable",
     "output_type": "error",
     "traceback": [
      "\u001b[1;31m---------------------------------------------------------------------------\u001b[0m",
      "\u001b[1;31mTypeError\u001b[0m                                 Traceback (most recent call last)",
      "\u001b[1;32m<ipython-input-2-11b52f5eadb2>\u001b[0m in \u001b[0;36m<module>\u001b[1;34m\u001b[0m\n\u001b[0;32m      3\u001b[0m \u001b[0mhelp\u001b[0m \u001b[1;33m=\u001b[0m \u001b[1;36m666\u001b[0m\u001b[1;33m\u001b[0m\u001b[1;33m\u001b[0m\u001b[0m\n\u001b[0;32m      4\u001b[0m \u001b[1;31m# résultat : le mot \"help\" renvoie désormais à la variable et non plus à la fonction help()\u001b[0m\u001b[1;33m\u001b[0m\u001b[1;33m\u001b[0m\u001b[1;33m\u001b[0m\u001b[0m\n\u001b[1;32m----> 5\u001b[1;33m \u001b[0mhelp\u001b[0m\u001b[1;33m(\u001b[0m\u001b[0mprint\u001b[0m\u001b[1;33m)\u001b[0m\u001b[1;33m\u001b[0m\u001b[1;33m\u001b[0m\u001b[0m\n\u001b[0m",
      "\u001b[1;31mTypeError\u001b[0m: 'int' object is not callable"
     ]
    }
   ],
   "source": [
    "# Pourquoi il ne faut pas utiliser le nom d'une fonction built-in pour créer une variable : \n",
    "# On définit une variable nommée \"help\" contenant l'entier 666\n",
    "help = 666  \n",
    "# résultat : le mot \"help\" renvoie désormais à la variable et non plus à la fonction help()\n",
    "help(print)  "
   ]
  },
  {
   "cell_type": "code",
   "execution_count": 3,
   "metadata": {
    "slideshow": {
     "slide_type": "subslide"
    }
   },
   "outputs": [
    {
     "ename": "SyntaxError",
     "evalue": "invalid decimal literal (<ipython-input-3-6497af45ade4>, line 2)",
     "output_type": "error",
     "traceback": [
      "\u001b[1;36m  File \u001b[1;32m\"<ipython-input-3-6497af45ade4>\"\u001b[1;36m, line \u001b[1;32m2\u001b[0m\n\u001b[1;33m    1_does_not_work = 'ça ne marche pas'\u001b[0m\n\u001b[1;37m     ^\u001b[0m\n\u001b[1;31mSyntaxError\u001b[0m\u001b[1;31m:\u001b[0m invalid decimal literal\n"
     ]
    }
   ],
   "source": [
    "# On ne peut pas commencer le nom d'une variable par un chiffre\n",
    "1_does_not_work = 'ça ne marche pas'"
   ]
  },
  {
   "cell_type": "code",
   "execution_count": 3,
   "metadata": {
    "slideshow": {
     "slide_type": "-"
    }
   },
   "outputs": [
    {
     "ename": "SyntaxError",
     "evalue": "cannot assign to operator (<ipython-input-3-47797ba742ac>, line 2)",
     "output_type": "error",
     "traceback": [
      "\u001b[1;36m  File \u001b[1;32m\"<ipython-input-3-47797ba742ac>\"\u001b[1;36m, line \u001b[1;32m2\u001b[0m\n\u001b[1;33m    ma-variable = \"oups\"\u001b[0m\n\u001b[1;37m    ^\u001b[0m\n\u001b[1;31mSyntaxError\u001b[0m\u001b[1;31m:\u001b[0m cannot assign to operator\n"
     ]
    }
   ],
   "source": [
    "# Le nom d'une variable ne peut pas contenir de tiret (-)\n",
    "ma-variable = \"oups\""
   ]
  },
  {
   "cell_type": "code",
   "execution_count": 4,
   "metadata": {
    "slideshow": {
     "slide_type": "subslide"
    }
   },
   "outputs": [
    {
     "ename": "SyntaxError",
     "evalue": "invalid syntax (<ipython-input-4-53cd3fcbc277>, line 2)",
     "output_type": "error",
     "traceback": [
      "\u001b[1;36m  File \u001b[1;32m\"<ipython-input-4-53cd3fcbc277>\"\u001b[1;36m, line \u001b[1;32m2\u001b[0m\n\u001b[1;33m    ma variable = \"Toujours pas\"\u001b[0m\n\u001b[1;37m       ^\u001b[0m\n\u001b[1;31mSyntaxError\u001b[0m\u001b[1;31m:\u001b[0m invalid syntax\n"
     ]
    }
   ],
   "source": [
    "# ne pas contenir d'espace\n",
    "ma variable = \"Toujours pas\""
   ]
  },
  {
   "cell_type": "code",
   "execution_count": 8,
   "metadata": {
    "slideshow": {
     "slide_type": "-"
    }
   },
   "outputs": [
    {
     "ename": "SyntaxError",
     "evalue": "invalid syntax (<ipython-input-8-40194925f324>, line 1)",
     "output_type": "error",
     "traceback": [
      "\u001b[1;36m  File \u001b[1;32m\"<ipython-input-8-40194925f324>\"\u001b[1;36m, line \u001b[1;32m1\u001b[0m\n\u001b[1;33m    lambda = \"ceci est un mot réservé\"\u001b[0m\n\u001b[1;37m           ^\u001b[0m\n\u001b[1;31mSyntaxError\u001b[0m\u001b[1;31m:\u001b[0m invalid syntax\n"
     ]
    }
   ],
   "source": [
    "lambda = \"ceci est un mot réservé\""
   ]
  },
  {
   "cell_type": "markdown",
   "metadata": {
    "slideshow": {
     "slide_type": "subslide"
    }
   },
   "source": [
    "## Convention et bonnes pratiques de nommage\n",
    "\n",
    "Il existe deux manières conventionnelles de former des noms de variables contenant plusieurs mots : "
   ]
  },
  {
   "cell_type": "code",
   "execution_count": 10,
   "metadata": {
    "slideshow": {
     "slide_type": "-"
    }
   },
   "outputs": [],
   "source": [
    "# le camelCase\n",
    "maVariable = \"Une bosse ou deux bosses ?\" \n",
    "\n",
    "# le snake_case\n",
    "ma_variable = \"DJ Snake\""
   ]
  },
  {
   "cell_type": "markdown",
   "metadata": {
    "slideshow": {
     "slide_type": "-"
    }
   },
   "source": [
    "Il est recommandé d'utiliser : \n",
    "- des noms de variables clairs et explicites (`mon_document` plutôt que `var1`)\n",
    "- des noms de variables non ambigus (`varl` et `var1` se ressemblent)\n",
    "\n",
    "👉 https://www.python.org/dev/peps/pep-0008/#naming-conventions"
   ]
  },
  {
   "cell_type": "markdown",
   "metadata": {
    "slideshow": {
     "slide_type": "subslide"
    }
   },
   "source": [
    "## Typage dynamique\n",
    "\n",
    "Le type d'une variable fait référence au type d'objet / de valeur qu'elle contient. En Python, le `typage est dynamique`, contrairement à d'autres programmes, comme C ou Javascript, où on doit annoncer le type d'une variable au moment de sa création.\n",
    "\n",
    "```c\n",
    "// en c\n",
    "int nombre_d_eleves = 20\n",
    "``` \n",
    "\n",
    "```python\n",
    "# en python\n",
    "nombdre_d_eleves = 20\n",
    "``` "
   ]
  },
  {
   "cell_type": "markdown",
   "metadata": {
    "slideshow": {
     "slide_type": "subslide"
    }
   },
   "source": [
    "En Python, si on change la valeur d'une variable par une valeur d'un type différent, le type de la variable change automatiquement.\n",
    "\n",
    "```python\n",
    "mon_chiffre = 7  # variable de type \"int\"\n",
    "mon_chiffre = \"sept\"  # variable de type \"str\"\n",
    "```\n",
    "\n",
    "Pour connaître le type d'une variable, on utilise la fonction built-in `type()` "
   ]
  },
  {
   "cell_type": "code",
   "execution_count": 11,
   "metadata": {
    "slideshow": {
     "slide_type": "-"
    }
   },
   "outputs": [
    {
     "name": "stdout",
     "output_type": "stream",
     "text": [
      "7  =  <class 'int'>\n",
      "sept  =  <class 'str'>\n"
     ]
    }
   ],
   "source": [
    "mon_chiffre = 7\n",
    "print(mon_chiffre, \" = \", type(mon_chiffre))  \n",
    "\n",
    "mon_chiffre = \"sept\"\n",
    "print(mon_chiffre, \" = \", type(mon_chiffre))"
   ]
  },
  {
   "cell_type": "markdown",
   "metadata": {
    "slideshow": {
     "slide_type": "slide"
    }
   },
   "source": [
    "# Opérations arithmétiques\n"
   ]
  },
  {
   "cell_type": "markdown",
   "metadata": {
    "slideshow": {
     "slide_type": "subslide"
    }
   },
   "source": [
    "Les opérations arithmétiques sont l'une des premières manipulations qu'il est possible de faire avec des valeurs et des variables. \n",
    "\n",
    "On peut additionner (`+`) des valeurs, les soustraire (`-`), les multiplier (`*`), les diviser selon plusieurs méthodes (`/`, `//`) ou récupérer le reste d'une division entière (`%`), etc. \n",
    "\n",
    "```\n",
    "a = 4\n",
    "b = 2 + a\n",
    "c = b * a\n",
    "```"
   ]
  },
  {
   "cell_type": "markdown",
   "metadata": {
    "slideshow": {
     "slide_type": "subslide"
    }
   },
   "source": [
    "## Addition : `+`"
   ]
  },
  {
   "cell_type": "code",
   "execution_count": 27,
   "metadata": {
    "slideshow": {
     "slide_type": "-"
    }
   },
   "outputs": [
    {
     "name": "stdout",
     "output_type": "stream",
     "text": [
      "2\n",
      "3.0\n",
      "ab\n"
     ]
    }
   ],
   "source": [
    "addition_int = 1 + 1  # addition de 2 entiers\n",
    "addition_float = 1.0 + 2  # addition d'un décimal et d'un entier\n",
    "addition_str = \"a\" + \"b\"  # addition de deux chaines de caractères\n",
    "\n",
    "print(addition_int, addition_float, addition_str, sep=\"\\n\")"
   ]
  },
  {
   "cell_type": "markdown",
   "metadata": {
    "slideshow": {
     "slide_type": "subslide"
    }
   },
   "source": [
    "## Soustraction : `-`"
   ]
  },
  {
   "cell_type": "code",
   "execution_count": 30,
   "metadata": {
    "slideshow": {
     "slide_type": "-"
    }
   },
   "outputs": [
    {
     "name": "stdout",
     "output_type": "stream",
     "text": [
      "-2\n",
      "4.199999999999999\n"
     ]
    }
   ],
   "source": [
    "substraction_int = 2 - 4  # soustraction de 2 entiers\n",
    "substraction_float = 12.6 - 8.4  # soustraction d'un décimal et d'un entier\n",
    "\n",
    "print(substraction_int, substraction_float, sep=\"\\n\")"
   ]
  },
  {
   "cell_type": "code",
   "execution_count": 31,
   "metadata": {
    "slideshow": {
     "slide_type": "-"
    }
   },
   "outputs": [
    {
     "ename": "TypeError",
     "evalue": "unsupported operand type(s) for -: 'str' and 'str'",
     "output_type": "error",
     "traceback": [
      "\u001b[0;31m---------------------------------------------------------------------------\u001b[0m",
      "\u001b[0;31mTypeError\u001b[0m                                 Traceback (most recent call last)",
      "\u001b[0;32m<ipython-input-31-d1c41d5bcf59>\u001b[0m in \u001b[0;36m<module>\u001b[0;34m\u001b[0m\n\u001b[0;32m----> 1\u001b[0;31m \u001b[0msubstraction_str\u001b[0m \u001b[0;34m=\u001b[0m \u001b[0;34m\"hello\"\u001b[0m \u001b[0;34m-\u001b[0m \u001b[0;34m\"world\"\u001b[0m  \u001b[0;31m# on ne peut pas soustraire deux chaines de caractères\u001b[0m\u001b[0;34m\u001b[0m\u001b[0;34m\u001b[0m\u001b[0m\n\u001b[0m",
      "\u001b[0;31mTypeError\u001b[0m: unsupported operand type(s) for -: 'str' and 'str'"
     ]
    }
   ],
   "source": [
    "substraction_str = \"hello\" - \"world\"  # on ne peut pas soustraire deux chaines de caractères"
   ]
  },
  {
   "cell_type": "markdown",
   "metadata": {
    "slideshow": {
     "slide_type": "subslide"
    }
   },
   "source": [
    "## Multiplication : `*`"
   ]
  },
  {
   "cell_type": "code",
   "execution_count": 37,
   "metadata": {
    "slideshow": {
     "slide_type": "-"
    }
   },
   "outputs": [
    {
     "name": "stdout",
     "output_type": "stream",
     "text": [
      "20.0\n",
      "multimultimulti\n"
     ]
    }
   ],
   "source": [
    "multiplication = 2 * 10.0  # multiplication d'un entier et un décimal\n",
    "\n",
    "multiplication_str = \"multi\" * 3  # multiplication d'une chaine de caractère et d'un entier\n",
    "\n",
    "print(multiplication, multiplication_str, sep=\"\\n\")"
   ]
  },
  {
   "cell_type": "markdown",
   "metadata": {
    "slideshow": {
     "slide_type": "subslide"
    }
   },
   "source": [
    "## Division et reste : `/`, `%` et `//`"
   ]
  },
  {
   "cell_type": "code",
   "execution_count": 16,
   "metadata": {
    "slideshow": {
     "slide_type": "-"
    }
   },
   "outputs": [
    {
     "name": "stdout",
     "output_type": "stream",
     "text": [
      "5.142857142857143\n",
      "5\n",
      "1.0\n",
      "1\n"
     ]
    }
   ],
   "source": [
    "division = 36 / 7  # la division de 2 entiers produit toujours un décimal\n",
    "division_tronquée = 36 // 7  # une division tronquée produit toujours un entier\n",
    "reste_decimal = 36 % 7.0\n",
    "reste_entier = 36 % 7\n",
    "\n",
    "print(division, division_tronquée, reste_decimal, reste_entier, sep=\"\\n\")"
   ]
  },
  {
   "cell_type": "code",
   "execution_count": 20,
   "metadata": {
    "slideshow": {
     "slide_type": "-"
    }
   },
   "outputs": [
    {
     "ename": "TypeError",
     "evalue": "unsupported operand type(s) for //: 'str' and 'int'",
     "output_type": "error",
     "traceback": [
      "\u001b[0;31m---------------------------------------------------------------------------\u001b[0m",
      "\u001b[0;31mTypeError\u001b[0m                                 Traceback (most recent call last)",
      "\u001b[0;32m<ipython-input-20-0e24fe7ac070>\u001b[0m in \u001b[0;36m<module>\u001b[0;34m\u001b[0m\n\u001b[0;32m----> 1\u001b[0;31m \u001b[0mdivision_string\u001b[0m \u001b[0;34m=\u001b[0m \u001b[0;34m\"blabla\"\u001b[0m \u001b[0;34m//\u001b[0m \u001b[0;36m2\u001b[0m\u001b[0;34m\u001b[0m\u001b[0;34m\u001b[0m\u001b[0m\n\u001b[0m",
      "\u001b[0;31mTypeError\u001b[0m: unsupported operand type(s) for //: 'str' and 'int'"
     ]
    }
   ],
   "source": [
    "division_string = \"blabla\" // 2  # on ne peut pas diviser une chaine de caractères"
   ]
  },
  {
   "cell_type": "markdown",
   "metadata": {
    "slideshow": {
     "slide_type": "subslide"
    }
   },
   "source": [
    "## Exposant : `**`"
   ]
  },
  {
   "cell_type": "code",
   "execution_count": 21,
   "metadata": {
    "slideshow": {
     "slide_type": "-"
    }
   },
   "outputs": [
    {
     "data": {
      "text/plain": [
       "10000"
      ]
     },
     "execution_count": 21,
     "metadata": {},
     "output_type": "execute_result"
    }
   ],
   "source": [
    "10 ** 4  # 10^4"
   ]
  },
  {
   "cell_type": "markdown",
   "metadata": {
    "slideshow": {
     "slide_type": "subslide"
    }
   },
   "source": [
    "## Priorités\n",
    "\n",
    "Comme en mathématiques, les parenthèses `()` permettent de définir les priorités : "
   ]
  },
  {
   "cell_type": "code",
   "execution_count": 22,
   "metadata": {
    "slideshow": {
     "slide_type": "-"
    }
   },
   "outputs": [
    {
     "name": "stdout",
     "output_type": "stream",
     "text": [
      "54.0\n",
      "6.0\n"
     ]
    }
   ],
   "source": [
    "sans_parenthese = 36 / 2 * 3\n",
    "avec_parenthese = 36 / (2 * 3)\n",
    "print(sans_parenthese, avec_parenthese, sep=\"\\n\")"
   ]
  },
  {
   "cell_type": "markdown",
   "metadata": {
    "slideshow": {
     "slide_type": "subslide"
    }
   },
   "source": [
    "## (In)compatibilités\n",
    "\n",
    "On ne peut pas `concaténer` (additionner) certains types :"
   ]
  },
  {
   "cell_type": "code",
   "execution_count": 25,
   "metadata": {
    "slideshow": {
     "slide_type": "-"
    }
   },
   "outputs": [
    {
     "ename": "TypeError",
     "evalue": "can only concatenate str (not \"int\") to str",
     "output_type": "error",
     "traceback": [
      "\u001b[0;31m---------------------------------------------------------------------------\u001b[0m",
      "\u001b[0;31mTypeError\u001b[0m                                 Traceback (most recent call last)",
      "\u001b[0;32m<ipython-input-25-3baee1551631>\u001b[0m in \u001b[0;36m<module>\u001b[0;34m\u001b[0m\n\u001b[0;32m----> 1\u001b[0;31m \u001b[0;34m\"hello\"\u001b[0m \u001b[0;34m+\u001b[0m \u001b[0;36m42\u001b[0m\u001b[0;34m\u001b[0m\u001b[0;34m\u001b[0m\u001b[0m\n\u001b[0m",
      "\u001b[0;31mTypeError\u001b[0m: can only concatenate str (not \"int\") to str"
     ]
    }
   ],
   "source": [
    "\"hello\" + 42"
   ]
  },
  {
   "cell_type": "markdown",
   "metadata": {
    "slideshow": {
     "slide_type": "-"
    }
   },
   "source": [
    "Tandis que d'autres types de données sont plus souples :"
   ]
  },
  {
   "cell_type": "code",
   "execution_count": 28,
   "metadata": {
    "slideshow": {
     "slide_type": "-"
    }
   },
   "outputs": [
    {
     "data": {
      "text/plain": [
       "18.21"
      ]
     },
     "execution_count": 28,
     "metadata": {},
     "output_type": "execute_result"
    }
   ],
   "source": [
    "15 + 3.21"
   ]
  },
  {
   "cell_type": "markdown",
   "metadata": {
    "slideshow": {
     "slide_type": "slide"
    }
   },
   "source": [
    "# Convertir des objets"
   ]
  },
  {
   "cell_type": "markdown",
   "metadata": {
    "slideshow": {
     "slide_type": "subslide"
    }
   },
   "source": [
    "Certaines fonctions permettent de changer le type d'un objet, à condition que la valeur de cet objet puisse être transférée vers un nouveau type. Ces fonctions sont : `str()`, `int()`, `float()`, `bool()`. Il en existe d'autres pour d'autres types de valeurs que nous verrons plus tard."
   ]
  },
  {
   "cell_type": "markdown",
   "metadata": {
    "slideshow": {
     "slide_type": "-"
    }
   },
   "source": [
    "- `str(21)` donnera `\"21\"`\n",
    "- `int(41.69)` donnera `41`\n",
    "- `bool(1)` donnera `True`\n",
    "- `float(\"4\")` donnera `4.0`\n",
    "- par contre on ne peut pas faire `int(\"ma chaine de caractères\")`"
   ]
  },
  {
   "cell_type": "code",
   "execution_count": 1,
   "metadata": {
    "slideshow": {
     "slide_type": "skip"
    }
   },
   "outputs": [],
   "source": [
    "var_int = 4\n",
    "var_float = 18.21\n",
    "var_bool = False\n",
    "var_str = \"soixante\""
   ]
  },
  {
   "cell_type": "markdown",
   "metadata": {
    "slideshow": {
     "slide_type": "subslide"
    }
   },
   "source": [
    "## `str()`"
   ]
  },
  {
   "cell_type": "code",
   "execution_count": 59,
   "metadata": {
    "slideshow": {
     "slide_type": "-"
    }
   },
   "outputs": [
    {
     "name": "stdout",
     "output_type": "stream",
     "text": [
      "<class 'int'> ==> <class 'str'>\n",
      "<class 'bool'> ==> <class 'str'>\n",
      "<class 'float'> ==> <class 'str'>\n"
     ]
    }
   ],
   "source": [
    "# str() : transformer en chaîne de caractères\n",
    "print(type(var_int), type(str(var_int)), sep = \" ==> \")\n",
    "print(type(var_bool), type(str(var_bool)), sep = \" ==> \")\n",
    "print(type(56.5), type(str(56.5)), sep = \" ==> \")"
   ]
  },
  {
   "cell_type": "markdown",
   "metadata": {
    "slideshow": {
     "slide_type": "subslide"
    }
   },
   "source": [
    "## `int()`"
   ]
  },
  {
   "cell_type": "code",
   "execution_count": 60,
   "metadata": {
    "slideshow": {
     "slide_type": "-"
    }
   },
   "outputs": [
    {
     "name": "stdout",
     "output_type": "stream",
     "text": [
      "<class 'float'> ==> <class 'int'>\n",
      "<class 'float'> ==> <class 'int'>\n",
      "<class 'str'> ==> <class 'int'>\n"
     ]
    }
   ],
   "source": [
    "# int() : transformer en entier\n",
    "print(type(var_float), type(int(var_float)), sep = \" ==> \")\n",
    "print(type(56.5), type(int(56.5)), sep = \" ==> \")\n",
    "print(type(\"42\"), type(int(\"42\")), sep = \" ==> \")"
   ]
  },
  {
   "cell_type": "code",
   "execution_count": 61,
   "metadata": {
    "slideshow": {
     "slide_type": "-"
    }
   },
   "outputs": [
    {
     "name": "stdout",
     "output_type": "stream",
     "text": [
      "<class 'bool'> ==> <class 'int'>\n",
      "False ==> 0\n"
     ]
    }
   ],
   "source": [
    "# spécificité quand on transforme un booléen en entier\n",
    "print(type(var_bool), type(int(var_bool)), sep = \" ==> \")\n",
    "print(var_bool, int(var_bool), sep = \" ==> \")"
   ]
  },
  {
   "cell_type": "code",
   "execution_count": 63,
   "metadata": {
    "slideshow": {
     "slide_type": "-"
    }
   },
   "outputs": [
    {
     "ename": "ValueError",
     "evalue": "invalid literal for int() with base 10: 'soixante'",
     "output_type": "error",
     "traceback": [
      "\u001b[0;31m---------------------------------------------------------------------------\u001b[0m",
      "\u001b[0;31mValueError\u001b[0m                                Traceback (most recent call last)",
      "\u001b[0;32m<ipython-input-63-3a384075590f>\u001b[0m in \u001b[0;36m<module>\u001b[0;34m\u001b[0m\n\u001b[1;32m      1\u001b[0m \u001b[0;31m# toutes les chaines de caractères ne sont pas convertibles en entiers\u001b[0m\u001b[0;34m\u001b[0m\u001b[0;34m\u001b[0m\u001b[0;34m\u001b[0m\u001b[0m\n\u001b[0;32m----> 2\u001b[0;31m \u001b[0mprint\u001b[0m\u001b[0;34m(\u001b[0m\u001b[0mtype\u001b[0m\u001b[0;34m(\u001b[0m\u001b[0mvar_str\u001b[0m\u001b[0;34m)\u001b[0m\u001b[0;34m,\u001b[0m \u001b[0mtype\u001b[0m\u001b[0;34m(\u001b[0m\u001b[0mint\u001b[0m\u001b[0;34m(\u001b[0m\u001b[0mvar_str\u001b[0m\u001b[0;34m)\u001b[0m\u001b[0;34m)\u001b[0m\u001b[0;34m,\u001b[0m \u001b[0msep\u001b[0m \u001b[0;34m=\u001b[0m \u001b[0;34m\" ==> \"\u001b[0m\u001b[0;34m)\u001b[0m\u001b[0;34m\u001b[0m\u001b[0;34m\u001b[0m\u001b[0m\n\u001b[0m",
      "\u001b[0;31mValueError\u001b[0m: invalid literal for int() with base 10: 'soixante'"
     ]
    }
   ],
   "source": [
    "# toutes les chaines de caractères ne sont pas convertibles en entiers\n",
    "print(type(var_str), type(int(var_str)), sep = \" ==> \")"
   ]
  },
  {
   "cell_type": "markdown",
   "metadata": {
    "slideshow": {
     "slide_type": "subslide"
    }
   },
   "source": [
    "## `float()`"
   ]
  },
  {
   "cell_type": "code",
   "execution_count": 71,
   "metadata": {
    "slideshow": {
     "slide_type": "-"
    }
   },
   "outputs": [
    {
     "name": "stdout",
     "output_type": "stream",
     "text": [
      "<class 'int'> ==> <class 'float'>\n",
      "<class 'str'> ==> <class 'float'>\n"
     ]
    }
   ],
   "source": [
    "# float() : transformer en décimal\n",
    "print(type(var_int), type(float(var_int)), sep=\" ==> \")\n",
    "print(type(\"42\"), type(float(\"42\")), sep = \" ==> \")"
   ]
  },
  {
   "cell_type": "code",
   "execution_count": 72,
   "metadata": {},
   "outputs": [
    {
     "name": "stdout",
     "output_type": "stream",
     "text": [
      "<class 'bool'> ==> <class 'float'>\n",
      "False ==> 0.0\n"
     ]
    }
   ],
   "source": [
    "# spécificité quand on transforme un booléen en décimal\n",
    "print(type(var_bool), type(float(var_bool)), sep = \" ==> \")\n",
    "print(var_bool, float(var_bool), sep = \" ==> \")"
   ]
  },
  {
   "cell_type": "code",
   "execution_count": 73,
   "metadata": {
    "slideshow": {
     "slide_type": "-"
    }
   },
   "outputs": [
    {
     "ename": "ValueError",
     "evalue": "could not convert string to float: 'soixante'",
     "output_type": "error",
     "traceback": [
      "\u001b[0;31m---------------------------------------------------------------------------\u001b[0m",
      "\u001b[0;31mValueError\u001b[0m                                Traceback (most recent call last)",
      "\u001b[0;32m<ipython-input-73-340baff32a83>\u001b[0m in \u001b[0;36m<module>\u001b[0;34m\u001b[0m\n\u001b[0;32m----> 1\u001b[0;31m \u001b[0mprint\u001b[0m\u001b[0;34m(\u001b[0m\u001b[0mtype\u001b[0m\u001b[0;34m(\u001b[0m\u001b[0mvar_str\u001b[0m\u001b[0;34m)\u001b[0m\u001b[0;34m,\u001b[0m \u001b[0mtype\u001b[0m\u001b[0;34m(\u001b[0m\u001b[0mfloat\u001b[0m\u001b[0;34m(\u001b[0m\u001b[0mvar_str\u001b[0m\u001b[0;34m)\u001b[0m\u001b[0;34m)\u001b[0m\u001b[0;34m,\u001b[0m \u001b[0msep\u001b[0m \u001b[0;34m=\u001b[0m \u001b[0;34m\" ==> \"\u001b[0m\u001b[0;34m)\u001b[0m\u001b[0;34m\u001b[0m\u001b[0;34m\u001b[0m\u001b[0m\n\u001b[0m",
      "\u001b[0;31mValueError\u001b[0m: could not convert string to float: 'soixante'"
     ]
    }
   ],
   "source": [
    "print(type(var_str), type(float(var_str)), sep = \" ==> \")"
   ]
  },
  {
   "cell_type": "markdown",
   "metadata": {
    "slideshow": {
     "slide_type": "subslide"
    }
   },
   "source": [
    "## `bool()` "
   ]
  },
  {
   "cell_type": "code",
   "execution_count": 82,
   "metadata": {
    "slideshow": {
     "slide_type": "-"
    }
   },
   "outputs": [
    {
     "name": "stdout",
     "output_type": "stream",
     "text": [
      "<class 'float'> ==> <class 'bool'>\n",
      "<class 'int'> ==> <class 'bool'>\n",
      "<class 'str'> ==> <class 'bool'>\n"
     ]
    }
   ],
   "source": [
    "# bool() : transformer en booléen\n",
    "print(type(var_float), type(bool(var_float)), sep=\" ==> \")\n",
    "\n",
    "print(type(var_int), type(bool(var_int)), sep=\" ==> \")\n",
    "\n",
    "print(type(var_str), type(bool(var_str)), sep = \" ==> \")"
   ]
  },
  {
   "cell_type": "code",
   "execution_count": 85,
   "metadata": {
    "slideshow": {
     "slide_type": "subslide"
    }
   },
   "outputs": [
    {
     "name": "stdout",
     "output_type": "stream",
     "text": [
      "<class 'float'> ==> <class 'bool'>\n",
      "18.21 ==> True\n",
      "<class 'int'> ==> <class 'bool'>\n",
      "4 ==> True\n",
      "<class 'str'> ==> <class 'bool'>\n",
      "soixante ==> True\n"
     ]
    }
   ],
   "source": [
    "# Mais quel booléen ?\n",
    "print(type(var_float), type(bool(var_float)), sep=\" ==> \")\n",
    "print(var_float, bool(var_float), sep=\" ==> \")\n",
    "\n",
    "print(type(var_int), type(bool(var_int)), sep=\" ==> \")\n",
    "print(var_int, bool(var_int), sep=\" ==> \")\n",
    "\n",
    "print(type(var_str), type(bool(var_str)), sep = \" ==> \")\n",
    "print(var_str, bool(var_str), sep = \" ==> \")"
   ]
  },
  {
   "cell_type": "code",
   "execution_count": 84,
   "metadata": {
    "slideshow": {
     "slide_type": "subslide"
    }
   },
   "outputs": [
    {
     "name": "stdout",
     "output_type": "stream",
     "text": [
      "<class 'str'> ==> <class 'bool'>\n",
      "False ==> True\n",
      "<class 'str'> ==> <class 'bool'>\n",
      " ==> False\n",
      "<class 'int'> ==> <class 'bool'>\n",
      "0 ==> False\n",
      "<class 'NoneType'> ==> <class 'bool'>\n",
      "None ==> False\n"
     ]
    }
   ],
   "source": [
    "# A quel moments obtient-on \"False\"\n",
    "print(type(\"False\"), type(bool(\"False\")), sep = \" ==> \")\n",
    "print(\"False\", bool(\"False\"), sep = \" ==> \")\n",
    "\n",
    "print(type(\"\"), type(bool(\"\")), sep = \" ==> \")\n",
    "print(\"\", bool(\"\"), sep = \" ==> \")\n",
    "\n",
    "print(type(0), type(bool(0)), sep = \" ==> \")\n",
    "print(0, bool(0), sep = \" ==> \")\n",
    "\n",
    "print(type(None), type(bool(None)), sep = \" ==> \")\n",
    "print(None, bool(None), sep = \" ==> \")"
   ]
  },
  {
   "cell_type": "markdown",
   "metadata": {
    "slideshow": {
     "slide_type": "slide"
    }
   },
   "source": [
    "# Exercices logiques"
   ]
  },
  {
   "cell_type": "markdown",
   "metadata": {
    "slideshow": {
     "slide_type": "subslide"
    }
   },
   "source": [
    "## Exercice 1 \n",
    "\n",
    "En utilisant des opérateurs arithmétiques et une variable, écrivez un algorithme permettant d'obtenir l'affichage suivant : \n",
    "\n",
    "```\n",
    "3 x 0 = 0\n",
    "3 x 1 = 3\n",
    "3 x 2 = 6\n",
    "3 x 3 = 9\n",
    "3 x 4 = 12\n",
    "3 x 5 = 15\n",
    "```"
   ]
  },
  {
   "cell_type": "markdown",
   "metadata": {
    "slideshow": {
     "slide_type": "subslide"
    }
   },
   "source": [
    "## Exercice 2\n",
    "\n",
    "Ecrivez un script Python appliquant l'algorithme de l'exercice 1."
   ]
  },
  {
   "cell_type": "markdown",
   "metadata": {
    "slideshow": {
     "slide_type": "subslide"
    }
   },
   "source": [
    "## Exercice 3\n",
    "\n",
    "**A.** Ecrire un algorithme pour un programme permettant de créer automatiquement un pseudo à partir du nom, du prénom et de la longueur de ces deux éléments.\n",
    "\n",
    "Vous pouvez également varier en utilisant la date de naissance de l'utilisateur-rice."
   ]
  },
  {
   "cell_type": "markdown",
   "metadata": {
    "slideshow": {
     "slide_type": "fragment"
    }
   },
   "source": [
    "**B.** Rédiger ce programme en Python, étant donné que : \n",
    "- `input()` permet de demander à l'utilisateur-rice d'entrée un valeur\n",
    "- `len()` permet de connaître la taille d'une valeur"
   ]
  },
  {
   "cell_type": "markdown",
   "metadata": {
    "slideshow": {
     "slide_type": "slide"
    }
   },
   "source": [
    "# Exercices pratiques\n"
   ]
  },
  {
   "cell_type": "markdown",
   "metadata": {
    "slideshow": {
     "slide_type": "subslide"
    }
   },
   "source": [
    "## Exercice 1\n",
    "\n",
    "Réaliser les 6 exercices du fichier `variables.py`\n",
    "\n",
    "### 👉 https://repl.it/@AlixChagu/ENCintroalgo#basics/variables.py\n",
    "\n",
    "\n"
   ]
  }
 ],
 "metadata": {
  "celltoolbar": "Diaporama",
  "kernelspec": {
   "display_name": "Python 3",
   "language": "python",
   "name": "python3"
  },
  "language_info": {
   "codemirror_mode": {
    "name": "ipython",
    "version": 3
   },
   "file_extension": ".py",
   "mimetype": "text/x-python",
   "name": "python",
   "nbconvert_exporter": "python",
   "pygments_lexer": "ipython3",
   "version": "3.8.3"
  }
 },
 "nbformat": 4,
 "nbformat_minor": 4
}
